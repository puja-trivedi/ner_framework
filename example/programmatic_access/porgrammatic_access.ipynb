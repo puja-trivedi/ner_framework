{
 "cells": [
  {
   "cell_type": "markdown",
   "id": "924f418f-41b9-4cd8-8199-c0863bfa45ad",
   "metadata": {},
   "source": [
    "# Environment Variables"
   ]
  },
  {
   "cell_type": "code",
   "execution_count": 1,
   "id": "1d10714a-8647-4d65-aff4-f7fc4e100a2e",
   "metadata": {},
   "outputs": [
    {
     "name": "stdout",
     "output_type": "stream",
     "text": [
      "env: ENABLE_WEIGHTSANDBIAS=false\n",
      "env: ENABLE_MLFLOW=false\n",
      "env: ENABLE_KG_SOURCE=false\n",
      "env: ONTOLOGY_DATABASE=Ontology_database_agent_test #note this is my local vectordatabase name, we need this because ENABLE_KG_SOURCE=true\n",
      "env: WEAVIATE_API_KEY=\"XFG!NQmUVEC&8\" #note this is my local vectordatabase key\n",
      "env: OLLAMA_API_ENDPOINT=http://host.docker.internal:11434 #note this is my local vectordatabase name\n",
      "env: OLLAMA_MODEL=nomic-embed-text #note this is my local vectordatabase name\n"
     ]
    }
   ],
   "source": [
    "%env ENABLE_WEIGHTSANDBIAS=false\n",
    "%env ENABLE_MLFLOW=false\n",
    "%env ENABLE_KG_SOURCE=true\n",
    "%env ONTOLOGY_DATABASE=Ontology_database_agent_test #note this is my local vectordatabase name, we need this because ENABLE_KG_SOURCE=true\n",
    "%env WEAVIATE_API_KEY=\"1#FG!NsmUVEs\" #note this is my local vectordatabase key\n",
    "%env OLLAMA_API_ENDPOINT=http://host.docker.internal:11434 #note this is my local vectordatabase name\n",
    "%env OLLAMA_MODEL=nomic-embed-text #note this is my local vectordatabase name"
   ]
  },
  {
   "cell_type": "markdown",
   "id": "a0466c43-b37a-4f89-ae72-d5603d88ebc9",
   "metadata": {},
   "source": [
    "# Configuration Files"
   ]
  },
  {
   "cell_type": "code",
   "execution_count": null,
   "id": "66d45f86-6080-47bb-89df-f87914ce6ee8",
   "metadata": {},
   "outputs": [],
   "source": []
  },
  {
   "cell_type": "code",
   "execution_count": 15,
   "id": "e4196152-aa52-4551-902b-995521b83c8c",
   "metadata": {},
   "outputs": [],
   "source": [
    "import json"
   ]
  },
  {
   "cell_type": "code",
   "execution_count": 4,
   "id": "e5e3214b-3128-4638-b043-c22dbb948b83",
   "metadata": {},
   "outputs": [],
   "source": [
    "agent_config = {\n",
    "    \"extractor_agent\": {\n",
    "        \"role\": \"Neuroscience Named Entity Recognition (NER) Extractor Agent\",\n",
    "        \"goal\": \"Perform Named Entity Recognition (NER) on neuroscience {literature} and return structured JSON output.\",\n",
    "        \"backstory\": (\n",
    "            \"You are an AI assistant specialized in processing neuroscience and who do not hallucinate. \"\n",
    "            \"Your expertise includes recognizing and categorizing named entities such as anatomical regions, \"\n",
    "            \"experimental conditions, and cell types. Your responses strictly adhere to JSON format, ensuring \"\n",
    "            \"accurate and structured data extraction for downstream applications.\"\n",
    "        ),\n",
    "        \"llm\": {\n",
    "            \"model\": \"openrouter/openai/gpt-4o-2024-11-20\",\n",
    "            \"base_url\": \"https://openrouter.ai/api/v1\",\n",
    "            \"frequency_penalty\": 0.1,\n",
    "            \"temperature\": 0.7,\n",
    "            \"seed\": 53,\n",
    "            \"api_key\": \"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\"\n",
    "        }\n",
    "    },\n",
    "    \"alignment_agent\": {\n",
    "        \"role\": \"Neuroscience Named Entity Recognition (NER) Concept Alignment Agent\",\n",
    "        \"goal\": \"Perform concept alignment to the extracted Named Entity Recognition (NER) by extractor_agent {extracted_structured_information} and return structured JSON output.\",\n",
    "        \"backstory\": (\n",
    "            \"You are an AI assistant specialized in processing neuroscience concept alignment with structured models, \"\n",
    "            \"i.e., ontologies or schemas and who do not hallucinate. Your expertise includes recognizing and categorizing \"\n",
    "            \"extracted named entities such as anatomical regions, experimental conditions, and cell types and aligning the \"\n",
    "            \"recognized named entities such as cell types with corresponding ontological terms. Your responses strictly \"\n",
    "            \"adhere to JSON format, ensuring accurate and structured data extraction for downstream applications.\"\n",
    "        ),\n",
    "        \"llm\": {\n",
    "            \"model\": \"openrouter/openai/gpt-4o-2024-11-20\",\n",
    "            \"base_url\": \"https://openrouter.ai/api/v1\",\n",
    "            \"frequency_penalty\": 0.1,\n",
    "            \"temperature\": 0.7,\n",
    "            \"seed\": 53,\n",
    "            \"api_key\": \"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\"\n",
    "        }\n",
    "    },\n",
    "    \"judge_agent\": {\n",
    "        \"role\": \"Neuroscience Named Entity Recognition (NER) Judge Agent\",\n",
    "        \"goal\": \"Evaluate the {aligned_structured_information} based on predefined criteria and generate a structured JSON output reflecting the assessment results.\",\n",
    "        \"backstory\": (\n",
    "            \"You are an AI assistant with expert knowledge in neuroscience and structured models, i.e., ontologies or schemas, \"\n",
    "            \"and someone who does not hallucinate. Your task is to evaluate the {aligned_structured_information} based on the \"\n",
    "            \"accuracy and quality of the alignment. Assign the score between 0-1 with 1 being the highest score of your evaluation. \"\n",
    "            \"Your responses strictly adhere to JSON format, ensuring accurate and structured data extraction for downstream applications.\"\n",
    "        ),\n",
    "        \"llm\": {\n",
    "            \"model\": \"openrouter/openai/gpt-4o-2024-11-20\",\n",
    "            \"base_url\": \"https://openrouter.ai/api/v1\",\n",
    "            \"frequency_penalty\": 0.1,\n",
    "            \"temperature\": 0.7,\n",
    "            \"seed\": 53,\n",
    "            \"api_key\": \"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\"\n",
    "        }\n",
    "    }\n",
    "}\n",
    "\n",
    "task_config = {\n",
    "    \"extraction_task\": {\n",
    "        \"description\": (\n",
    "            \"From the given literature extract named entities from neuroscience statements. \"\n",
    "            \"A named entity is anything that can be referred to with a proper name. \"\n",
    "            \"Some common named entities in neuroscience articles are animal species (e.g., mouse, drosophila, zebrafish), \"\n",
    "            \"anatomical regions (e.g., neocortex, mushroom body, cerebellum), experimental conditions (e.g., control, tetrodotoxin treatment, Scn1a knockout), \"\n",
    "            \"and cell types (e.g., pyramidal neuron, direction-sensitive mechanoreceptor, oligodendrocyte)\\n\\n\"\n",
    "            \"Literature:\\n{literature}\"\n",
    "        ),\n",
    "        \"expected_output\": (\n",
    "            'output format: json\\n'\n",
    "            'Example output:\\n'\n",
    "            '\"extracted_terms\": {\\n'\n",
    "            '  \"1\": [\\n'\n",
    "            '    {\\n'\n",
    "            '      \"entity\": \"mouse\",\\n'\n",
    "            '      \"label\": \"ANIMAL_SPECIES\",\\n'\n",
    "            '      \"sentence\": \"These particles were visualized by fluorescent immunohistochemistry using mouse monoclonal anti-human myelin basic protein (MBPh) antibody (clone SMI-99).\",\\n'\n",
    "            '      \"start\": 79,\\n'\n",
    "            '      \"end\": 84,\\n'\n",
    "            '      \"paper_location\": \"methods\",\\n'\n",
    "            '      \"paper_title\": \"Concentration of myelin debris-like myelin basic protein-immunoreactive particles in the distal (anterior)-most part of the myelinated region in the normal rat optic nerve\",\\n'\n",
    "            '      \"doi\": \"10.1101/2025.03.19.643597\"\\n'\n",
    "            '    }\\n'\n",
    "            '  ],\\n'\n",
    "            '  \"2\": [\\n'\n",
    "            '    {\\n'\n",
    "            '      \"entity\": \"oligodendrocyte\",\\n'\n",
    "            '      \"label\": \"CELL_TYPE\",\\n'\n",
    "            '      \"sentence\": \"Individual oligodendrocytes provide, on average, 16 near axons with single myelin segments about 200 µm in length (Butt and Ransom, 1993).\",\\n'\n",
    "            '      \"start\": 14,\\n'\n",
    "            '      \"end\": 29,\\n'\n",
    "            '      \"paper_location\": \"discussion\",\\n'\n",
    "            '      \"paper_title\": \"Concentration of myelin debris-like myelin basic protein-immunoreactive particles in the distal (anterior)-most part of the myelinated region in the normal rat optic nerve\",\\n'\n",
    "            '      \"doi\": \"10.1101/2025.03.19.643597\"\\n'\n",
    "            '    }\\n'\n",
    "            '  ],\\n'\n",
    "            '  \"3\": [\\n'\n",
    "            '    {\\n'\n",
    "            '      \"entity\": \"cerebellum\",\\n'\n",
    "            '      \"label\": \"ANATOMICAL_REGION\",\\n'\n",
    "            '      \"sentence\": \"Myelin basic protein, human (MBPh) ... on immunoblots of the mouse cerebellum (Dyer et al.).\",\\n'\n",
    "            '      \"start\": 293,\\n'\n",
    "            '      \"end\": 303,\\n'\n",
    "            '      \"paper_location\": \"methods\",\\n'\n",
    "            '      \"paper_title\": \"Concentration of myelin debris-like myelin basic protein-immunoreactive particles in the distal (anterior)-most part of the myelinated region in the normal rat optic nerve\",\\n'\n",
    "            '      \"doi\": \"10.1101/2025.03.19.643597\"\\n'\n",
    "            '    }\\n'\n",
    "            '  ]\\n'\n",
    "            '}'\n",
    "        ),\n",
    "        \"agent_id\": \"extractor_agent\"\n",
    "    },\n",
    "    \"alignment_task\": {\n",
    "        \"description\": (\n",
    "            \"Take the output of extractor_agent {extracted_structured_information} as input and perform the concept alignment using the ontological concepts. \"\n",
    "            \"A concept alignment is anything where you align the given entity to the matching concept aka class from a ontology or a schema.\"\n",
    "        ),\n",
    "        \"expected_output\": (\n",
    "            'output format: json\\n'\n",
    "            'Example output:\\n'\n",
    "            '\"aligned_ner_terms\": {\\n'\n",
    "            '  \"1\": [\\n'\n",
    "            '    {\\n'\n",
    "            '      \"entity\": \"oligodendrocyte\",\\n'\n",
    "            '      \"label\": \"CELL_TYPE\",\\n'\n",
    "            '      \"ontology_id\": \"CL:0000128\",\\n'\n",
    "            '      \"ontology_label\": \"Oligodendrocyte\",\\n'\n",
    "            '      \"sentence\": \"Individual oligodendrocytes provide, on average, 16 near axons with single myelin segments about 200 µm in length (Butt and Ransom, 1993).\",\\n'\n",
    "            '      \"start\": 14,\\n'\n",
    "            '      \"end\": 29,\\n'\n",
    "            '      \"paper_location\": \"discussion\",\\n'\n",
    "            '      \"paper_title\": \"Concentration of myelin debris-like myelin basic protein-immunoreactive particles in the distal (anterior)-most part of the myelinated region in the normal rat optic nerve\",\\n'\n",
    "            '      \"doi\": \"10.1101/2025.03.19.643597\"\\n'\n",
    "            '    }\\n'\n",
    "            '  ],\\n'\n",
    "            '  \"2\": [\\n'\n",
    "            '    {\\n'\n",
    "            '      \"entity\": \"cerebellum\",\\n'\n",
    "            '      \"label\": \"ANATOMICAL_REGION\",\\n'\n",
    "            '      \"ontology_id\": \"UBERON:0002037\",\\n'\n",
    "            '      \"ontology_label\": \"Cerebellum\",\\n'\n",
    "            '      \"sentence\": \"Myelin basic protein, human (MBPh) ... on immunoblots of the mouse cerebellum (Dyer et al.).\",\\n'\n",
    "            '      \"start\": 293,\\n'\n",
    "            '      \"end\": 303,\\n'\n",
    "            '      \"paper_location\": \"methods\",\\n'\n",
    "            '      \"paper_title\": \"Concentration of myelin debris-like ... in the normal rat optic nerve\",\\n'\n",
    "            '      \"doi\": \"10.1101/2025.03.19.643597\"\\n'\n",
    "            '    }\\n'\n",
    "            '  ]\\n'\n",
    "            '}'\n",
    "        ),\n",
    "        \"agent_id\": \"alignment_agent\"\n",
    "    },\n",
    "    \"judge_task\": {\n",
    "        \"description\": (\n",
    "            \"Take the output of alignment agent {aligned_structured_information} as input and perform the following evaluation:\\n\"\n",
    "            \"1. Assess the quality and accuracy of the alignment with the ontology or schema in {aligned_structured_information}.\\n\"\n",
    "            \"2. Assign a score between 0 and 1 as a judge_score.\\n\"\n",
    "            \"3. Update the {aligned_structured_information} adding the judge_score.\"\n",
    "        ),\n",
    "        \"expected_output\": (\n",
    "            'output format: json\\n'\n",
    "            'Example output:\\n'\n",
    "            '\"judge_ner_terms\": {\\n'\n",
    "            '  \"1\": [\\n'\n",
    "            '    {\\n'\n",
    "            '      \"entity\": \"oligodendrocyte\",\\n'\n",
    "            '      \"label\": \"CELL_TYPE\",\\n'\n",
    "            '      \"ontology_id\": \"CL:0000128\",\\n'\n",
    "            '      \"ontology_label\": \"Oligodendrocyte\",\\n'\n",
    "            '      \"sentence\": \"Individual oligodendrocytes provide, on average, 16 near axons with single myelin segments about 200 µm in length (Butt and Ransom, 1993).\",\\n'\n",
    "            '      \"start\": 14,\\n'\n",
    "            '      \"end\": 29,\\n'\n",
    "            '      \"judge_score\": \"0.8\",\\n'\n",
    "            '      \"paper_location\": \"discussion\",\\n'\n",
    "            '      \"paper_title\": \"Concentration of myelin debris-like ... in the normal rat optic nerve\",\\n'\n",
    "            '      \"doi\": \"10.1101/2025.03.19.643597\"\\n'\n",
    "            '    }\\n'\n",
    "            '  ],\\n'\n",
    "            '  \"2\": [\\n'\n",
    "            '    {\\n'\n",
    "            '      \"entity\": \"cerebellum\",\\n'\n",
    "            '      \"label\": \"ANATOMICAL_REGION\",\\n'\n",
    "            '      \"ontology_id\": \"UBERON:0002037\",\\n'\n",
    "            '      \"ontology_label\": \"Cerebellum\",\\n'\n",
    "            '      \"sentence\": \"Myelin basic protein, human (MBPh) ... on immunoblots of the mouse cerebellum (Dyer et al.).\",\\n'\n",
    "            '      \"start\": 293,\\n'\n",
    "            '      \"end\": 303,\\n'\n",
    "            '      \"judge_score\": \"0.54\",\\n'\n",
    "            '      \"paper_location\": \"methods\",\\n'\n",
    "            '      \"paper_title\": \"Concentration of myelin debris-like ... in the normal rat optic nerve\",\\n'\n",
    "            '      \"doi\": \"10.1101/2025.03.19.643597\"\\n'\n",
    "            '    }\\n'\n",
    "            '  ]\\n'\n",
    "            '}'\n",
    "        ),\n",
    "        \"agent_id\": \"judge_agent\"\n",
    "    }\n",
    "}\n",
    "\n",
    "\n",
    "\n",
    "#search key to be used in vector database\n",
    "search_key  = {\n",
    "    \"search_key\": [\n",
    "        \"entity\",\n",
    "        \"label\"\n",
    "    ]\n",
    "}\n",
    "\n",
    "#embedding models\n",
    "embedderconfig = {\n",
    "    \"embedder_config\": {\n",
    "        \"provider\": \"ollama\",\n",
    "        \"config\": {\n",
    "            \"api_base\": \"http://localhost:11434\",\n",
    "            \"model\": \"nomic-embed-text:latest\"\n",
    "        }\n",
    "    }\n",
    "}\n",
    "\n",
    "sourcestr = \"Additionally, mutations in the APOE gene have been linked to neurodegenerative disorders, impacting astrocytes and microglia function.\""
   ]
  },
  {
   "cell_type": "code",
   "execution_count": null,
   "id": "5bb7c0d0-1c00-46d2-bc9f-b91d798e5a95",
   "metadata": {},
   "outputs": [],
   "source": []
  },
  {
   "cell_type": "code",
   "execution_count": 5,
   "id": "98466959-676c-4bea-96f6-17667a4c22de",
   "metadata": {},
   "outputs": [],
   "source": [
    "\n",
    "import nest_asyncio\n",
    "import asyncio\n",
    "\n",
    "nest_asyncio.apply()"
   ]
  },
  {
   "cell_type": "code",
   "execution_count": null,
   "id": "a05805a1-4487-4e1b-908e-0af88c9debec",
   "metadata": {},
   "outputs": [],
   "source": []
  },
  {
   "cell_type": "code",
   "execution_count": 6,
   "id": "7c4d1806-4172-4423-8619-33106882d72b",
   "metadata": {
    "scrolled": true
   },
   "outputs": [
    {
     "name": "stdout",
     "output_type": "stream",
     "text": [
      "2025-04-08 16:57:34,331 - utils.utils - INFO - Trying paths: ['Additionally, mutations in the APOE gene have been linked to neurodegenerative disorders, impacting astrocytes and microglia function.', '/Users/tekrajchhetri/Documents/brainypedia_codes_design/crew_ner_framework/structsense/example/programmatic_access/Additionally, mutations in the APOE gene have been linked to neurodegenerative disorders, impacting astrocytes and microglia function.', '/Users/tekrajchhetri/Documents/brainypedia_codes_design/crew_ner_framework/structsense/example/programmatic_access/Additionally, mutations in the APOE gene have been linked to neurodegenerative disorders, impacting astrocytes and microglia function.', '/Users/tekrajchhetri/Documents/brainypedia_codes_design/crew_ner_framework/structsense/example/programmatic_access/Additionally, mutations in the APOE gene have been linked to neurodegenerative disorders, impacting astrocytes and microglia function.']\n",
      "2025-04-08 16:57:34,333 - utils.utils - INFO - Processing raw text input (length: 134)\n"
     ]
    },
    {
     "data": {
      "text/html": [
       "<pre style=\"white-space:pre;overflow-x:auto;line-height:normal;font-family:Menlo,'DejaVu Sans Mono',consolas,'Courier New',monospace\"><span style=\"color: #000080; text-decoration-color: #000080\">╭──────────────────────────────────────────────── Flow Execution ─────────────────────────────────────────────────╮</span>\n",
       "<span style=\"color: #000080; text-decoration-color: #000080\">│</span>                                                                                                                 <span style=\"color: #000080; text-decoration-color: #000080\">│</span>\n",
       "<span style=\"color: #000080; text-decoration-color: #000080\">│</span>  <span style=\"color: #000080; text-decoration-color: #000080; font-weight: bold\">Starting Flow Execution</span>                                                                                        <span style=\"color: #000080; text-decoration-color: #000080\">│</span>\n",
       "<span style=\"color: #000080; text-decoration-color: #000080\">│</span>  <span style=\"color: #c0c0c0; text-decoration-color: #c0c0c0\">Name: </span><span style=\"color: #000080; text-decoration-color: #000080\">StructSenseFlow</span>                                                                                          <span style=\"color: #000080; text-decoration-color: #000080\">│</span>\n",
       "<span style=\"color: #000080; text-decoration-color: #000080\">│</span>  <span style=\"color: #c0c0c0; text-decoration-color: #c0c0c0\">ID: </span><span style=\"color: #000080; text-decoration-color: #000080\">ed3d98e0-5d20-4d25-817b-ed8203dc4a37</span>                                                                       <span style=\"color: #000080; text-decoration-color: #000080\">│</span>\n",
       "<span style=\"color: #000080; text-decoration-color: #000080\">│</span>                                                                                                                 <span style=\"color: #000080; text-decoration-color: #000080\">│</span>\n",
       "<span style=\"color: #000080; text-decoration-color: #000080\">│</span>                                                                                                                 <span style=\"color: #000080; text-decoration-color: #000080\">│</span>\n",
       "<span style=\"color: #000080; text-decoration-color: #000080\">╰─────────────────────────────────────────────────────────────────────────────────────────────────────────────────╯</span>\n",
       "</pre>\n"
      ],
      "text/plain": [
       "\u001b[34m╭─\u001b[0m\u001b[34m───────────────────────────────────────────────\u001b[0m\u001b[34m Flow Execution \u001b[0m\u001b[34m────────────────────────────────────────────────\u001b[0m\u001b[34m─╮\u001b[0m\n",
       "\u001b[34m│\u001b[0m                                                                                                                 \u001b[34m│\u001b[0m\n",
       "\u001b[34m│\u001b[0m  \u001b[1;34mStarting Flow Execution\u001b[0m                                                                                        \u001b[34m│\u001b[0m\n",
       "\u001b[34m│\u001b[0m  \u001b[37mName: \u001b[0m\u001b[34mStructSenseFlow\u001b[0m                                                                                          \u001b[34m│\u001b[0m\n",
       "\u001b[34m│\u001b[0m  \u001b[37mID: \u001b[0m\u001b[34med3d98e0-5d20-4d25-817b-ed8203dc4a37\u001b[0m                                                                       \u001b[34m│\u001b[0m\n",
       "\u001b[34m│\u001b[0m                                                                                                                 \u001b[34m│\u001b[0m\n",
       "\u001b[34m│\u001b[0m                                                                                                                 \u001b[34m│\u001b[0m\n",
       "\u001b[34m╰─────────────────────────────────────────────────────────────────────────────────────────────────────────────────╯\u001b[0m\n"
      ]
     },
     "metadata": {},
     "output_type": "display_data"
    },
    {
     "data": {
      "text/html": [
       "<pre style=\"white-space:pre;overflow-x:auto;line-height:normal;font-family:Menlo,'DejaVu Sans Mono',consolas,'Courier New',monospace\">\n",
       "</pre>\n"
      ],
      "text/plain": [
       "\n"
      ]
     },
     "metadata": {},
     "output_type": "display_data"
    },
    {
     "name": "stdout",
     "output_type": "stream",
     "text": [
      "2025-04-08 16:57:34,354 - structsense.app - INFO - Initializing StructSenseFlow\n",
      "2025-04-08 16:57:34,390 - chromadb.telemetry.product.posthog - INFO - Anonymized telemetry enabled. See                     https://docs.trychroma.com/telemetry for more information.\n",
      "2025-04-08 16:57:34,738 - structsense.app - INFO - Memory systems initialized successfully\n"
     ]
    },
    {
     "data": {
      "text/html": [
       "<pre style=\"white-space:pre;overflow-x:auto;line-height:normal;font-family:Menlo,'DejaVu Sans Mono',consolas,'Courier New',monospace\"><span style=\"color: #000080; text-decoration-color: #000080; font-weight: bold\">🌊 Flow: </span><span style=\"color: #000080; text-decoration-color: #000080\">StructSenseFlow</span>\n",
       "<span style=\"color: #c0c0c0; text-decoration-color: #c0c0c0\">    ID: </span><span style=\"color: #000080; text-decoration-color: #000080\">ed3d98e0-5d20-4d25-817b-ed8203dc4a37</span>\n",
       "└── <span style=\"color: #808000; text-decoration-color: #808000\">🧠 Starting Flow...</span>\n",
       "</pre>\n"
      ],
      "text/plain": [
       "\u001b[1;34m🌊 Flow: \u001b[0m\u001b[34mStructSenseFlow\u001b[0m\n",
       "\u001b[37m    ID: \u001b[0m\u001b[34med3d98e0-5d20-4d25-817b-ed8203dc4a37\u001b[0m\n",
       "└── \u001b[33m🧠 Starting Flow...\u001b[0m\n"
      ]
     },
     "metadata": {},
     "output_type": "display_data"
    },
    {
     "data": {
      "text/html": [
       "<pre style=\"white-space:pre;overflow-x:auto;line-height:normal;font-family:Menlo,'DejaVu Sans Mono',consolas,'Courier New',monospace\">\n",
       "</pre>\n"
      ],
      "text/plain": [
       "\n"
      ]
     },
     "metadata": {},
     "output_type": "display_data"
    },
    {
     "name": "stdout",
     "output_type": "stream",
     "text": [
      "\u001b[1m\u001b[35m Flow started with ID: ed3d98e0-5d20-4d25-817b-ed8203dc4a37\u001b[00m\n",
      "2025-04-08 16:57:34,741 - crewai.flow.flow - INFO - Flow started with ID: ed3d98e0-5d20-4d25-817b-ed8203dc4a37\n"
     ]
    },
    {
     "data": {
      "text/html": [
       "<pre style=\"white-space:pre;overflow-x:auto;line-height:normal;font-family:Menlo,'DejaVu Sans Mono',consolas,'Courier New',monospace\"><span style=\"color: #000080; text-decoration-color: #000080; font-weight: bold\">🌊 Flow: </span><span style=\"color: #000080; text-decoration-color: #000080\">StructSenseFlow</span>\n",
       "<span style=\"color: #c0c0c0; text-decoration-color: #c0c0c0\">    ID: </span><span style=\"color: #000080; text-decoration-color: #000080\">ed3d98e0-5d20-4d25-817b-ed8203dc4a37</span>\n",
       "├── <span style=\"color: #808000; text-decoration-color: #808000\">🧠 Starting Flow...</span>\n",
       "└── <span style=\"color: #808000; text-decoration-color: #808000; font-weight: bold\">🔄 Running: process_inputs</span>\n",
       "</pre>\n"
      ],
      "text/plain": [
       "\u001b[1;34m🌊 Flow: \u001b[0m\u001b[34mStructSenseFlow\u001b[0m\n",
       "\u001b[37m    ID: \u001b[0m\u001b[34med3d98e0-5d20-4d25-817b-ed8203dc4a37\u001b[0m\n",
       "├── \u001b[33m🧠 Starting Flow...\u001b[0m\n",
       "└── \u001b[1;33m🔄 Running:\u001b[0m\u001b[1;33m process_inputs\u001b[0m\n"
      ]
     },
     "metadata": {},
     "output_type": "display_data"
    },
    {
     "data": {
      "text/html": [
       "<pre style=\"white-space:pre;overflow-x:auto;line-height:normal;font-family:Menlo,'DejaVu Sans Mono',consolas,'Courier New',monospace\">\n",
       "</pre>\n"
      ],
      "text/plain": [
       "\n"
      ]
     },
     "metadata": {},
     "output_type": "display_data"
    },
    {
     "name": "stdout",
     "output_type": "stream",
     "text": [
      "2025-04-08 16:57:34,743 - structsense.app - INFO - Starting structured information processing flow\n"
     ]
    },
    {
     "data": {
      "text/html": [
       "<pre style=\"white-space:pre;overflow-x:auto;line-height:normal;font-family:Menlo,'DejaVu Sans Mono',consolas,'Courier New',monospace\"><span style=\"color: #000080; text-decoration-color: #000080; font-weight: bold\">🌊 Flow: </span><span style=\"color: #000080; text-decoration-color: #000080\">StructSenseFlow</span>\n",
       "<span style=\"color: #c0c0c0; text-decoration-color: #c0c0c0\">    ID: </span><span style=\"color: #000080; text-decoration-color: #000080\">ed3d98e0-5d20-4d25-817b-ed8203dc4a37</span>\n",
       "├── <span style=\"color: #c0c0c0; text-decoration-color: #c0c0c0\">Flow Method Step</span>\n",
       "└── <span style=\"color: #008000; text-decoration-color: #008000; font-weight: bold\">✅ Completed: process_inputs</span>\n",
       "</pre>\n"
      ],
      "text/plain": [
       "\u001b[1;34m🌊 Flow: \u001b[0m\u001b[34mStructSenseFlow\u001b[0m\n",
       "\u001b[37m    ID: \u001b[0m\u001b[34med3d98e0-5d20-4d25-817b-ed8203dc4a37\u001b[0m\n",
       "├── \u001b[37mFlow Method Step\u001b[0m\n",
       "└── \u001b[1;32m✅ Completed:\u001b[0m\u001b[1;32m process_inputs\u001b[0m\n"
      ]
     },
     "metadata": {},
     "output_type": "display_data"
    },
    {
     "data": {
      "text/html": [
       "<pre style=\"white-space:pre;overflow-x:auto;line-height:normal;font-family:Menlo,'DejaVu Sans Mono',consolas,'Courier New',monospace\">\n",
       "</pre>\n"
      ],
      "text/plain": [
       "\n"
      ]
     },
     "metadata": {},
     "output_type": "display_data"
    },
    {
     "data": {
      "text/html": [
       "<pre style=\"white-space:pre;overflow-x:auto;line-height:normal;font-family:Menlo,'DejaVu Sans Mono',consolas,'Courier New',monospace\"><span style=\"color: #000080; text-decoration-color: #000080; font-weight: bold\">🌊 Flow: </span><span style=\"color: #000080; text-decoration-color: #000080\">StructSenseFlow</span>\n",
       "<span style=\"color: #c0c0c0; text-decoration-color: #c0c0c0\">    ID: </span><span style=\"color: #000080; text-decoration-color: #000080\">ed3d98e0-5d20-4d25-817b-ed8203dc4a37</span>\n",
       "├── <span style=\"color: #c0c0c0; text-decoration-color: #c0c0c0\">Flow Method Step</span>\n",
       "├── <span style=\"color: #008000; text-decoration-color: #008000; font-weight: bold\">✅ Completed: process_inputs</span>\n",
       "└── <span style=\"color: #808000; text-decoration-color: #808000; font-weight: bold\">🔄 Running: extracted_structured_information</span>\n",
       "</pre>\n"
      ],
      "text/plain": [
       "\u001b[1;34m🌊 Flow: \u001b[0m\u001b[34mStructSenseFlow\u001b[0m\n",
       "\u001b[37m    ID: \u001b[0m\u001b[34med3d98e0-5d20-4d25-817b-ed8203dc4a37\u001b[0m\n",
       "├── \u001b[37mFlow Method Step\u001b[0m\n",
       "├── \u001b[1;32m✅ Completed:\u001b[0m\u001b[1;32m process_inputs\u001b[0m\n",
       "└── \u001b[1;33m🔄 Running:\u001b[0m\u001b[1;33m extracted_structured_information\u001b[0m\n"
      ]
     },
     "metadata": {},
     "output_type": "display_data"
    },
    {
     "data": {
      "text/html": [
       "<pre style=\"white-space:pre;overflow-x:auto;line-height:normal;font-family:Menlo,'DejaVu Sans Mono',consolas,'Courier New',monospace\">\n",
       "</pre>\n"
      ],
      "text/plain": [
       "\n"
      ]
     },
     "metadata": {},
     "output_type": "display_data"
    },
    {
     "name": "stdout",
     "output_type": "stream",
     "text": [
      "2025-04-08 16:57:34,748 - structsense.app - INFO - Starting structured information extraction\n",
      "2025-04-08 16:57:34,751 - structsense.app - INFO - Successfully initialized extractor_agent and extraction_task\n"
     ]
    },
    {
     "data": {
      "text/html": [
       "<pre style=\"white-space:pre;overflow-x:auto;line-height:normal;font-family:Menlo,'DejaVu Sans Mono',consolas,'Courier New',monospace\"><span style=\"color: #008080; text-decoration-color: #008080\">╭──────────────────────────────────────────── Crew Execution Started ─────────────────────────────────────────────╮</span>\n",
       "<span style=\"color: #008080; text-decoration-color: #008080\">│</span>                                                                                                                 <span style=\"color: #008080; text-decoration-color: #008080\">│</span>\n",
       "<span style=\"color: #008080; text-decoration-color: #008080\">│</span>  <span style=\"color: #008080; text-decoration-color: #008080; font-weight: bold\">Crew Execution Started</span>                                                                                         <span style=\"color: #008080; text-decoration-color: #008080\">│</span>\n",
       "<span style=\"color: #008080; text-decoration-color: #008080\">│</span>  <span style=\"color: #c0c0c0; text-decoration-color: #c0c0c0\">Name: </span><span style=\"color: #008080; text-decoration-color: #008080\">crew</span>                                                                                                     <span style=\"color: #008080; text-decoration-color: #008080\">│</span>\n",
       "<span style=\"color: #008080; text-decoration-color: #008080\">│</span>  <span style=\"color: #c0c0c0; text-decoration-color: #c0c0c0\">ID: </span><span style=\"color: #008080; text-decoration-color: #008080\">98c49957-cd8e-4cd3-850f-6d1a98942a99</span>                                                                       <span style=\"color: #008080; text-decoration-color: #008080\">│</span>\n",
       "<span style=\"color: #008080; text-decoration-color: #008080\">│</span>                                                                                                                 <span style=\"color: #008080; text-decoration-color: #008080\">│</span>\n",
       "<span style=\"color: #008080; text-decoration-color: #008080\">│</span>                                                                                                                 <span style=\"color: #008080; text-decoration-color: #008080\">│</span>\n",
       "<span style=\"color: #008080; text-decoration-color: #008080\">╰─────────────────────────────────────────────────────────────────────────────────────────────────────────────────╯</span>\n",
       "</pre>\n"
      ],
      "text/plain": [
       "\u001b[36m╭─\u001b[0m\u001b[36m───────────────────────────────────────────\u001b[0m\u001b[36m Crew Execution Started \u001b[0m\u001b[36m────────────────────────────────────────────\u001b[0m\u001b[36m─╮\u001b[0m\n",
       "\u001b[36m│\u001b[0m                                                                                                                 \u001b[36m│\u001b[0m\n",
       "\u001b[36m│\u001b[0m  \u001b[1;36mCrew Execution Started\u001b[0m                                                                                         \u001b[36m│\u001b[0m\n",
       "\u001b[36m│\u001b[0m  \u001b[37mName: \u001b[0m\u001b[36mcrew\u001b[0m                                                                                                     \u001b[36m│\u001b[0m\n",
       "\u001b[36m│\u001b[0m  \u001b[37mID: \u001b[0m\u001b[36m98c49957-cd8e-4cd3-850f-6d1a98942a99\u001b[0m                                                                       \u001b[36m│\u001b[0m\n",
       "\u001b[36m│\u001b[0m                                                                                                                 \u001b[36m│\u001b[0m\n",
       "\u001b[36m│\u001b[0m                                                                                                                 \u001b[36m│\u001b[0m\n",
       "\u001b[36m╰─────────────────────────────────────────────────────────────────────────────────────────────────────────────────╯\u001b[0m\n"
      ]
     },
     "metadata": {},
     "output_type": "display_data"
    },
    {
     "data": {
      "text/html": [
       "<pre style=\"white-space:pre;overflow-x:auto;line-height:normal;font-family:Menlo,'DejaVu Sans Mono',consolas,'Courier New',monospace\">\n",
       "</pre>\n"
      ],
      "text/plain": [
       "\n"
      ]
     },
     "metadata": {},
     "output_type": "display_data"
    },
    {
     "data": {
      "text/html": [
       "<pre style=\"white-space:pre;overflow-x:auto;line-height:normal;font-family:Menlo,'DejaVu Sans Mono',consolas,'Courier New',monospace\"><span style=\"color: #008080; text-decoration-color: #008080; font-weight: bold\">🚀 Crew: crew</span>\n",
       "└── <span style=\"color: #808000; text-decoration-color: #808000; font-weight: bold\">📋 Task: 2d567569-9cec-4026-b6f1-bcb9daff773c</span>\n",
       "    <span style=\"color: #c0c0c0; text-decoration-color: #c0c0c0\">   Status: </span><span style=\"color: #bfbf7f; text-decoration-color: #bfbf7f\">Executing Task...</span>\n",
       "</pre>\n"
      ],
      "text/plain": [
       "\u001b[1;36m🚀 Crew: \u001b[0m\u001b[1;36mcrew\u001b[0m\n",
       "└── \u001b[1;33m📋 Task: 2d567569-9cec-4026-b6f1-bcb9daff773c\u001b[0m\n",
       "    \u001b[37m   Status: \u001b[0m\u001b[2;33mExecuting Task...\u001b[0m\n"
      ]
     },
     "metadata": {},
     "output_type": "display_data"
    },
    {
     "data": {
      "text/html": [
       "<pre style=\"white-space:pre;overflow-x:auto;line-height:normal;font-family:Menlo,'DejaVu Sans Mono',consolas,'Courier New',monospace\">\n",
       "</pre>\n"
      ],
      "text/plain": [
       "\n"
      ]
     },
     "metadata": {},
     "output_type": "display_data"
    },
    {
     "name": "stdout",
     "output_type": "stream",
     "text": [
      "2025-04-08 16:57:35,389 - httpx - INFO - HTTP Request: POST http://localhost:11434/api/embeddings \"HTTP/1.1 200 OK\"\n",
      "2025-04-08 16:57:35,435 - httpx - INFO - HTTP Request: POST http://localhost:11434/api/embeddings \"HTTP/1.1 200 OK\"\n"
     ]
    },
    {
     "data": {
      "text/html": [
       "<pre style=\"white-space:pre;overflow-x:auto;line-height:normal;font-family:Menlo,'DejaVu Sans Mono',consolas,'Courier New',monospace\"><span style=\"color: #008080; text-decoration-color: #008080; font-weight: bold\">🚀 Crew: crew</span>\n",
       "└── <span style=\"color: #808000; text-decoration-color: #808000; font-weight: bold\">📋 Task: 2d567569-9cec-4026-b6f1-bcb9daff773c</span>\n",
       "    <span style=\"color: #c0c0c0; text-decoration-color: #c0c0c0\">   Status: </span><span style=\"color: #bfbf7f; text-decoration-color: #bfbf7f\">Executing Task...</span>\n",
       "    └── <span style=\"color: #008000; text-decoration-color: #008000; font-weight: bold\">🤖 Agent: </span><span style=\"color: #008000; text-decoration-color: #008000\">Neuroscience Named Entity Recognition (NER) Extractor Agent</span>\n",
       "        <span style=\"color: #c0c0c0; text-decoration-color: #c0c0c0\">    Status: </span><span style=\"color: #008000; text-decoration-color: #008000; font-weight: bold\">In Progress</span>\n",
       "</pre>\n"
      ],
      "text/plain": [
       "\u001b[1;36m🚀 Crew: \u001b[0m\u001b[1;36mcrew\u001b[0m\n",
       "└── \u001b[1;33m📋 Task: 2d567569-9cec-4026-b6f1-bcb9daff773c\u001b[0m\n",
       "    \u001b[37m   Status: \u001b[0m\u001b[2;33mExecuting Task...\u001b[0m\n",
       "    └── \u001b[1;32m🤖 Agent: \u001b[0m\u001b[32mNeuroscience Named Entity Recognition (NER) Extractor Agent\u001b[0m\n",
       "        \u001b[37m    Status: \u001b[0m\u001b[1;32mIn Progress\u001b[0m\n"
      ]
     },
     "metadata": {},
     "output_type": "display_data"
    },
    {
     "data": {
      "text/html": [
       "<pre style=\"white-space:pre;overflow-x:auto;line-height:normal;font-family:Menlo,'DejaVu Sans Mono',consolas,'Courier New',monospace\">\n",
       "</pre>\n"
      ],
      "text/plain": [
       "\n"
      ]
     },
     "metadata": {},
     "output_type": "display_data"
    },
    {
     "name": "stdout",
     "output_type": "stream",
     "text": [
      "\u001b[1m\u001b[95m# Agent:\u001b[00m \u001b[1m\u001b[92mNeuroscience Named Entity Recognition (NER) Extractor Agent\u001b[00m\n",
      "\u001b[95m## Task:\u001b[00m \u001b[92mFrom the given literature extract named entities from neuroscience statements. A named entity is anything that can be referred to with a proper name. Some common named entities in neuroscience articles are animal species (e.g., mouse, drosophila, zebrafish), anatomical regions (e.g., neocortex, mushroom body, cerebellum), experimental conditions (e.g., control, tetrodotoxin treatment, Scn1a knockout), and cell types (e.g., pyramidal neuron, direction-sensitive mechanoreceptor, oligodendrocyte)\n",
      "\n",
      "Literature:\n",
      "Additionally, mutations in the APOE gene have been linked to neurodegenerative disorders, impacting astrocytes and microglia function.\u001b[00m\n"
     ]
    },
    {
     "data": {
      "text/html": [
       "<pre style=\"white-space:pre;overflow-x:auto;line-height:normal;font-family:Menlo,'DejaVu Sans Mono',consolas,'Courier New',monospace\"><span style=\"color: #008080; text-decoration-color: #008080; font-weight: bold\">🚀 Crew: crew</span>\n",
       "└── <span style=\"color: #808000; text-decoration-color: #808000; font-weight: bold\">📋 Task: 2d567569-9cec-4026-b6f1-bcb9daff773c</span>\n",
       "    <span style=\"color: #c0c0c0; text-decoration-color: #c0c0c0\">   Status: </span><span style=\"color: #bfbf7f; text-decoration-color: #bfbf7f\">Executing Task...</span>\n",
       "    └── <span style=\"color: #008000; text-decoration-color: #008000; font-weight: bold\">🤖 Agent: </span><span style=\"color: #008000; text-decoration-color: #008000\">Neuroscience Named Entity Recognition (NER) Extractor Agent</span>\n",
       "        <span style=\"color: #c0c0c0; text-decoration-color: #c0c0c0\">    Status: </span><span style=\"color: #008000; text-decoration-color: #008000; font-weight: bold\">In Progress</span>\n",
       "        └── <span style=\"color: #000080; text-decoration-color: #000080; font-weight: bold\">🧠 </span><span style=\"color: #000080; text-decoration-color: #000080\">Thinking...</span>\n",
       "</pre>\n"
      ],
      "text/plain": [
       "\u001b[1;36m🚀 Crew: \u001b[0m\u001b[1;36mcrew\u001b[0m\n",
       "└── \u001b[1;33m📋 Task: 2d567569-9cec-4026-b6f1-bcb9daff773c\u001b[0m\n",
       "    \u001b[37m   Status: \u001b[0m\u001b[2;33mExecuting Task...\u001b[0m\n",
       "    └── \u001b[1;32m🤖 Agent: \u001b[0m\u001b[32mNeuroscience Named Entity Recognition (NER) Extractor Agent\u001b[0m\n",
       "        \u001b[37m    Status: \u001b[0m\u001b[1;32mIn Progress\u001b[0m\n",
       "        └── \u001b[1;34m🧠 \u001b[0m\u001b[34mThinking...\u001b[0m\n"
      ]
     },
     "metadata": {},
     "output_type": "display_data"
    },
    {
     "data": {
      "text/html": [
       "<pre style=\"white-space:pre;overflow-x:auto;line-height:normal;font-family:Menlo,'DejaVu Sans Mono',consolas,'Courier New',monospace\">\n",
       "</pre>\n"
      ],
      "text/plain": [
       "\n"
      ]
     },
     "metadata": {},
     "output_type": "display_data"
    },
    {
     "name": "stderr",
     "output_type": "stream",
     "text": [
      "\u001b[92m16:57:35 - LiteLLM:INFO\u001b[0m: utils.py:2896 - \n",
      "LiteLLM completion() model= openai/gpt-4o-2024-11-20; provider = openrouter\n"
     ]
    },
    {
     "name": "stdout",
     "output_type": "stream",
     "text": [
      "2025-04-08 16:57:35,496 - LiteLLM - INFO - \n",
      "LiteLLM completion() model= openai/gpt-4o-2024-11-20; provider = openrouter\n",
      "2025-04-08 16:57:35,775 - httpx - INFO - HTTP Request: POST https://openrouter.ai/api/v1/chat/completions \"HTTP/1.1 200 OK\"\n"
     ]
    },
    {
     "name": "stderr",
     "output_type": "stream",
     "text": [
      "\u001b[92m16:57:43 - LiteLLM:INFO\u001b[0m: utils.py:1084 - Wrapper: Completed Call, calling success_handler\n"
     ]
    },
    {
     "name": "stdout",
     "output_type": "stream",
     "text": [
      "2025-04-08 16:57:43,877 - LiteLLM - INFO - Wrapper: Completed Call, calling success_handler\n"
     ]
    },
    {
     "data": {
      "text/html": [
       "<pre style=\"white-space:pre;overflow-x:auto;line-height:normal;font-family:Menlo,'DejaVu Sans Mono',consolas,'Courier New',monospace\"><span style=\"color: #008080; text-decoration-color: #008080; font-weight: bold\">🚀 Crew: crew</span>\n",
       "└── <span style=\"color: #808000; text-decoration-color: #808000; font-weight: bold\">📋 Task: 2d567569-9cec-4026-b6f1-bcb9daff773c</span>\n",
       "    <span style=\"color: #c0c0c0; text-decoration-color: #c0c0c0\">   Status: </span><span style=\"color: #bfbf7f; text-decoration-color: #bfbf7f\">Executing Task...</span>\n",
       "    └── <span style=\"color: #008000; text-decoration-color: #008000; font-weight: bold\">🤖 Agent: </span><span style=\"color: #008000; text-decoration-color: #008000\">Neuroscience Named Entity Recognition (NER) Extractor Agent</span>\n",
       "        <span style=\"color: #c0c0c0; text-decoration-color: #c0c0c0\">    Status: </span><span style=\"color: #008000; text-decoration-color: #008000; font-weight: bold\">In Progress</span>\n",
       "</pre>\n"
      ],
      "text/plain": [
       "\u001b[1;36m🚀 Crew: \u001b[0m\u001b[1;36mcrew\u001b[0m\n",
       "└── \u001b[1;33m📋 Task: 2d567569-9cec-4026-b6f1-bcb9daff773c\u001b[0m\n",
       "    \u001b[37m   Status: \u001b[0m\u001b[2;33mExecuting Task...\u001b[0m\n",
       "    └── \u001b[1;32m🤖 Agent: \u001b[0m\u001b[32mNeuroscience Named Entity Recognition (NER) Extractor Agent\u001b[0m\n",
       "        \u001b[37m    Status: \u001b[0m\u001b[1;32mIn Progress\u001b[0m\n"
      ]
     },
     "metadata": {},
     "output_type": "display_data"
    },
    {
     "data": {
      "text/html": [
       "<pre style=\"white-space:pre;overflow-x:auto;line-height:normal;font-family:Menlo,'DejaVu Sans Mono',consolas,'Courier New',monospace\">\n",
       "</pre>\n"
      ],
      "text/plain": [
       "\n"
      ]
     },
     "metadata": {},
     "output_type": "display_data"
    },
    {
     "name": "stdout",
     "output_type": "stream",
     "text": [
      "\n",
      "\n",
      "\u001b[1m\u001b[95m# Agent:\u001b[00m \u001b[1m\u001b[92mNeuroscience Named Entity Recognition (NER) Extractor Agent\u001b[00m\n",
      "\u001b[95m## Final Answer:\u001b[00m \u001b[92m\n",
      "{\n",
      "  \"extracted_structured_information\": {\n",
      "    \"1\": [\n",
      "      {\n",
      "        \"entity\": \"APOE\",\n",
      "        \"label\": \"GENE\",\n",
      "        \"sentence\": \"Additionally, mutations in the APOE gene have been linked to neurodegenerative disorders, impacting astrocytes and microglia function.\",\n",
      "        \"start\": 26,\n",
      "        \"end\": 30,\n",
      "        \"paper_location\": \"unknown\",\n",
      "        \"paper_title\": \"unknown\",\n",
      "        \"doi\": \"unknown\"\n",
      "      }\n",
      "    ],\n",
      "    \"2\": [\n",
      "      {\n",
      "        \"entity\": \"neurodegenerative disorders\",\n",
      "        \"label\": \"DISORDER\",\n",
      "        \"sentence\": \"Additionally, mutations in the APOE gene have been linked to neurodegenerative disorders, impacting astrocytes and microglia function.\",\n",
      "        \"start\": 49,\n",
      "        \"end\": 74,\n",
      "        \"paper_location\": \"unknown\",\n",
      "        \"paper_title\": \"unknown\",\n",
      "        \"doi\": \"unknown\"\n",
      "      }\n",
      "    ],\n",
      "    \"3\": [\n",
      "      {\n",
      "        \"entity\": \"astrocytes\",\n",
      "        \"label\": \"CELL_TYPE\",\n",
      "        \"sentence\": \"Additionally, mutations in the APOE gene have been linked to neurodegenerative disorders, impacting astrocytes and microglia function.\",\n",
      "        \"start\": 85,\n",
      "        \"end\": 95,\n",
      "        \"paper_location\": \"unknown\",\n",
      "        \"paper_title\": \"unknown\",\n",
      "        \"doi\": \"unknown\"\n",
      "      }\n",
      "    ],\n",
      "    \"4\": [\n",
      "      {\n",
      "        \"entity\": \"microglia\",\n",
      "        \"label\": \"CELL_TYPE\",\n",
      "        \"sentence\": \"Additionally, mutations in the APOE gene have been linked to neurodegenerative disorders, impacting astrocytes and microglia function.\",\n",
      "        \"start\": 100,\n",
      "        \"end\": 109,\n",
      "        \"paper_location\": \"unknown\",\n",
      "        \"paper_title\": \"unknown\",\n",
      "        \"doi\": \"unknown\"\n",
      "      }\n",
      "    ]\n",
      "  }\n",
      "}\u001b[00m\n",
      "\n",
      "\n",
      "2025-04-08 16:57:44,029 - httpx - INFO - HTTP Request: POST http://localhost:11434/api/embeddings \"HTTP/1.1 200 OK\"\n"
     ]
    },
    {
     "data": {
      "text/html": [
       "<pre style=\"white-space:pre;overflow-x:auto;line-height:normal;font-family:Menlo,'DejaVu Sans Mono',consolas,'Courier New',monospace\"><span style=\"color: #008080; text-decoration-color: #008080; font-weight: bold\">🚀 Crew: crew</span>\n",
       "└── <span style=\"color: #808000; text-decoration-color: #808000; font-weight: bold\">📋 Task: 2d567569-9cec-4026-b6f1-bcb9daff773c</span>\n",
       "    <span style=\"color: #c0c0c0; text-decoration-color: #c0c0c0\">   Status: </span><span style=\"color: #bfbf7f; text-decoration-color: #bfbf7f\">Executing Task...</span>\n",
       "    └── <span style=\"color: #008000; text-decoration-color: #008000; font-weight: bold\">🤖 Agent: </span><span style=\"color: #008000; text-decoration-color: #008000\">Neuroscience Named Entity Recognition (NER) Extractor Agent</span>\n",
       "        <span style=\"color: #c0c0c0; text-decoration-color: #c0c0c0\">    Status: </span><span style=\"color: #008000; text-decoration-color: #008000; font-weight: bold\">In Progress</span>\n",
       "        └── <span style=\"color: #000080; text-decoration-color: #000080; font-weight: bold\">🧠 </span><span style=\"color: #000080; text-decoration-color: #000080\">Thinking...</span>\n",
       "</pre>\n"
      ],
      "text/plain": [
       "\u001b[1;36m🚀 Crew: \u001b[0m\u001b[1;36mcrew\u001b[0m\n",
       "└── \u001b[1;33m📋 Task: 2d567569-9cec-4026-b6f1-bcb9daff773c\u001b[0m\n",
       "    \u001b[37m   Status: \u001b[0m\u001b[2;33mExecuting Task...\u001b[0m\n",
       "    └── \u001b[1;32m🤖 Agent: \u001b[0m\u001b[32mNeuroscience Named Entity Recognition (NER) Extractor Agent\u001b[0m\n",
       "        \u001b[37m    Status: \u001b[0m\u001b[1;32mIn Progress\u001b[0m\n",
       "        └── \u001b[1;34m🧠 \u001b[0m\u001b[34mThinking...\u001b[0m\n"
      ]
     },
     "metadata": {},
     "output_type": "display_data"
    },
    {
     "data": {
      "text/html": [
       "<pre style=\"white-space:pre;overflow-x:auto;line-height:normal;font-family:Menlo,'DejaVu Sans Mono',consolas,'Courier New',monospace\">\n",
       "</pre>\n"
      ],
      "text/plain": [
       "\n"
      ]
     },
     "metadata": {},
     "output_type": "display_data"
    },
    {
     "name": "stderr",
     "output_type": "stream",
     "text": [
      "\u001b[92m16:57:44 - LiteLLM:INFO\u001b[0m: utils.py:2896 - \n",
      "LiteLLM completion() model= openai/gpt-4o-2024-11-20; provider = openrouter\n"
     ]
    },
    {
     "name": "stdout",
     "output_type": "stream",
     "text": [
      "2025-04-08 16:57:44,051 - LiteLLM - INFO - \n",
      "LiteLLM completion() model= openai/gpt-4o-2024-11-20; provider = openrouter\n",
      "2025-04-08 16:57:44,253 - httpx - INFO - HTTP Request: POST https://openrouter.ai/api/v1/chat/completions \"HTTP/1.1 200 OK\"\n"
     ]
    },
    {
     "name": "stderr",
     "output_type": "stream",
     "text": [
      "\u001b[92m16:57:50 - LiteLLM:INFO\u001b[0m: utils.py:1084 - Wrapper: Completed Call, calling success_handler\n"
     ]
    },
    {
     "name": "stdout",
     "output_type": "stream",
     "text": [
      "2025-04-08 16:57:50,700 - LiteLLM - INFO - Wrapper: Completed Call, calling success_handler\n"
     ]
    },
    {
     "data": {
      "text/html": [
       "<pre style=\"white-space:pre;overflow-x:auto;line-height:normal;font-family:Menlo,'DejaVu Sans Mono',consolas,'Courier New',monospace\"><span style=\"color: #008080; text-decoration-color: #008080; font-weight: bold\">🚀 Crew: crew</span>\n",
       "└── <span style=\"color: #808000; text-decoration-color: #808000; font-weight: bold\">📋 Task: 2d567569-9cec-4026-b6f1-bcb9daff773c</span>\n",
       "    <span style=\"color: #c0c0c0; text-decoration-color: #c0c0c0\">   Status: </span><span style=\"color: #bfbf7f; text-decoration-color: #bfbf7f\">Executing Task...</span>\n",
       "    └── <span style=\"color: #008000; text-decoration-color: #008000; font-weight: bold\">🤖 Agent: </span><span style=\"color: #008000; text-decoration-color: #008000\">Neuroscience Named Entity Recognition (NER) Extractor Agent</span>\n",
       "        <span style=\"color: #c0c0c0; text-decoration-color: #c0c0c0\">    Status: </span><span style=\"color: #008000; text-decoration-color: #008000; font-weight: bold\">In Progress</span>\n",
       "</pre>\n"
      ],
      "text/plain": [
       "\u001b[1;36m🚀 Crew: \u001b[0m\u001b[1;36mcrew\u001b[0m\n",
       "└── \u001b[1;33m📋 Task: 2d567569-9cec-4026-b6f1-bcb9daff773c\u001b[0m\n",
       "    \u001b[37m   Status: \u001b[0m\u001b[2;33mExecuting Task...\u001b[0m\n",
       "    └── \u001b[1;32m🤖 Agent: \u001b[0m\u001b[32mNeuroscience Named Entity Recognition (NER) Extractor Agent\u001b[0m\n",
       "        \u001b[37m    Status: \u001b[0m\u001b[1;32mIn Progress\u001b[0m\n"
      ]
     },
     "metadata": {},
     "output_type": "display_data"
    },
    {
     "data": {
      "text/html": [
       "<pre style=\"white-space:pre;overflow-x:auto;line-height:normal;font-family:Menlo,'DejaVu Sans Mono',consolas,'Courier New',monospace\">\n",
       "</pre>\n"
      ],
      "text/plain": [
       "\n"
      ]
     },
     "metadata": {},
     "output_type": "display_data"
    },
    {
     "name": "stdout",
     "output_type": "stream",
     "text": [
      "2025-04-08 16:57:50,764 - httpx - INFO - HTTP Request: POST http://localhost:11434/api/embeddings \"HTTP/1.1 200 OK\"\n",
      "2025-04-08 16:57:50,804 - httpx - INFO - HTTP Request: POST http://localhost:11434/api/embeddings \"HTTP/1.1 200 OK\"\n",
      "2025-04-08 16:57:50,833 - httpx - INFO - HTTP Request: POST http://localhost:11434/api/embeddings \"HTTP/1.1 200 OK\"\n",
      "2025-04-08 16:57:50,860 - httpx - INFO - HTTP Request: POST http://localhost:11434/api/embeddings \"HTTP/1.1 200 OK\"\n"
     ]
    },
    {
     "data": {
      "text/html": [
       "<pre style=\"white-space:pre;overflow-x:auto;line-height:normal;font-family:Menlo,'DejaVu Sans Mono',consolas,'Courier New',monospace\"><span style=\"color: #008080; text-decoration-color: #008080; font-weight: bold\">🚀 Crew: crew</span>\n",
       "└── <span style=\"color: #808000; text-decoration-color: #808000; font-weight: bold\">📋 Task: 2d567569-9cec-4026-b6f1-bcb9daff773c</span>\n",
       "    <span style=\"color: #c0c0c0; text-decoration-color: #c0c0c0\">   Status: </span><span style=\"color: #bfbf7f; text-decoration-color: #bfbf7f\">Executing Task...</span>\n",
       "    └── <span style=\"color: #008000; text-decoration-color: #008000; font-weight: bold\">🤖 Agent: </span><span style=\"color: #008000; text-decoration-color: #008000\">Neuroscience Named Entity Recognition (NER) Extractor Agent</span>\n",
       "        <span style=\"color: #c0c0c0; text-decoration-color: #c0c0c0\">    Status: </span><span style=\"color: #008000; text-decoration-color: #008000; font-weight: bold\">✅ Completed</span>\n",
       "</pre>\n"
      ],
      "text/plain": [
       "\u001b[1;36m🚀 Crew: \u001b[0m\u001b[1;36mcrew\u001b[0m\n",
       "└── \u001b[1;33m📋 Task: 2d567569-9cec-4026-b6f1-bcb9daff773c\u001b[0m\n",
       "    \u001b[37m   Status: \u001b[0m\u001b[2;33mExecuting Task...\u001b[0m\n",
       "    └── \u001b[1;32m🤖 Agent: \u001b[0m\u001b[32mNeuroscience Named Entity Recognition (NER) Extractor Agent\u001b[0m\n",
       "        \u001b[37m    Status: \u001b[0m\u001b[1;32m✅ Completed\u001b[0m\n"
      ]
     },
     "metadata": {},
     "output_type": "display_data"
    },
    {
     "data": {
      "text/html": [
       "<pre style=\"white-space:pre;overflow-x:auto;line-height:normal;font-family:Menlo,'DejaVu Sans Mono',consolas,'Courier New',monospace\">\n",
       "</pre>\n"
      ],
      "text/plain": [
       "\n"
      ]
     },
     "metadata": {},
     "output_type": "display_data"
    },
    {
     "data": {
      "text/html": [
       "<pre style=\"white-space:pre;overflow-x:auto;line-height:normal;font-family:Menlo,'DejaVu Sans Mono',consolas,'Courier New',monospace\"><span style=\"color: #008080; text-decoration-color: #008080; font-weight: bold\">🚀 Crew: crew</span>\n",
       "└── <span style=\"color: #008000; text-decoration-color: #008000; font-weight: bold\">📋 Task: 2d567569-9cec-4026-b6f1-bcb9daff773c</span>\n",
       "    <span style=\"color: #c0c0c0; text-decoration-color: #c0c0c0\">   Assigned to: </span><span style=\"color: #008000; text-decoration-color: #008000\">Neuroscience Named Entity Recognition (NER) Extractor Agent</span>\n",
       "    <span style=\"color: #c0c0c0; text-decoration-color: #c0c0c0\">   Status: </span><span style=\"color: #008000; text-decoration-color: #008000; font-weight: bold\">✅ Completed</span>\n",
       "    └── <span style=\"color: #008000; text-decoration-color: #008000; font-weight: bold\">🤖 Agent: </span><span style=\"color: #008000; text-decoration-color: #008000\">Neuroscience Named Entity Recognition (NER) Extractor Agent</span>\n",
       "        <span style=\"color: #c0c0c0; text-decoration-color: #c0c0c0\">    Status: </span><span style=\"color: #008000; text-decoration-color: #008000; font-weight: bold\">✅ Completed</span>\n",
       "</pre>\n"
      ],
      "text/plain": [
       "\u001b[1;36m🚀 Crew: \u001b[0m\u001b[1;36mcrew\u001b[0m\n",
       "└── \u001b[1;32m📋 Task: 2d567569-9cec-4026-b6f1-bcb9daff773c\u001b[0m\n",
       "    \u001b[37m   Assigned to: \u001b[0m\u001b[32mNeuroscience Named Entity Recognition (NER) Extractor Agent\u001b[0m\n",
       "    \u001b[37m   Status: \u001b[0m\u001b[1;32m✅ Completed\u001b[0m\n",
       "    └── \u001b[1;32m🤖 Agent: \u001b[0m\u001b[32mNeuroscience Named Entity Recognition (NER) Extractor Agent\u001b[0m\n",
       "        \u001b[37m    Status: \u001b[0m\u001b[1;32m✅ Completed\u001b[0m\n"
      ]
     },
     "metadata": {},
     "output_type": "display_data"
    },
    {
     "data": {
      "text/html": [
       "<pre style=\"white-space:pre;overflow-x:auto;line-height:normal;font-family:Menlo,'DejaVu Sans Mono',consolas,'Courier New',monospace\"><span style=\"color: #008000; text-decoration-color: #008000\">╭──────────────────────────────────────────────── Task Completion ────────────────────────────────────────────────╮</span>\n",
       "<span style=\"color: #008000; text-decoration-color: #008000\">│</span>                                                                                                                 <span style=\"color: #008000; text-decoration-color: #008000\">│</span>\n",
       "<span style=\"color: #008000; text-decoration-color: #008000\">│</span>  <span style=\"color: #008000; text-decoration-color: #008000; font-weight: bold\">Task Completed</span>                                                                                                 <span style=\"color: #008000; text-decoration-color: #008000\">│</span>\n",
       "<span style=\"color: #008000; text-decoration-color: #008000\">│</span>  <span style=\"color: #c0c0c0; text-decoration-color: #c0c0c0\">Name: </span><span style=\"color: #008000; text-decoration-color: #008000\">2d567569-9cec-4026-b6f1-bcb9daff773c</span>                                                                     <span style=\"color: #008000; text-decoration-color: #008000\">│</span>\n",
       "<span style=\"color: #008000; text-decoration-color: #008000\">│</span>  <span style=\"color: #c0c0c0; text-decoration-color: #c0c0c0\">Agent: </span><span style=\"color: #008000; text-decoration-color: #008000\">Neuroscience Named Entity Recognition (NER) Extractor Agent</span>                                             <span style=\"color: #008000; text-decoration-color: #008000\">│</span>\n",
       "<span style=\"color: #008000; text-decoration-color: #008000\">│</span>                                                                                                                 <span style=\"color: #008000; text-decoration-color: #008000\">│</span>\n",
       "<span style=\"color: #008000; text-decoration-color: #008000\">│</span>                                                                                                                 <span style=\"color: #008000; text-decoration-color: #008000\">│</span>\n",
       "<span style=\"color: #008000; text-decoration-color: #008000\">╰─────────────────────────────────────────────────────────────────────────────────────────────────────────────────╯</span>\n",
       "</pre>\n"
      ],
      "text/plain": [
       "\u001b[32m╭─\u001b[0m\u001b[32m───────────────────────────────────────────────\u001b[0m\u001b[32m Task Completion \u001b[0m\u001b[32m───────────────────────────────────────────────\u001b[0m\u001b[32m─╮\u001b[0m\n",
       "\u001b[32m│\u001b[0m                                                                                                                 \u001b[32m│\u001b[0m\n",
       "\u001b[32m│\u001b[0m  \u001b[1;32mTask Completed\u001b[0m                                                                                                 \u001b[32m│\u001b[0m\n",
       "\u001b[32m│\u001b[0m  \u001b[37mName: \u001b[0m\u001b[32m2d567569-9cec-4026-b6f1-bcb9daff773c\u001b[0m                                                                     \u001b[32m│\u001b[0m\n",
       "\u001b[32m│\u001b[0m  \u001b[37mAgent: \u001b[0m\u001b[32mNeuroscience Named Entity Recognition (NER) Extractor Agent\u001b[0m                                             \u001b[32m│\u001b[0m\n",
       "\u001b[32m│\u001b[0m                                                                                                                 \u001b[32m│\u001b[0m\n",
       "\u001b[32m│\u001b[0m                                                                                                                 \u001b[32m│\u001b[0m\n",
       "\u001b[32m╰─────────────────────────────────────────────────────────────────────────────────────────────────────────────────╯\u001b[0m\n"
      ]
     },
     "metadata": {},
     "output_type": "display_data"
    },
    {
     "data": {
      "text/html": [
       "<pre style=\"white-space:pre;overflow-x:auto;line-height:normal;font-family:Menlo,'DejaVu Sans Mono',consolas,'Courier New',monospace\">\n",
       "</pre>\n"
      ],
      "text/plain": [
       "\n"
      ]
     },
     "metadata": {},
     "output_type": "display_data"
    },
    {
     "data": {
      "text/html": [
       "<pre style=\"white-space:pre;overflow-x:auto;line-height:normal;font-family:Menlo,'DejaVu Sans Mono',consolas,'Courier New',monospace\"><span style=\"color: #008000; text-decoration-color: #008000\">╭──────────────────────────────────────────────── Crew Completion ────────────────────────────────────────────────╮</span>\n",
       "<span style=\"color: #008000; text-decoration-color: #008000\">│</span>                                                                                                                 <span style=\"color: #008000; text-decoration-color: #008000\">│</span>\n",
       "<span style=\"color: #008000; text-decoration-color: #008000\">│</span>  <span style=\"color: #008000; text-decoration-color: #008000; font-weight: bold\">Crew Execution Completed</span>                                                                                       <span style=\"color: #008000; text-decoration-color: #008000\">│</span>\n",
       "<span style=\"color: #008000; text-decoration-color: #008000\">│</span>  <span style=\"color: #c0c0c0; text-decoration-color: #c0c0c0\">Name: </span><span style=\"color: #008000; text-decoration-color: #008000\">crew</span>                                                                                                     <span style=\"color: #008000; text-decoration-color: #008000\">│</span>\n",
       "<span style=\"color: #008000; text-decoration-color: #008000\">│</span>  <span style=\"color: #c0c0c0; text-decoration-color: #c0c0c0\">ID: </span><span style=\"color: #008000; text-decoration-color: #008000\">98c49957-cd8e-4cd3-850f-6d1a98942a99</span>                                                                       <span style=\"color: #008000; text-decoration-color: #008000\">│</span>\n",
       "<span style=\"color: #008000; text-decoration-color: #008000\">│</span>                                                                                                                 <span style=\"color: #008000; text-decoration-color: #008000\">│</span>\n",
       "<span style=\"color: #008000; text-decoration-color: #008000\">│</span>                                                                                                                 <span style=\"color: #008000; text-decoration-color: #008000\">│</span>\n",
       "<span style=\"color: #008000; text-decoration-color: #008000\">╰─────────────────────────────────────────────────────────────────────────────────────────────────────────────────╯</span>\n",
       "</pre>\n"
      ],
      "text/plain": [
       "\u001b[32m╭─\u001b[0m\u001b[32m───────────────────────────────────────────────\u001b[0m\u001b[32m Crew Completion \u001b[0m\u001b[32m───────────────────────────────────────────────\u001b[0m\u001b[32m─╮\u001b[0m\n",
       "\u001b[32m│\u001b[0m                                                                                                                 \u001b[32m│\u001b[0m\n",
       "\u001b[32m│\u001b[0m  \u001b[1;32mCrew Execution Completed\u001b[0m                                                                                       \u001b[32m│\u001b[0m\n",
       "\u001b[32m│\u001b[0m  \u001b[37mName: \u001b[0m\u001b[32mcrew\u001b[0m                                                                                                     \u001b[32m│\u001b[0m\n",
       "\u001b[32m│\u001b[0m  \u001b[37mID: \u001b[0m\u001b[32m98c49957-cd8e-4cd3-850f-6d1a98942a99\u001b[0m                                                                       \u001b[32m│\u001b[0m\n",
       "\u001b[32m│\u001b[0m                                                                                                                 \u001b[32m│\u001b[0m\n",
       "\u001b[32m│\u001b[0m                                                                                                                 \u001b[32m│\u001b[0m\n",
       "\u001b[32m╰─────────────────────────────────────────────────────────────────────────────────────────────────────────────────╯\u001b[0m\n"
      ]
     },
     "metadata": {},
     "output_type": "display_data"
    },
    {
     "data": {
      "text/html": [
       "<pre style=\"white-space:pre;overflow-x:auto;line-height:normal;font-family:Menlo,'DejaVu Sans Mono',consolas,'Courier New',monospace\">\n",
       "</pre>\n"
      ],
      "text/plain": [
       "\n"
      ]
     },
     "metadata": {},
     "output_type": "display_data"
    },
    {
     "name": "stdout",
     "output_type": "stream",
     "text": [
      "2025-04-08 16:57:50,892 - structsense.app - INFO - Extraction complete with 0 terms\n"
     ]
    },
    {
     "data": {
      "text/html": [
       "<pre style=\"white-space:pre;overflow-x:auto;line-height:normal;font-family:Menlo,'DejaVu Sans Mono',consolas,'Courier New',monospace\"><span style=\"color: #000080; text-decoration-color: #000080; font-weight: bold\">🌊 Flow: </span><span style=\"color: #000080; text-decoration-color: #000080\">StructSenseFlow</span>\n",
       "<span style=\"color: #c0c0c0; text-decoration-color: #c0c0c0\">    ID: </span><span style=\"color: #000080; text-decoration-color: #000080\">ed3d98e0-5d20-4d25-817b-ed8203dc4a37</span>\n",
       "├── <span style=\"color: #c0c0c0; text-decoration-color: #c0c0c0\">Flow Method Step</span>\n",
       "├── <span style=\"color: #008000; text-decoration-color: #008000; font-weight: bold\">✅ Completed: process_inputs</span>\n",
       "└── <span style=\"color: #008000; text-decoration-color: #008000; font-weight: bold\">✅ Completed: extracted_structured_information</span>\n",
       "</pre>\n"
      ],
      "text/plain": [
       "\u001b[1;34m🌊 Flow: \u001b[0m\u001b[34mStructSenseFlow\u001b[0m\n",
       "\u001b[37m    ID: \u001b[0m\u001b[34med3d98e0-5d20-4d25-817b-ed8203dc4a37\u001b[0m\n",
       "├── \u001b[37mFlow Method Step\u001b[0m\n",
       "├── \u001b[1;32m✅ Completed:\u001b[0m\u001b[1;32m process_inputs\u001b[0m\n",
       "└── \u001b[1;32m✅ Completed:\u001b[0m\u001b[1;32m extracted_structured_information\u001b[0m\n"
      ]
     },
     "metadata": {},
     "output_type": "display_data"
    },
    {
     "data": {
      "text/html": [
       "<pre style=\"white-space:pre;overflow-x:auto;line-height:normal;font-family:Menlo,'DejaVu Sans Mono',consolas,'Courier New',monospace\">\n",
       "</pre>\n"
      ],
      "text/plain": [
       "\n"
      ]
     },
     "metadata": {},
     "output_type": "display_data"
    },
    {
     "data": {
      "text/html": [
       "<pre style=\"white-space:pre;overflow-x:auto;line-height:normal;font-family:Menlo,'DejaVu Sans Mono',consolas,'Courier New',monospace\"><span style=\"color: #000080; text-decoration-color: #000080; font-weight: bold\">🌊 Flow: </span><span style=\"color: #000080; text-decoration-color: #000080\">StructSenseFlow</span>\n",
       "<span style=\"color: #c0c0c0; text-decoration-color: #c0c0c0\">    ID: </span><span style=\"color: #000080; text-decoration-color: #000080\">ed3d98e0-5d20-4d25-817b-ed8203dc4a37</span>\n",
       "├── <span style=\"color: #c0c0c0; text-decoration-color: #c0c0c0\">Flow Method Step</span>\n",
       "├── <span style=\"color: #008000; text-decoration-color: #008000; font-weight: bold\">✅ Completed: process_inputs</span>\n",
       "├── <span style=\"color: #008000; text-decoration-color: #008000; font-weight: bold\">✅ Completed: extracted_structured_information</span>\n",
       "└── <span style=\"color: #808000; text-decoration-color: #808000; font-weight: bold\">🔄 Running: align_structured_information</span>\n",
       "</pre>\n"
      ],
      "text/plain": [
       "\u001b[1;34m🌊 Flow: \u001b[0m\u001b[34mStructSenseFlow\u001b[0m\n",
       "\u001b[37m    ID: \u001b[0m\u001b[34med3d98e0-5d20-4d25-817b-ed8203dc4a37\u001b[0m\n",
       "├── \u001b[37mFlow Method Step\u001b[0m\n",
       "├── \u001b[1;32m✅ Completed:\u001b[0m\u001b[1;32m process_inputs\u001b[0m\n",
       "├── \u001b[1;32m✅ Completed:\u001b[0m\u001b[1;32m extracted_structured_information\u001b[0m\n",
       "└── \u001b[1;33m🔄 Running:\u001b[0m\u001b[1;33m align_structured_information\u001b[0m\n"
      ]
     },
     "metadata": {},
     "output_type": "display_data"
    },
    {
     "data": {
      "text/html": [
       "<pre style=\"white-space:pre;overflow-x:auto;line-height:normal;font-family:Menlo,'DejaVu Sans Mono',consolas,'Courier New',monospace\">\n",
       "</pre>\n"
      ],
      "text/plain": [
       "\n"
      ]
     },
     "metadata": {},
     "output_type": "display_data"
    },
    {
     "name": "stdout",
     "output_type": "stream",
     "text": [
      "2025-04-08 16:57:50,900 - structsense.app - INFO - Starting structured information alignment\n",
      "2025-04-08 16:57:50,902 - structsense.app - INFO - Successfully initialized alignment_agent and alignment_task\n",
      "2025-04-08 16:57:50,924 - httpx - INFO - HTTP Request: GET http://localhost:8080/v1/meta \"HTTP/1.1 200 OK\"\n",
      "2025-04-08 16:57:51,024 - httpx - INFO - HTTP Request: GET https://pypi.org/pypi/weaviate-client/json \"HTTP/1.1 200 OK\"\n",
      "2025-04-08 16:57:51,092 - utils.utils - INFO - ✅ Successfully connected to Weaviate\n",
      "2025-04-08 16:57:51,098 - httpx - INFO - HTTP Request: GET http://localhost:8080/v1/schema/Ontology_database_agent_test1 \"HTTP/1.1 200 OK\"\n",
      "2025-04-08 16:57:51,164 - utils.utils - INFO - Found 3 results for query: 'APOE GENE: [Object(uuid=_WeaviateUUIDInt('36180ea9-a373-55f9-a9d9-1d965b96d648'), metadata=MetadataReturn(creation_time=None, last_update_time=None, distance=None, certainty=None, score=None, explain_score=None, is_consistent=None, rerank_score=None), properties={'all_synonyms_combined': None, 'ontology': 'go', 'class_id': 'PR_A2VEC9', 'label': 'SCO-spondin (human)', 'class_uri': 'http://purl.obolibrary.org/obo/PR_A2VEC9', 'definition': 'Category=organism-gene.'}, references=None, vector={}, collection='Ontology_database_agent_test1'), Object(uuid=_WeaviateUUIDInt('6fb590df-6238-5e7d-9d25-050113f8a163'), metadata=MetadataReturn(creation_time=None, last_update_time=None, distance=None, certainty=None, score=None, explain_score=None, is_consistent=None, rerank_score=None), properties={'ontology': 'cl', 'class_uri': 'http://purl.obolibrary.org/obo/PR_P16406', 'all_synonyms_combined': None, 'definition': 'Category=organism-gene.', 'label': 'glutamyl aminopeptidase (mouse)', 'class_id': 'PR_P16406'}, references=None, vector={}, collection='Ontology_database_agent_test1'), Object(uuid=_WeaviateUUIDInt('ad010b7d-0d89-5993-bfec-56670b78d779'), metadata=MetadataReturn(creation_time=None, last_update_time=None, distance=None, certainty=None, score=None, explain_score=None, is_consistent=None, rerank_score=None), properties={'class_id': 'PR_Q6PZD9', 'all_synonyms_combined': None, 'definition': 'Category=organism-gene.', 'label': 'CCAAT/enhancer-binding protein epsilon (mouse)', 'class_uri': 'http://purl.obolibrary.org/obo/PR_Q6PZD9', 'ontology': 'cl'}, references=None, vector={}, collection='Ontology_database_agent_test1')]'\n",
      "2025-04-08 16:57:51,165 - utils.utils - INFO - [{'all_synonyms_combined': None, 'ontology': 'go', 'class_id': 'PR_A2VEC9', 'label': 'SCO-spondin (human)', 'class_uri': 'http://purl.obolibrary.org/obo/PR_A2VEC9', 'definition': 'Category=organism-gene.'}, {'ontology': 'cl', 'class_uri': 'http://purl.obolibrary.org/obo/PR_P16406', 'all_synonyms_combined': None, 'definition': 'Category=organism-gene.', 'label': 'glutamyl aminopeptidase (mouse)', 'class_id': 'PR_P16406'}, {'class_id': 'PR_Q6PZD9', 'all_synonyms_combined': None, 'definition': 'Category=organism-gene.', 'label': 'CCAAT/enhancer-binding protein epsilon (mouse)', 'class_uri': 'http://purl.obolibrary.org/obo/PR_Q6PZD9', 'ontology': 'cl'}]\n",
      "2025-04-08 16:57:51,184 - httpx - INFO - HTTP Request: GET http://localhost:8080/v1/meta \"HTTP/1.1 200 OK\"\n",
      "2025-04-08 16:57:51,308 - httpx - INFO - HTTP Request: GET https://pypi.org/pypi/weaviate-client/json \"HTTP/1.1 200 OK\"\n",
      "2025-04-08 16:57:51,390 - utils.utils - INFO - ✅ Successfully connected to Weaviate\n",
      "2025-04-08 16:57:51,398 - httpx - INFO - HTTP Request: GET http://localhost:8080/v1/schema/Ontology_database_agent_test1 \"HTTP/1.1 200 OK\"\n",
      "2025-04-08 16:57:51,449 - utils.utils - INFO - Found 3 results for query: 'neurodegenerative disorders DISORDER: [Object(uuid=_WeaviateUUIDInt('4e7e51d1-57d3-58cf-9f32-884d0a65d88a'), metadata=MetadataReturn(creation_time=None, last_update_time=None, distance=None, certainty=None, score=None, explain_score=None, is_consistent=None, rerank_score=None), properties={'class_id': 'CL_4042031', 'all_synonyms_combined': None, 'ontology': 'cl', 'class_uri': 'http://purl.obolibrary.org/obo/CL_4042031', 'label': 'immune oligodendroglia', 'definition': 'During inflammation, immuno oligodendroglia express MHC II to interact with immune cells in mouse models (Harrington et al., 2023; Madeira et al., 2022). In a mouse model of major depressive disorder and chronic stress, immuno oligodendroglia were associated with prefrontal cortex hypomyelination (Kokkosis et al., 2022).'}, references=None, vector={}, collection='Ontology_database_agent_test1'), Object(uuid=_WeaviateUUIDInt('e0369e2e-9bfd-56ed-b0aa-91b953945688'), metadata=MetadataReturn(creation_time=None, last_update_time=None, distance=None, certainty=None, score=None, explain_score=None, is_consistent=None, rerank_score=None), properties={'all_synonyms_combined': None, 'ontology': 'cl', 'class_uri': 'http://purl.obolibrary.org/obo/CL_4042025', 'class_id': 'CL_4042025', 'definition': \"A midbrain dopaminergic neuron that has its soma located in a substantia nigra. This dopaminergic neuron type is highly metabolically active and it is involved in the regulation of movement, cognition, motivation and reward. Neurodegeneration of this dopaminergic neuronal type causes loss in fine motor control in Parkinson's Disease.\", 'label': 'substantia nigra dopaminergic neuron'}, references=None, vector={}, collection='Ontology_database_agent_test1'), Object(uuid=_WeaviateUUIDInt('80ab70c5-9f0f-5e2b-9fa2-a3486b7ede23'), metadata=MetadataReturn(creation_time=None, last_update_time=None, distance=None, certainty=None, score=None, explain_score=None, is_consistent=None, rerank_score=None), properties={'class_id': 'CL_4030054', 'class_uri': 'http://purl.obolibrary.org/obo/CL_4030054', 'all_synonyms_combined': None, 'definition': 'Regarding the abbreviation D1-NUDAP, NUDAP stands for \"neurochemically unique domains in the accumbens and putamen\". In Rhesus macaques, the RXFP1-positive interface island D1-medium spiny neuron (D1-NUDAP) has been noted to have upregulation of OPRM1 compared to DRD1-expressing medium spiny neurons located outside of the D1-exclusive island and in Islands of Calleja. Kappa-opioid receptor gene (OPRK1) has been noted to be absent from D1-NUDAP cells. Many striosome-specific markers have been noted to be upregulated in D1-NUDAP cells, including KCNIP1, KCNT1, KHDRBS3, and BACH2. PDYN, an acknowledged D1-striosome marker gene, has also been noted to be expressed in D1-NUDAPs. D1-NUDAPs also express some genes found to be selectively expressed in the matrix, including STXBP6, GDA, and SEMA3E. Gene enrichment analysis has revealed that D1-NUDAP neurons express genes that have been implicated in drug addiction and many other functions.', 'ontology': 'cl', 'label': 'RXFP1-positive interface island D1-medium spiny neuron'}, references=None, vector={}, collection='Ontology_database_agent_test1')]'\n",
      "2025-04-08 16:57:51,451 - utils.utils - INFO - [{'class_id': 'CL_4042031', 'all_synonyms_combined': None, 'ontology': 'cl', 'class_uri': 'http://purl.obolibrary.org/obo/CL_4042031', 'label': 'immune oligodendroglia', 'definition': 'During inflammation, immuno oligodendroglia express MHC II to interact with immune cells in mouse models (Harrington et al., 2023; Madeira et al., 2022). In a mouse model of major depressive disorder and chronic stress, immuno oligodendroglia were associated with prefrontal cortex hypomyelination (Kokkosis et al., 2022).'}, {'all_synonyms_combined': None, 'ontology': 'cl', 'class_uri': 'http://purl.obolibrary.org/obo/CL_4042025', 'class_id': 'CL_4042025', 'definition': \"A midbrain dopaminergic neuron that has its soma located in a substantia nigra. This dopaminergic neuron type is highly metabolically active and it is involved in the regulation of movement, cognition, motivation and reward. Neurodegeneration of this dopaminergic neuronal type causes loss in fine motor control in Parkinson's Disease.\", 'label': 'substantia nigra dopaminergic neuron'}, {'class_id': 'CL_4030054', 'class_uri': 'http://purl.obolibrary.org/obo/CL_4030054', 'all_synonyms_combined': None, 'definition': 'Regarding the abbreviation D1-NUDAP, NUDAP stands for \"neurochemically unique domains in the accumbens and putamen\". In Rhesus macaques, the RXFP1-positive interface island D1-medium spiny neuron (D1-NUDAP) has been noted to have upregulation of OPRM1 compared to DRD1-expressing medium spiny neurons located outside of the D1-exclusive island and in Islands of Calleja. Kappa-opioid receptor gene (OPRK1) has been noted to be absent from D1-NUDAP cells. Many striosome-specific markers have been noted to be upregulated in D1-NUDAP cells, including KCNIP1, KCNT1, KHDRBS3, and BACH2. PDYN, an acknowledged D1-striosome marker gene, has also been noted to be expressed in D1-NUDAPs. D1-NUDAPs also express some genes found to be selectively expressed in the matrix, including STXBP6, GDA, and SEMA3E. Gene enrichment analysis has revealed that D1-NUDAP neurons express genes that have been implicated in drug addiction and many other functions.', 'ontology': 'cl', 'label': 'RXFP1-positive interface island D1-medium spiny neuron'}]\n",
      "2025-04-08 16:57:51,474 - httpx - INFO - HTTP Request: GET http://localhost:8080/v1/meta \"HTTP/1.1 200 OK\"\n",
      "2025-04-08 16:57:51,582 - httpx - INFO - HTTP Request: GET https://pypi.org/pypi/weaviate-client/json \"HTTP/1.1 200 OK\"\n",
      "2025-04-08 16:57:51,655 - utils.utils - INFO - ✅ Successfully connected to Weaviate\n",
      "2025-04-08 16:57:51,663 - httpx - INFO - HTTP Request: GET http://localhost:8080/v1/schema/Ontology_database_agent_test1 \"HTTP/1.1 200 OK\"\n",
      "2025-04-08 16:57:51,710 - utils.utils - INFO - Found 3 results for query: 'astrocytes CELL_TYPE: [Object(uuid=_WeaviateUUIDInt('8c294849-93cd-53ec-b6a3-08502b49bde6'), metadata=MetadataReturn(creation_time=None, last_update_time=None, distance=None, certainty=None, score=None, explain_score=None, is_consistent=None, rerank_score=None), properties={'label': 'positive regulation of apoptotic process involved in development', 'ontology': 'go', 'definition': 'U4PR86 in PMID:22801495 inferred from mutant phenotype', 'class_uri': 'http://purl.obolibrary.org/obo/GO_1904747', 'class_id': 'GO_1904747', 'all_synonyms_combined': None}, references=None, vector={}, collection='Ontology_database_agent_test1'), Object(uuid=_WeaviateUUIDInt('12028d88-97fa-599c-8c7a-f57f7ec094aa'), metadata=MetadataReturn(creation_time=None, last_update_time=None, distance=None, certainty=None, score=None, explain_score=None, is_consistent=None, rerank_score=None), properties={'label': 'astrocyte differentiation', 'class_id': 'GO_0048708', 'ontology': 'go', 'class_uri': 'http://purl.obolibrary.org/obo/GO_0048708', 'all_synonyms_combined': None, 'definition': 'The process in which a relatively unspecialized cell acquires the specialized features of an astrocyte. An astrocyte is the most abundant type of glial cell. Astrocytes provide support for neurons and regulate the environment in which they function.'}, references=None, vector={}, collection='Ontology_database_agent_test1'), Object(uuid=_WeaviateUUIDInt('154defa4-e952-55af-b774-eac09d65a58d'), metadata=MetadataReturn(creation_time=None, last_update_time=None, distance=None, certainty=None, score=None, explain_score=None, is_consistent=None, rerank_score=None), properties={'definition': 'U4PR86 in PMID:22801495 inferred from mutant phenotype', 'class_uri': 'http://purl.obolibrary.org/obo/GO_1904746', 'all_synonyms_combined': None, 'ontology': 'go', 'class_id': 'GO_1904746', 'label': 'negative regulation of apoptotic process involved in development'}, references=None, vector={}, collection='Ontology_database_agent_test1')]'\n",
      "2025-04-08 16:57:51,711 - utils.utils - INFO - [{'label': 'positive regulation of apoptotic process involved in development', 'ontology': 'go', 'definition': 'U4PR86 in PMID:22801495 inferred from mutant phenotype', 'class_uri': 'http://purl.obolibrary.org/obo/GO_1904747', 'class_id': 'GO_1904747', 'all_synonyms_combined': None}, {'label': 'astrocyte differentiation', 'class_id': 'GO_0048708', 'ontology': 'go', 'class_uri': 'http://purl.obolibrary.org/obo/GO_0048708', 'all_synonyms_combined': None, 'definition': 'The process in which a relatively unspecialized cell acquires the specialized features of an astrocyte. An astrocyte is the most abundant type of glial cell. Astrocytes provide support for neurons and regulate the environment in which they function.'}, {'definition': 'U4PR86 in PMID:22801495 inferred from mutant phenotype', 'class_uri': 'http://purl.obolibrary.org/obo/GO_1904746', 'all_synonyms_combined': None, 'ontology': 'go', 'class_id': 'GO_1904746', 'label': 'negative regulation of apoptotic process involved in development'}]\n",
      "2025-04-08 16:57:51,735 - httpx - INFO - HTTP Request: GET http://localhost:8080/v1/meta \"HTTP/1.1 200 OK\"\n",
      "2025-04-08 16:57:51,839 - httpx - INFO - HTTP Request: GET https://pypi.org/pypi/weaviate-client/json \"HTTP/1.1 200 OK\"\n",
      "2025-04-08 16:57:51,901 - utils.utils - INFO - ✅ Successfully connected to Weaviate\n",
      "2025-04-08 16:57:51,908 - httpx - INFO - HTTP Request: GET http://localhost:8080/v1/schema/Ontology_database_agent_test1 \"HTTP/1.1 200 OK\"\n",
      "2025-04-08 16:57:51,944 - utils.utils - INFO - Found 3 results for query: 'microglia CELL_TYPE: [Object(uuid=_WeaviateUUIDInt('fc41548e-a63e-591e-ac23-7b5bab41922d'), metadata=MetadataReturn(creation_time=None, last_update_time=None, distance=None, certainty=None, score=None, explain_score=None, is_consistent=None, rerank_score=None), properties={'all_synonyms_combined': None, 'definition': 'Immature microglia are reportedly CD34-positive, CD163-negative, MHCI-negative, MHCII-negative.', 'class_id': 'CL_0002628', 'class_uri': 'http://purl.obolibrary.org/obo/CL_0002628', 'label': 'immature microglial cell', 'ontology': 'cl'}, references=None, vector={}, collection='Ontology_database_agent_test1'), Object(uuid=_WeaviateUUIDInt('1a6856d6-fb7e-58cb-927e-126e461eb477'), metadata=MetadataReturn(creation_time=None, last_update_time=None, distance=None, certainty=None, score=None, explain_score=None, is_consistent=None, rerank_score=None), properties={'class_id': 'GO_0014005', 'class_uri': 'http://purl.obolibrary.org/obo/GO_0014005', 'all_synonyms_combined': None, 'label': 'microglia development', 'ontology': 'go', 'definition': 'The process aimed at the progression of a microglial cell over time, from initial commitment of the cell to a specific fate, to the fully functional differentiated cell.'}, references=None, vector={}, collection='Ontology_database_agent_test1'), Object(uuid=_WeaviateUUIDInt('da5180c5-0123-51b9-b5dc-af9fa621aadc'), metadata=MetadataReturn(creation_time=None, last_update_time=None, distance=None, certainty=None, score=None, explain_score=None, is_consistent=None, rerank_score=None), properties={'ontology': 'go', 'definition': 'The process in which a relatively unspecialized cell acquires specialized features of a microglial cell. Microglia are glial cells that act as the immune cells of the central nervous system. They form part of the supporting structure of this system.', 'class_id': 'GO_0014004', 'all_synonyms_combined': None, 'label': 'microglia differentiation', 'class_uri': 'http://purl.obolibrary.org/obo/GO_0014004'}, references=None, vector={}, collection='Ontology_database_agent_test1')]'\n",
      "2025-04-08 16:57:51,946 - utils.utils - INFO - [{'all_synonyms_combined': None, 'definition': 'Immature microglia are reportedly CD34-positive, CD163-negative, MHCI-negative, MHCII-negative.', 'class_id': 'CL_0002628', 'class_uri': 'http://purl.obolibrary.org/obo/CL_0002628', 'label': 'immature microglial cell', 'ontology': 'cl'}, {'class_id': 'GO_0014005', 'class_uri': 'http://purl.obolibrary.org/obo/GO_0014005', 'all_synonyms_combined': None, 'label': 'microglia development', 'ontology': 'go', 'definition': 'The process aimed at the progression of a microglial cell over time, from initial commitment of the cell to a specific fate, to the fully functional differentiated cell.'}, {'ontology': 'go', 'definition': 'The process in which a relatively unspecialized cell acquires specialized features of a microglial cell. Microglia are glial cells that act as the immune cells of the central nervous system. They form part of the supporting structure of this system.', 'class_id': 'GO_0014004', 'all_synonyms_combined': None, 'label': 'microglia differentiation', 'class_uri': 'http://purl.obolibrary.org/obo/GO_0014004'}]\n",
      "\u001b[93m \n",
      "[2025-04-08 16:57:51][WARNING]: Failed to init knowledge: Please provide an OpenAI API key. You can get one at https://platform.openai.com/account/api-keys\u001b[00m\n"
     ]
    },
    {
     "data": {
      "text/html": [
       "<pre style=\"white-space:pre;overflow-x:auto;line-height:normal;font-family:Menlo,'DejaVu Sans Mono',consolas,'Courier New',monospace\"><span style=\"color: #008080; text-decoration-color: #008080\">╭──────────────────────────────────────────── Crew Execution Started ─────────────────────────────────────────────╮</span>\n",
       "<span style=\"color: #008080; text-decoration-color: #008080\">│</span>                                                                                                                 <span style=\"color: #008080; text-decoration-color: #008080\">│</span>\n",
       "<span style=\"color: #008080; text-decoration-color: #008080\">│</span>  <span style=\"color: #008080; text-decoration-color: #008080; font-weight: bold\">Crew Execution Started</span>                                                                                         <span style=\"color: #008080; text-decoration-color: #008080\">│</span>\n",
       "<span style=\"color: #008080; text-decoration-color: #008080\">│</span>  <span style=\"color: #c0c0c0; text-decoration-color: #c0c0c0\">Name: </span><span style=\"color: #008080; text-decoration-color: #008080\">crew</span>                                                                                                     <span style=\"color: #008080; text-decoration-color: #008080\">│</span>\n",
       "<span style=\"color: #008080; text-decoration-color: #008080\">│</span>  <span style=\"color: #c0c0c0; text-decoration-color: #c0c0c0\">ID: </span><span style=\"color: #008080; text-decoration-color: #008080\">dea49f43-a0a2-4296-bce1-a925452279e0</span>                                                                       <span style=\"color: #008080; text-decoration-color: #008080\">│</span>\n",
       "<span style=\"color: #008080; text-decoration-color: #008080\">│</span>                                                                                                                 <span style=\"color: #008080; text-decoration-color: #008080\">│</span>\n",
       "<span style=\"color: #008080; text-decoration-color: #008080\">│</span>                                                                                                                 <span style=\"color: #008080; text-decoration-color: #008080\">│</span>\n",
       "<span style=\"color: #008080; text-decoration-color: #008080\">╰─────────────────────────────────────────────────────────────────────────────────────────────────────────────────╯</span>\n",
       "</pre>\n"
      ],
      "text/plain": [
       "\u001b[36m╭─\u001b[0m\u001b[36m───────────────────────────────────────────\u001b[0m\u001b[36m Crew Execution Started \u001b[0m\u001b[36m────────────────────────────────────────────\u001b[0m\u001b[36m─╮\u001b[0m\n",
       "\u001b[36m│\u001b[0m                                                                                                                 \u001b[36m│\u001b[0m\n",
       "\u001b[36m│\u001b[0m  \u001b[1;36mCrew Execution Started\u001b[0m                                                                                         \u001b[36m│\u001b[0m\n",
       "\u001b[36m│\u001b[0m  \u001b[37mName: \u001b[0m\u001b[36mcrew\u001b[0m                                                                                                     \u001b[36m│\u001b[0m\n",
       "\u001b[36m│\u001b[0m  \u001b[37mID: \u001b[0m\u001b[36mdea49f43-a0a2-4296-bce1-a925452279e0\u001b[0m                                                                       \u001b[36m│\u001b[0m\n",
       "\u001b[36m│\u001b[0m                                                                                                                 \u001b[36m│\u001b[0m\n",
       "\u001b[36m│\u001b[0m                                                                                                                 \u001b[36m│\u001b[0m\n",
       "\u001b[36m╰─────────────────────────────────────────────────────────────────────────────────────────────────────────────────╯\u001b[0m\n"
      ]
     },
     "metadata": {},
     "output_type": "display_data"
    },
    {
     "data": {
      "text/html": [
       "<pre style=\"white-space:pre;overflow-x:auto;line-height:normal;font-family:Menlo,'DejaVu Sans Mono',consolas,'Courier New',monospace\">\n",
       "</pre>\n"
      ],
      "text/plain": [
       "\n"
      ]
     },
     "metadata": {},
     "output_type": "display_data"
    },
    {
     "data": {
      "text/html": [
       "<pre style=\"white-space:pre;overflow-x:auto;line-height:normal;font-family:Menlo,'DejaVu Sans Mono',consolas,'Courier New',monospace\"><span style=\"color: #008080; text-decoration-color: #008080; font-weight: bold\">🚀 Crew: crew</span>\n",
       "└── <span style=\"color: #808000; text-decoration-color: #808000; font-weight: bold\">📋 Task: e36d02e5-81b8-46ca-9e04-d65d894e45cf</span>\n",
       "    <span style=\"color: #c0c0c0; text-decoration-color: #c0c0c0\">   Status: </span><span style=\"color: #bfbf7f; text-decoration-color: #bfbf7f\">Executing Task...</span>\n",
       "</pre>\n"
      ],
      "text/plain": [
       "\u001b[1;36m🚀 Crew: \u001b[0m\u001b[1;36mcrew\u001b[0m\n",
       "└── \u001b[1;33m📋 Task: e36d02e5-81b8-46ca-9e04-d65d894e45cf\u001b[0m\n",
       "    \u001b[37m   Status: \u001b[0m\u001b[2;33mExecuting Task...\u001b[0m\n"
      ]
     },
     "metadata": {},
     "output_type": "display_data"
    },
    {
     "data": {
      "text/html": [
       "<pre style=\"white-space:pre;overflow-x:auto;line-height:normal;font-family:Menlo,'DejaVu Sans Mono',consolas,'Courier New',monospace\">\n",
       "</pre>\n"
      ],
      "text/plain": [
       "\n"
      ]
     },
     "metadata": {},
     "output_type": "display_data"
    },
    {
     "name": "stdout",
     "output_type": "stream",
     "text": [
      "2025-04-08 16:57:52,040 - httpx - INFO - HTTP Request: POST http://localhost:11434/api/embeddings \"HTTP/1.1 200 OK\"\n",
      "2025-04-08 16:57:52,123 - httpx - INFO - HTTP Request: POST http://localhost:11434/api/embeddings \"HTTP/1.1 200 OK\"\n"
     ]
    },
    {
     "data": {
      "text/html": [
       "<pre style=\"white-space:pre;overflow-x:auto;line-height:normal;font-family:Menlo,'DejaVu Sans Mono',consolas,'Courier New',monospace\"><span style=\"color: #008080; text-decoration-color: #008080; font-weight: bold\">🚀 Crew: crew</span>\n",
       "└── <span style=\"color: #808000; text-decoration-color: #808000; font-weight: bold\">📋 Task: e36d02e5-81b8-46ca-9e04-d65d894e45cf</span>\n",
       "    <span style=\"color: #c0c0c0; text-decoration-color: #c0c0c0\">   Status: </span><span style=\"color: #bfbf7f; text-decoration-color: #bfbf7f\">Executing Task...</span>\n",
       "    └── <span style=\"color: #008000; text-decoration-color: #008000; font-weight: bold\">🤖 Agent: </span><span style=\"color: #008000; text-decoration-color: #008000\">Neuroscience Named Entity Recognition (NER) Concept Alignment Agent</span>\n",
       "        <span style=\"color: #c0c0c0; text-decoration-color: #c0c0c0\">    Status: </span><span style=\"color: #008000; text-decoration-color: #008000; font-weight: bold\">In Progress</span>\n",
       "</pre>\n"
      ],
      "text/plain": [
       "\u001b[1;36m🚀 Crew: \u001b[0m\u001b[1;36mcrew\u001b[0m\n",
       "└── \u001b[1;33m📋 Task: e36d02e5-81b8-46ca-9e04-d65d894e45cf\u001b[0m\n",
       "    \u001b[37m   Status: \u001b[0m\u001b[2;33mExecuting Task...\u001b[0m\n",
       "    └── \u001b[1;32m🤖 Agent: \u001b[0m\u001b[32mNeuroscience Named Entity Recognition (NER) Concept Alignment Agent\u001b[0m\n",
       "        \u001b[37m    Status: \u001b[0m\u001b[1;32mIn Progress\u001b[0m\n"
      ]
     },
     "metadata": {},
     "output_type": "display_data"
    },
    {
     "data": {
      "text/html": [
       "<pre style=\"white-space:pre;overflow-x:auto;line-height:normal;font-family:Menlo,'DejaVu Sans Mono',consolas,'Courier New',monospace\">\n",
       "</pre>\n"
      ],
      "text/plain": [
       "\n"
      ]
     },
     "metadata": {},
     "output_type": "display_data"
    },
    {
     "name": "stdout",
     "output_type": "stream",
     "text": [
      "\u001b[1m\u001b[95m# Agent:\u001b[00m \u001b[1m\u001b[92mNeuroscience Named Entity Recognition (NER) Concept Alignment Agent\u001b[00m\n",
      "\u001b[95m## Task:\u001b[00m \u001b[92mTake the output of extractor_agent {'extracted_structured_information': {'1': [{'entity': 'APOE', 'label': 'GENE', 'sentence': 'Additionally, mutations in the APOE gene have been linked to neurodegenerative disorders, impacting astrocytes and microglia function.', 'start': 26, 'end': 30, 'paper_location': 'unknown', 'paper_title': 'unknown', 'doi': 'unknown'}], '2': [{'entity': 'neurodegenerative disorders', 'label': 'DISORDER', 'sentence': 'Additionally, mutations in the APOE gene have been linked to neurodegenerative disorders, impacting astrocytes and microglia function.', 'start': 49, 'end': 74, 'paper_location': 'unknown', 'paper_title': 'unknown', 'doi': 'unknown'}], '3': [{'entity': 'astrocytes', 'label': 'CELL_TYPE', 'sentence': 'Additionally, mutations in the APOE gene have been linked to neurodegenerative disorders, impacting astrocytes and microglia function.', 'start': 85, 'end': 95, 'paper_location': 'unknown', 'paper_title': 'unknown', 'doi': 'unknown'}], '4': [{'entity': 'microglia', 'label': 'CELL_TYPE', 'sentence': 'Additionally, mutations in the APOE gene have been linked to neurodegenerative disorders, impacting astrocytes and microglia function.', 'start': 100, 'end': 109, 'paper_location': 'unknown', 'paper_title': 'unknown', 'doi': 'unknown'}]}} as input and perform the concept alignment using the ontological concepts. A concept alignment is anything where you align the given entity to the matching concept aka class from a ontology or a schema.\u001b[00m\n"
     ]
    },
    {
     "data": {
      "text/html": [
       "<pre style=\"white-space:pre;overflow-x:auto;line-height:normal;font-family:Menlo,'DejaVu Sans Mono',consolas,'Courier New',monospace\"><span style=\"color: #008080; text-decoration-color: #008080; font-weight: bold\">🚀 Crew: crew</span>\n",
       "└── <span style=\"color: #808000; text-decoration-color: #808000; font-weight: bold\">📋 Task: e36d02e5-81b8-46ca-9e04-d65d894e45cf</span>\n",
       "    <span style=\"color: #c0c0c0; text-decoration-color: #c0c0c0\">   Status: </span><span style=\"color: #bfbf7f; text-decoration-color: #bfbf7f\">Executing Task...</span>\n",
       "    └── <span style=\"color: #008000; text-decoration-color: #008000; font-weight: bold\">🤖 Agent: </span><span style=\"color: #008000; text-decoration-color: #008000\">Neuroscience Named Entity Recognition (NER) Concept Alignment Agent</span>\n",
       "        <span style=\"color: #c0c0c0; text-decoration-color: #c0c0c0\">    Status: </span><span style=\"color: #008000; text-decoration-color: #008000; font-weight: bold\">In Progress</span>\n",
       "        └── <span style=\"color: #000080; text-decoration-color: #000080; font-weight: bold\">🧠 </span><span style=\"color: #000080; text-decoration-color: #000080\">Thinking...</span>\n",
       "</pre>\n"
      ],
      "text/plain": [
       "\u001b[1;36m🚀 Crew: \u001b[0m\u001b[1;36mcrew\u001b[0m\n",
       "└── \u001b[1;33m📋 Task: e36d02e5-81b8-46ca-9e04-d65d894e45cf\u001b[0m\n",
       "    \u001b[37m   Status: \u001b[0m\u001b[2;33mExecuting Task...\u001b[0m\n",
       "    └── \u001b[1;32m🤖 Agent: \u001b[0m\u001b[32mNeuroscience Named Entity Recognition (NER) Concept Alignment Agent\u001b[0m\n",
       "        \u001b[37m    Status: \u001b[0m\u001b[1;32mIn Progress\u001b[0m\n",
       "        └── \u001b[1;34m🧠 \u001b[0m\u001b[34mThinking...\u001b[0m\n"
      ]
     },
     "metadata": {},
     "output_type": "display_data"
    },
    {
     "data": {
      "text/html": [
       "<pre style=\"white-space:pre;overflow-x:auto;line-height:normal;font-family:Menlo,'DejaVu Sans Mono',consolas,'Courier New',monospace\">\n",
       "</pre>\n"
      ],
      "text/plain": [
       "\n"
      ]
     },
     "metadata": {},
     "output_type": "display_data"
    },
    {
     "name": "stderr",
     "output_type": "stream",
     "text": [
      "\u001b[92m16:57:52 - LiteLLM:INFO\u001b[0m: utils.py:2896 - \n",
      "LiteLLM completion() model= openai/gpt-4o-2024-11-20; provider = openrouter\n"
     ]
    },
    {
     "name": "stdout",
     "output_type": "stream",
     "text": [
      "2025-04-08 16:57:52,154 - LiteLLM - INFO - \n",
      "LiteLLM completion() model= openai/gpt-4o-2024-11-20; provider = openrouter\n",
      "2025-04-08 16:57:52,414 - httpx - INFO - HTTP Request: POST https://openrouter.ai/api/v1/chat/completions \"HTTP/1.1 200 OK\"\n"
     ]
    },
    {
     "name": "stderr",
     "output_type": "stream",
     "text": [
      "\u001b[92m16:58:00 - LiteLLM:INFO\u001b[0m: utils.py:1084 - Wrapper: Completed Call, calling success_handler\n"
     ]
    },
    {
     "name": "stdout",
     "output_type": "stream",
     "text": [
      "2025-04-08 16:58:00,006 - LiteLLM - INFO - Wrapper: Completed Call, calling success_handler\n"
     ]
    },
    {
     "data": {
      "text/html": [
       "<pre style=\"white-space:pre;overflow-x:auto;line-height:normal;font-family:Menlo,'DejaVu Sans Mono',consolas,'Courier New',monospace\"><span style=\"color: #008080; text-decoration-color: #008080; font-weight: bold\">🚀 Crew: crew</span>\n",
       "└── <span style=\"color: #808000; text-decoration-color: #808000; font-weight: bold\">📋 Task: e36d02e5-81b8-46ca-9e04-d65d894e45cf</span>\n",
       "    <span style=\"color: #c0c0c0; text-decoration-color: #c0c0c0\">   Status: </span><span style=\"color: #bfbf7f; text-decoration-color: #bfbf7f\">Executing Task...</span>\n",
       "    └── <span style=\"color: #008000; text-decoration-color: #008000; font-weight: bold\">🤖 Agent: </span><span style=\"color: #008000; text-decoration-color: #008000\">Neuroscience Named Entity Recognition (NER) Concept Alignment Agent</span>\n",
       "        <span style=\"color: #c0c0c0; text-decoration-color: #c0c0c0\">    Status: </span><span style=\"color: #008000; text-decoration-color: #008000; font-weight: bold\">In Progress</span>\n",
       "</pre>\n"
      ],
      "text/plain": [
       "\u001b[1;36m🚀 Crew: \u001b[0m\u001b[1;36mcrew\u001b[0m\n",
       "└── \u001b[1;33m📋 Task: e36d02e5-81b8-46ca-9e04-d65d894e45cf\u001b[0m\n",
       "    \u001b[37m   Status: \u001b[0m\u001b[2;33mExecuting Task...\u001b[0m\n",
       "    └── \u001b[1;32m🤖 Agent: \u001b[0m\u001b[32mNeuroscience Named Entity Recognition (NER) Concept Alignment Agent\u001b[0m\n",
       "        \u001b[37m    Status: \u001b[0m\u001b[1;32mIn Progress\u001b[0m\n"
      ]
     },
     "metadata": {},
     "output_type": "display_data"
    },
    {
     "data": {
      "text/html": [
       "<pre style=\"white-space:pre;overflow-x:auto;line-height:normal;font-family:Menlo,'DejaVu Sans Mono',consolas,'Courier New',monospace\">\n",
       "</pre>\n"
      ],
      "text/plain": [
       "\n"
      ]
     },
     "metadata": {},
     "output_type": "display_data"
    },
    {
     "name": "stdout",
     "output_type": "stream",
     "text": [
      "\n",
      "\n",
      "\u001b[1m\u001b[95m# Agent:\u001b[00m \u001b[1m\u001b[92mNeuroscience Named Entity Recognition (NER) Concept Alignment Agent\u001b[00m\n",
      "\u001b[95m## Final Answer:\u001b[00m \u001b[92m\n",
      "{\n",
      "  \"aligned_structured_information\": {\n",
      "    \"1\": [\n",
      "      {\n",
      "        \"entity\": \"APOE\",\n",
      "        \"label\": \"GENE\",\n",
      "        \"ontology_id\": \"HGNC:613\",\n",
      "        \"ontology_label\": \"APOE\",\n",
      "        \"sentence\": \"Additionally, mutations in the APOE gene have been linked to neurodegenerative disorders, impacting astrocytes and microglia function.\",\n",
      "        \"start\": 26,\n",
      "        \"end\": 30,\n",
      "        \"paper_location\": \"unknown\",\n",
      "        \"paper_title\": \"unknown\",\n",
      "        \"doi\": \"unknown\"\n",
      "      }\n",
      "    ],\n",
      "    \"2\": [\n",
      "      {\n",
      "        \"entity\": \"neurodegenerative disorders\",\n",
      "        \"label\": \"DISORDER\",\n",
      "        \"ontology_id\": \"MONDO:0021060\",\n",
      "        \"ontology_label\": \"neurodegenerative disease\",\n",
      "        \"sentence\": \"Additionally, mutations in the APOE gene have been linked to neurodegenerative disorders, impacting astrocytes and microglia function.\",\n",
      "        \"start\": 49,\n",
      "        \"end\": 74,\n",
      "        \"paper_location\": \"unknown\",\n",
      "        \"paper_title\": \"unknown\",\n",
      "        \"doi\": \"unknown\"\n",
      "      }\n",
      "    ],\n",
      "    \"3\": [\n",
      "      {\n",
      "        \"entity\": \"astrocytes\",\n",
      "        \"label\": \"CELL_TYPE\",\n",
      "        \"ontology_id\": \"CL:0000127\",\n",
      "        \"ontology_label\": \"astrocyte\",\n",
      "        \"sentence\": \"Additionally, mutations in the APOE gene have been linked to neurodegenerative disorders, impacting astrocytes and microglia function.\",\n",
      "        \"start\": 85,\n",
      "        \"end\": 95,\n",
      "        \"paper_location\": \"unknown\",\n",
      "        \"paper_title\": \"unknown\",\n",
      "        \"doi\": \"unknown\"\n",
      "      }\n",
      "    ],\n",
      "    \"4\": [\n",
      "      {\n",
      "        \"entity\": \"microglia\",\n",
      "        \"label\": \"CELL_TYPE\",\n",
      "        \"ontology_id\": \"CL:0000129\",\n",
      "        \"ontology_label\": \"microglial cell\",\n",
      "        \"sentence\": \"Additionally, mutations in the APOE gene have been linked to neurodegenerative disorders, impacting astrocytes and microglia function.\",\n",
      "        \"start\": 100,\n",
      "        \"end\": 109,\n",
      "        \"paper_location\": \"unknown\",\n",
      "        \"paper_title\": \"unknown\",\n",
      "        \"doi\": \"unknown\"\n",
      "      }\n",
      "    ]\n",
      "  }\n",
      "}\u001b[00m\n",
      "\n",
      "\n",
      "2025-04-08 16:58:00,115 - httpx - INFO - HTTP Request: POST http://localhost:11434/api/embeddings \"HTTP/1.1 200 OK\"\n"
     ]
    },
    {
     "data": {
      "text/html": [
       "<pre style=\"white-space:pre;overflow-x:auto;line-height:normal;font-family:Menlo,'DejaVu Sans Mono',consolas,'Courier New',monospace\"><span style=\"color: #008080; text-decoration-color: #008080; font-weight: bold\">🚀 Crew: crew</span>\n",
       "└── <span style=\"color: #808000; text-decoration-color: #808000; font-weight: bold\">📋 Task: e36d02e5-81b8-46ca-9e04-d65d894e45cf</span>\n",
       "    <span style=\"color: #c0c0c0; text-decoration-color: #c0c0c0\">   Status: </span><span style=\"color: #bfbf7f; text-decoration-color: #bfbf7f\">Executing Task...</span>\n",
       "    └── <span style=\"color: #008000; text-decoration-color: #008000; font-weight: bold\">🤖 Agent: </span><span style=\"color: #008000; text-decoration-color: #008000\">Neuroscience Named Entity Recognition (NER) Concept Alignment Agent</span>\n",
       "        <span style=\"color: #c0c0c0; text-decoration-color: #c0c0c0\">    Status: </span><span style=\"color: #008000; text-decoration-color: #008000; font-weight: bold\">In Progress</span>\n",
       "        └── <span style=\"color: #000080; text-decoration-color: #000080; font-weight: bold\">🧠 </span><span style=\"color: #000080; text-decoration-color: #000080\">Thinking...</span>\n",
       "</pre>\n"
      ],
      "text/plain": [
       "\u001b[1;36m🚀 Crew: \u001b[0m\u001b[1;36mcrew\u001b[0m\n",
       "└── \u001b[1;33m📋 Task: e36d02e5-81b8-46ca-9e04-d65d894e45cf\u001b[0m\n",
       "    \u001b[37m   Status: \u001b[0m\u001b[2;33mExecuting Task...\u001b[0m\n",
       "    └── \u001b[1;32m🤖 Agent: \u001b[0m\u001b[32mNeuroscience Named Entity Recognition (NER) Concept Alignment Agent\u001b[0m\n",
       "        \u001b[37m    Status: \u001b[0m\u001b[1;32mIn Progress\u001b[0m\n",
       "        └── \u001b[1;34m🧠 \u001b[0m\u001b[34mThinking...\u001b[0m\n"
      ]
     },
     "metadata": {},
     "output_type": "display_data"
    },
    {
     "data": {
      "text/html": [
       "<pre style=\"white-space:pre;overflow-x:auto;line-height:normal;font-family:Menlo,'DejaVu Sans Mono',consolas,'Courier New',monospace\">\n",
       "</pre>\n"
      ],
      "text/plain": [
       "\n"
      ]
     },
     "metadata": {},
     "output_type": "display_data"
    },
    {
     "name": "stderr",
     "output_type": "stream",
     "text": [
      "\u001b[92m16:58:00 - LiteLLM:INFO\u001b[0m: utils.py:2896 - \n",
      "LiteLLM completion() model= openai/gpt-4o-2024-11-20; provider = openrouter\n"
     ]
    },
    {
     "name": "stdout",
     "output_type": "stream",
     "text": [
      "2025-04-08 16:58:00,146 - LiteLLM - INFO - \n",
      "LiteLLM completion() model= openai/gpt-4o-2024-11-20; provider = openrouter\n",
      "2025-04-08 16:58:00,331 - httpx - INFO - HTTP Request: POST https://openrouter.ai/api/v1/chat/completions \"HTTP/1.1 200 OK\"\n"
     ]
    },
    {
     "name": "stderr",
     "output_type": "stream",
     "text": [
      "\u001b[92m16:58:05 - LiteLLM:INFO\u001b[0m: utils.py:1084 - Wrapper: Completed Call, calling success_handler\n"
     ]
    },
    {
     "name": "stdout",
     "output_type": "stream",
     "text": [
      "2025-04-08 16:58:05,886 - LiteLLM - INFO - Wrapper: Completed Call, calling success_handler\n"
     ]
    },
    {
     "data": {
      "text/html": [
       "<pre style=\"white-space:pre;overflow-x:auto;line-height:normal;font-family:Menlo,'DejaVu Sans Mono',consolas,'Courier New',monospace\"><span style=\"color: #008080; text-decoration-color: #008080; font-weight: bold\">🚀 Crew: crew</span>\n",
       "└── <span style=\"color: #808000; text-decoration-color: #808000; font-weight: bold\">📋 Task: e36d02e5-81b8-46ca-9e04-d65d894e45cf</span>\n",
       "    <span style=\"color: #c0c0c0; text-decoration-color: #c0c0c0\">   Status: </span><span style=\"color: #bfbf7f; text-decoration-color: #bfbf7f\">Executing Task...</span>\n",
       "    └── <span style=\"color: #008000; text-decoration-color: #008000; font-weight: bold\">🤖 Agent: </span><span style=\"color: #008000; text-decoration-color: #008000\">Neuroscience Named Entity Recognition (NER) Concept Alignment Agent</span>\n",
       "        <span style=\"color: #c0c0c0; text-decoration-color: #c0c0c0\">    Status: </span><span style=\"color: #008000; text-decoration-color: #008000; font-weight: bold\">In Progress</span>\n",
       "</pre>\n"
      ],
      "text/plain": [
       "\u001b[1;36m🚀 Crew: \u001b[0m\u001b[1;36mcrew\u001b[0m\n",
       "└── \u001b[1;33m📋 Task: e36d02e5-81b8-46ca-9e04-d65d894e45cf\u001b[0m\n",
       "    \u001b[37m   Status: \u001b[0m\u001b[2;33mExecuting Task...\u001b[0m\n",
       "    └── \u001b[1;32m🤖 Agent: \u001b[0m\u001b[32mNeuroscience Named Entity Recognition (NER) Concept Alignment Agent\u001b[0m\n",
       "        \u001b[37m    Status: \u001b[0m\u001b[1;32mIn Progress\u001b[0m\n"
      ]
     },
     "metadata": {},
     "output_type": "display_data"
    },
    {
     "data": {
      "text/html": [
       "<pre style=\"white-space:pre;overflow-x:auto;line-height:normal;font-family:Menlo,'DejaVu Sans Mono',consolas,'Courier New',monospace\">\n",
       "</pre>\n"
      ],
      "text/plain": [
       "\n"
      ]
     },
     "metadata": {},
     "output_type": "display_data"
    },
    {
     "name": "stdout",
     "output_type": "stream",
     "text": [
      "2025-04-08 16:58:05,941 - httpx - INFO - HTTP Request: POST http://localhost:11434/api/embeddings \"HTTP/1.1 200 OK\"\n",
      "2025-04-08 16:58:05,974 - httpx - INFO - HTTP Request: POST http://localhost:11434/api/embeddings \"HTTP/1.1 200 OK\"\n",
      "2025-04-08 16:58:05,994 - httpx - INFO - HTTP Request: POST http://localhost:11434/api/embeddings \"HTTP/1.1 200 OK\"\n",
      "2025-04-08 16:58:06,015 - httpx - INFO - HTTP Request: POST http://localhost:11434/api/embeddings \"HTTP/1.1 200 OK\"\n"
     ]
    },
    {
     "data": {
      "text/html": [
       "<pre style=\"white-space:pre;overflow-x:auto;line-height:normal;font-family:Menlo,'DejaVu Sans Mono',consolas,'Courier New',monospace\"><span style=\"color: #008080; text-decoration-color: #008080; font-weight: bold\">🚀 Crew: crew</span>\n",
       "└── <span style=\"color: #808000; text-decoration-color: #808000; font-weight: bold\">📋 Task: e36d02e5-81b8-46ca-9e04-d65d894e45cf</span>\n",
       "    <span style=\"color: #c0c0c0; text-decoration-color: #c0c0c0\">   Status: </span><span style=\"color: #bfbf7f; text-decoration-color: #bfbf7f\">Executing Task...</span>\n",
       "    └── <span style=\"color: #008000; text-decoration-color: #008000; font-weight: bold\">🤖 Agent: </span><span style=\"color: #008000; text-decoration-color: #008000\">Neuroscience Named Entity Recognition (NER) Concept Alignment Agent</span>\n",
       "        <span style=\"color: #c0c0c0; text-decoration-color: #c0c0c0\">    Status: </span><span style=\"color: #008000; text-decoration-color: #008000; font-weight: bold\">✅ Completed</span>\n",
       "</pre>\n"
      ],
      "text/plain": [
       "\u001b[1;36m🚀 Crew: \u001b[0m\u001b[1;36mcrew\u001b[0m\n",
       "└── \u001b[1;33m📋 Task: e36d02e5-81b8-46ca-9e04-d65d894e45cf\u001b[0m\n",
       "    \u001b[37m   Status: \u001b[0m\u001b[2;33mExecuting Task...\u001b[0m\n",
       "    └── \u001b[1;32m🤖 Agent: \u001b[0m\u001b[32mNeuroscience Named Entity Recognition (NER) Concept Alignment Agent\u001b[0m\n",
       "        \u001b[37m    Status: \u001b[0m\u001b[1;32m✅ Completed\u001b[0m\n"
      ]
     },
     "metadata": {},
     "output_type": "display_data"
    },
    {
     "data": {
      "text/html": [
       "<pre style=\"white-space:pre;overflow-x:auto;line-height:normal;font-family:Menlo,'DejaVu Sans Mono',consolas,'Courier New',monospace\">\n",
       "</pre>\n"
      ],
      "text/plain": [
       "\n"
      ]
     },
     "metadata": {},
     "output_type": "display_data"
    },
    {
     "data": {
      "text/html": [
       "<pre style=\"white-space:pre;overflow-x:auto;line-height:normal;font-family:Menlo,'DejaVu Sans Mono',consolas,'Courier New',monospace\"><span style=\"color: #008080; text-decoration-color: #008080; font-weight: bold\">🚀 Crew: crew</span>\n",
       "└── <span style=\"color: #008000; text-decoration-color: #008000; font-weight: bold\">📋 Task: e36d02e5-81b8-46ca-9e04-d65d894e45cf</span>\n",
       "    <span style=\"color: #c0c0c0; text-decoration-color: #c0c0c0\">   Assigned to: </span><span style=\"color: #008000; text-decoration-color: #008000\">Neuroscience Named Entity Recognition (NER) Concept Alignment Agent</span>\n",
       "    <span style=\"color: #c0c0c0; text-decoration-color: #c0c0c0\">   Status: </span><span style=\"color: #008000; text-decoration-color: #008000; font-weight: bold\">✅ Completed</span>\n",
       "    └── <span style=\"color: #008000; text-decoration-color: #008000; font-weight: bold\">🤖 Agent: </span><span style=\"color: #008000; text-decoration-color: #008000\">Neuroscience Named Entity Recognition (NER) Concept Alignment Agent</span>\n",
       "        <span style=\"color: #c0c0c0; text-decoration-color: #c0c0c0\">    Status: </span><span style=\"color: #008000; text-decoration-color: #008000; font-weight: bold\">✅ Completed</span>\n",
       "</pre>\n"
      ],
      "text/plain": [
       "\u001b[1;36m🚀 Crew: \u001b[0m\u001b[1;36mcrew\u001b[0m\n",
       "└── \u001b[1;32m📋 Task: e36d02e5-81b8-46ca-9e04-d65d894e45cf\u001b[0m\n",
       "    \u001b[37m   Assigned to: \u001b[0m\u001b[32mNeuroscience Named Entity Recognition (NER) Concept Alignment Agent\u001b[0m\n",
       "    \u001b[37m   Status: \u001b[0m\u001b[1;32m✅ Completed\u001b[0m\n",
       "    └── \u001b[1;32m🤖 Agent: \u001b[0m\u001b[32mNeuroscience Named Entity Recognition (NER) Concept Alignment Agent\u001b[0m\n",
       "        \u001b[37m    Status: \u001b[0m\u001b[1;32m✅ Completed\u001b[0m\n"
      ]
     },
     "metadata": {},
     "output_type": "display_data"
    },
    {
     "data": {
      "text/html": [
       "<pre style=\"white-space:pre;overflow-x:auto;line-height:normal;font-family:Menlo,'DejaVu Sans Mono',consolas,'Courier New',monospace\"><span style=\"color: #008000; text-decoration-color: #008000\">╭──────────────────────────────────────────────── Task Completion ────────────────────────────────────────────────╮</span>\n",
       "<span style=\"color: #008000; text-decoration-color: #008000\">│</span>                                                                                                                 <span style=\"color: #008000; text-decoration-color: #008000\">│</span>\n",
       "<span style=\"color: #008000; text-decoration-color: #008000\">│</span>  <span style=\"color: #008000; text-decoration-color: #008000; font-weight: bold\">Task Completed</span>                                                                                                 <span style=\"color: #008000; text-decoration-color: #008000\">│</span>\n",
       "<span style=\"color: #008000; text-decoration-color: #008000\">│</span>  <span style=\"color: #c0c0c0; text-decoration-color: #c0c0c0\">Name: </span><span style=\"color: #008000; text-decoration-color: #008000\">e36d02e5-81b8-46ca-9e04-d65d894e45cf</span>                                                                     <span style=\"color: #008000; text-decoration-color: #008000\">│</span>\n",
       "<span style=\"color: #008000; text-decoration-color: #008000\">│</span>  <span style=\"color: #c0c0c0; text-decoration-color: #c0c0c0\">Agent: </span><span style=\"color: #008000; text-decoration-color: #008000\">Neuroscience Named Entity Recognition (NER) Concept Alignment Agent</span>                                     <span style=\"color: #008000; text-decoration-color: #008000\">│</span>\n",
       "<span style=\"color: #008000; text-decoration-color: #008000\">│</span>                                                                                                                 <span style=\"color: #008000; text-decoration-color: #008000\">│</span>\n",
       "<span style=\"color: #008000; text-decoration-color: #008000\">│</span>                                                                                                                 <span style=\"color: #008000; text-decoration-color: #008000\">│</span>\n",
       "<span style=\"color: #008000; text-decoration-color: #008000\">╰─────────────────────────────────────────────────────────────────────────────────────────────────────────────────╯</span>\n",
       "</pre>\n"
      ],
      "text/plain": [
       "\u001b[32m╭─\u001b[0m\u001b[32m───────────────────────────────────────────────\u001b[0m\u001b[32m Task Completion \u001b[0m\u001b[32m───────────────────────────────────────────────\u001b[0m\u001b[32m─╮\u001b[0m\n",
       "\u001b[32m│\u001b[0m                                                                                                                 \u001b[32m│\u001b[0m\n",
       "\u001b[32m│\u001b[0m  \u001b[1;32mTask Completed\u001b[0m                                                                                                 \u001b[32m│\u001b[0m\n",
       "\u001b[32m│\u001b[0m  \u001b[37mName: \u001b[0m\u001b[32me36d02e5-81b8-46ca-9e04-d65d894e45cf\u001b[0m                                                                     \u001b[32m│\u001b[0m\n",
       "\u001b[32m│\u001b[0m  \u001b[37mAgent: \u001b[0m\u001b[32mNeuroscience Named Entity Recognition (NER) Concept Alignment Agent\u001b[0m                                     \u001b[32m│\u001b[0m\n",
       "\u001b[32m│\u001b[0m                                                                                                                 \u001b[32m│\u001b[0m\n",
       "\u001b[32m│\u001b[0m                                                                                                                 \u001b[32m│\u001b[0m\n",
       "\u001b[32m╰─────────────────────────────────────────────────────────────────────────────────────────────────────────────────╯\u001b[0m\n"
      ]
     },
     "metadata": {},
     "output_type": "display_data"
    },
    {
     "data": {
      "text/html": [
       "<pre style=\"white-space:pre;overflow-x:auto;line-height:normal;font-family:Menlo,'DejaVu Sans Mono',consolas,'Courier New',monospace\">\n",
       "</pre>\n"
      ],
      "text/plain": [
       "\n"
      ]
     },
     "metadata": {},
     "output_type": "display_data"
    },
    {
     "data": {
      "text/html": [
       "<pre style=\"white-space:pre;overflow-x:auto;line-height:normal;font-family:Menlo,'DejaVu Sans Mono',consolas,'Courier New',monospace\"><span style=\"color: #008000; text-decoration-color: #008000\">╭──────────────────────────────────────────────── Crew Completion ────────────────────────────────────────────────╮</span>\n",
       "<span style=\"color: #008000; text-decoration-color: #008000\">│</span>                                                                                                                 <span style=\"color: #008000; text-decoration-color: #008000\">│</span>\n",
       "<span style=\"color: #008000; text-decoration-color: #008000\">│</span>  <span style=\"color: #008000; text-decoration-color: #008000; font-weight: bold\">Crew Execution Completed</span>                                                                                       <span style=\"color: #008000; text-decoration-color: #008000\">│</span>\n",
       "<span style=\"color: #008000; text-decoration-color: #008000\">│</span>  <span style=\"color: #c0c0c0; text-decoration-color: #c0c0c0\">Name: </span><span style=\"color: #008000; text-decoration-color: #008000\">crew</span>                                                                                                     <span style=\"color: #008000; text-decoration-color: #008000\">│</span>\n",
       "<span style=\"color: #008000; text-decoration-color: #008000\">│</span>  <span style=\"color: #c0c0c0; text-decoration-color: #c0c0c0\">ID: </span><span style=\"color: #008000; text-decoration-color: #008000\">dea49f43-a0a2-4296-bce1-a925452279e0</span>                                                                       <span style=\"color: #008000; text-decoration-color: #008000\">│</span>\n",
       "<span style=\"color: #008000; text-decoration-color: #008000\">│</span>                                                                                                                 <span style=\"color: #008000; text-decoration-color: #008000\">│</span>\n",
       "<span style=\"color: #008000; text-decoration-color: #008000\">│</span>                                                                                                                 <span style=\"color: #008000; text-decoration-color: #008000\">│</span>\n",
       "<span style=\"color: #008000; text-decoration-color: #008000\">╰─────────────────────────────────────────────────────────────────────────────────────────────────────────────────╯</span>\n",
       "</pre>\n"
      ],
      "text/plain": [
       "\u001b[32m╭─\u001b[0m\u001b[32m───────────────────────────────────────────────\u001b[0m\u001b[32m Crew Completion \u001b[0m\u001b[32m───────────────────────────────────────────────\u001b[0m\u001b[32m─╮\u001b[0m\n",
       "\u001b[32m│\u001b[0m                                                                                                                 \u001b[32m│\u001b[0m\n",
       "\u001b[32m│\u001b[0m  \u001b[1;32mCrew Execution Completed\u001b[0m                                                                                       \u001b[32m│\u001b[0m\n",
       "\u001b[32m│\u001b[0m  \u001b[37mName: \u001b[0m\u001b[32mcrew\u001b[0m                                                                                                     \u001b[32m│\u001b[0m\n",
       "\u001b[32m│\u001b[0m  \u001b[37mID: \u001b[0m\u001b[32mdea49f43-a0a2-4296-bce1-a925452279e0\u001b[0m                                                                       \u001b[32m│\u001b[0m\n",
       "\u001b[32m│\u001b[0m                                                                                                                 \u001b[32m│\u001b[0m\n",
       "\u001b[32m│\u001b[0m                                                                                                                 \u001b[32m│\u001b[0m\n",
       "\u001b[32m╰─────────────────────────────────────────────────────────────────────────────────────────────────────────────────╯\u001b[0m\n"
      ]
     },
     "metadata": {},
     "output_type": "display_data"
    },
    {
     "data": {
      "text/html": [
       "<pre style=\"white-space:pre;overflow-x:auto;line-height:normal;font-family:Menlo,'DejaVu Sans Mono',consolas,'Courier New',monospace\">\n",
       "</pre>\n"
      ],
      "text/plain": [
       "\n"
      ]
     },
     "metadata": {},
     "output_type": "display_data"
    },
    {
     "name": "stdout",
     "output_type": "stream",
     "text": [
      "2025-04-08 16:58:06,045 - structsense.app - INFO - Alignment complete with 0 aligned terms\n"
     ]
    },
    {
     "data": {
      "text/html": [
       "<pre style=\"white-space:pre;overflow-x:auto;line-height:normal;font-family:Menlo,'DejaVu Sans Mono',consolas,'Courier New',monospace\"><span style=\"color: #000080; text-decoration-color: #000080; font-weight: bold\">🌊 Flow: </span><span style=\"color: #000080; text-decoration-color: #000080\">StructSenseFlow</span>\n",
       "<span style=\"color: #c0c0c0; text-decoration-color: #c0c0c0\">    ID: </span><span style=\"color: #000080; text-decoration-color: #000080\">ed3d98e0-5d20-4d25-817b-ed8203dc4a37</span>\n",
       "├── <span style=\"color: #c0c0c0; text-decoration-color: #c0c0c0\">Flow Method Step</span>\n",
       "├── <span style=\"color: #008000; text-decoration-color: #008000; font-weight: bold\">✅ Completed: process_inputs</span>\n",
       "├── <span style=\"color: #008000; text-decoration-color: #008000; font-weight: bold\">✅ Completed: extracted_structured_information</span>\n",
       "└── <span style=\"color: #008000; text-decoration-color: #008000; font-weight: bold\">✅ Completed: align_structured_information</span>\n",
       "</pre>\n"
      ],
      "text/plain": [
       "\u001b[1;34m🌊 Flow: \u001b[0m\u001b[34mStructSenseFlow\u001b[0m\n",
       "\u001b[37m    ID: \u001b[0m\u001b[34med3d98e0-5d20-4d25-817b-ed8203dc4a37\u001b[0m\n",
       "├── \u001b[37mFlow Method Step\u001b[0m\n",
       "├── \u001b[1;32m✅ Completed:\u001b[0m\u001b[1;32m process_inputs\u001b[0m\n",
       "├── \u001b[1;32m✅ Completed:\u001b[0m\u001b[1;32m extracted_structured_information\u001b[0m\n",
       "└── \u001b[1;32m✅ Completed:\u001b[0m\u001b[1;32m align_structured_information\u001b[0m\n"
      ]
     },
     "metadata": {},
     "output_type": "display_data"
    },
    {
     "data": {
      "text/html": [
       "<pre style=\"white-space:pre;overflow-x:auto;line-height:normal;font-family:Menlo,'DejaVu Sans Mono',consolas,'Courier New',monospace\">\n",
       "</pre>\n"
      ],
      "text/plain": [
       "\n"
      ]
     },
     "metadata": {},
     "output_type": "display_data"
    },
    {
     "data": {
      "text/html": [
       "<pre style=\"white-space:pre;overflow-x:auto;line-height:normal;font-family:Menlo,'DejaVu Sans Mono',consolas,'Courier New',monospace\"><span style=\"color: #000080; text-decoration-color: #000080; font-weight: bold\">🌊 Flow: </span><span style=\"color: #000080; text-decoration-color: #000080\">StructSenseFlow</span>\n",
       "<span style=\"color: #c0c0c0; text-decoration-color: #c0c0c0\">    ID: </span><span style=\"color: #000080; text-decoration-color: #000080\">ed3d98e0-5d20-4d25-817b-ed8203dc4a37</span>\n",
       "├── <span style=\"color: #c0c0c0; text-decoration-color: #c0c0c0\">Flow Method Step</span>\n",
       "├── <span style=\"color: #008000; text-decoration-color: #008000; font-weight: bold\">✅ Completed: process_inputs</span>\n",
       "├── <span style=\"color: #008000; text-decoration-color: #008000; font-weight: bold\">✅ Completed: extracted_structured_information</span>\n",
       "├── <span style=\"color: #008000; text-decoration-color: #008000; font-weight: bold\">✅ Completed: align_structured_information</span>\n",
       "└── <span style=\"color: #808000; text-decoration-color: #808000; font-weight: bold\">🔄 Running: judge_alignment</span>\n",
       "</pre>\n"
      ],
      "text/plain": [
       "\u001b[1;34m🌊 Flow: \u001b[0m\u001b[34mStructSenseFlow\u001b[0m\n",
       "\u001b[37m    ID: \u001b[0m\u001b[34med3d98e0-5d20-4d25-817b-ed8203dc4a37\u001b[0m\n",
       "├── \u001b[37mFlow Method Step\u001b[0m\n",
       "├── \u001b[1;32m✅ Completed:\u001b[0m\u001b[1;32m process_inputs\u001b[0m\n",
       "├── \u001b[1;32m✅ Completed:\u001b[0m\u001b[1;32m extracted_structured_information\u001b[0m\n",
       "├── \u001b[1;32m✅ Completed:\u001b[0m\u001b[1;32m align_structured_information\u001b[0m\n",
       "└── \u001b[1;33m🔄 Running:\u001b[0m\u001b[1;33m judge_alignment\u001b[0m\n"
      ]
     },
     "metadata": {},
     "output_type": "display_data"
    },
    {
     "data": {
      "text/html": [
       "<pre style=\"white-space:pre;overflow-x:auto;line-height:normal;font-family:Menlo,'DejaVu Sans Mono',consolas,'Courier New',monospace\">\n",
       "</pre>\n"
      ],
      "text/plain": [
       "\n"
      ]
     },
     "metadata": {},
     "output_type": "display_data"
    },
    {
     "name": "stdout",
     "output_type": "stream",
     "text": [
      "2025-04-08 16:58:06,054 - structsense.app - INFO - Starting judgment of aligned information\n",
      "2025-04-08 16:58:06,058 - structsense.app - INFO - Successfully initialized judge_agent and judge_task\n",
      "2025-04-08 16:58:06,071 - httpx - INFO - HTTP Request: GET http://localhost:8080/v1/meta \"HTTP/1.1 200 OK\"\n",
      "2025-04-08 16:58:06,176 - httpx - INFO - HTTP Request: GET https://pypi.org/pypi/weaviate-client/json \"HTTP/1.1 200 OK\"\n",
      "2025-04-08 16:58:06,235 - utils.utils - INFO - ✅ Successfully connected to Weaviate\n",
      "2025-04-08 16:58:06,242 - httpx - INFO - HTTP Request: GET http://localhost:8080/v1/schema/Ontology_database_agent_test1 \"HTTP/1.1 200 OK\"\n",
      "2025-04-08 16:58:06,281 - utils.utils - INFO - Found 3 results for query: 'APOE GENE: [Object(uuid=_WeaviateUUIDInt('36180ea9-a373-55f9-a9d9-1d965b96d648'), metadata=MetadataReturn(creation_time=None, last_update_time=None, distance=None, certainty=None, score=None, explain_score=None, is_consistent=None, rerank_score=None), properties={'class_id': 'PR_A2VEC9', 'class_uri': 'http://purl.obolibrary.org/obo/PR_A2VEC9', 'label': 'SCO-spondin (human)', 'definition': 'Category=organism-gene.', 'all_synonyms_combined': None, 'ontology': 'go'}, references=None, vector={}, collection='Ontology_database_agent_test1'), Object(uuid=_WeaviateUUIDInt('6fb590df-6238-5e7d-9d25-050113f8a163'), metadata=MetadataReturn(creation_time=None, last_update_time=None, distance=None, certainty=None, score=None, explain_score=None, is_consistent=None, rerank_score=None), properties={'class_uri': 'http://purl.obolibrary.org/obo/PR_P16406', 'definition': 'Category=organism-gene.', 'class_id': 'PR_P16406', 'all_synonyms_combined': None, 'ontology': 'cl', 'label': 'glutamyl aminopeptidase (mouse)'}, references=None, vector={}, collection='Ontology_database_agent_test1'), Object(uuid=_WeaviateUUIDInt('ad010b7d-0d89-5993-bfec-56670b78d779'), metadata=MetadataReturn(creation_time=None, last_update_time=None, distance=None, certainty=None, score=None, explain_score=None, is_consistent=None, rerank_score=None), properties={'class_id': 'PR_Q6PZD9', 'definition': 'Category=organism-gene.', 'all_synonyms_combined': None, 'class_uri': 'http://purl.obolibrary.org/obo/PR_Q6PZD9', 'label': 'CCAAT/enhancer-binding protein epsilon (mouse)', 'ontology': 'cl'}, references=None, vector={}, collection='Ontology_database_agent_test1')]'\n",
      "2025-04-08 16:58:06,282 - utils.utils - INFO - [{'class_id': 'PR_A2VEC9', 'class_uri': 'http://purl.obolibrary.org/obo/PR_A2VEC9', 'label': 'SCO-spondin (human)', 'definition': 'Category=organism-gene.', 'all_synonyms_combined': None, 'ontology': 'go'}, {'class_uri': 'http://purl.obolibrary.org/obo/PR_P16406', 'definition': 'Category=organism-gene.', 'class_id': 'PR_P16406', 'all_synonyms_combined': None, 'ontology': 'cl', 'label': 'glutamyl aminopeptidase (mouse)'}, {'class_id': 'PR_Q6PZD9', 'definition': 'Category=organism-gene.', 'all_synonyms_combined': None, 'class_uri': 'http://purl.obolibrary.org/obo/PR_Q6PZD9', 'label': 'CCAAT/enhancer-binding protein epsilon (mouse)', 'ontology': 'cl'}]\n",
      "2025-04-08 16:58:06,299 - httpx - INFO - HTTP Request: GET http://localhost:8080/v1/meta \"HTTP/1.1 200 OK\"\n",
      "2025-04-08 16:58:06,399 - httpx - INFO - HTTP Request: GET https://pypi.org/pypi/weaviate-client/json \"HTTP/1.1 200 OK\"\n",
      "2025-04-08 16:58:06,454 - utils.utils - INFO - ✅ Successfully connected to Weaviate\n",
      "2025-04-08 16:58:06,462 - httpx - INFO - HTTP Request: GET http://localhost:8080/v1/schema/Ontology_database_agent_test1 \"HTTP/1.1 200 OK\"\n",
      "2025-04-08 16:58:06,503 - utils.utils - INFO - Found 3 results for query: 'neurodegenerative disorders DISORDER: [Object(uuid=_WeaviateUUIDInt('4e7e51d1-57d3-58cf-9f32-884d0a65d88a'), metadata=MetadataReturn(creation_time=None, last_update_time=None, distance=None, certainty=None, score=None, explain_score=None, is_consistent=None, rerank_score=None), properties={'label': 'immune oligodendroglia', 'class_id': 'CL_4042031', 'class_uri': 'http://purl.obolibrary.org/obo/CL_4042031', 'definition': 'During inflammation, immuno oligodendroglia express MHC II to interact with immune cells in mouse models (Harrington et al., 2023; Madeira et al., 2022). In a mouse model of major depressive disorder and chronic stress, immuno oligodendroglia were associated with prefrontal cortex hypomyelination (Kokkosis et al., 2022).', 'all_synonyms_combined': None, 'ontology': 'cl'}, references=None, vector={}, collection='Ontology_database_agent_test1'), Object(uuid=_WeaviateUUIDInt('e0369e2e-9bfd-56ed-b0aa-91b953945688'), metadata=MetadataReturn(creation_time=None, last_update_time=None, distance=None, certainty=None, score=None, explain_score=None, is_consistent=None, rerank_score=None), properties={'ontology': 'cl', 'all_synonyms_combined': None, 'class_id': 'CL_4042025', 'class_uri': 'http://purl.obolibrary.org/obo/CL_4042025', 'definition': \"A midbrain dopaminergic neuron that has its soma located in a substantia nigra. This dopaminergic neuron type is highly metabolically active and it is involved in the regulation of movement, cognition, motivation and reward. Neurodegeneration of this dopaminergic neuronal type causes loss in fine motor control in Parkinson's Disease.\", 'label': 'substantia nigra dopaminergic neuron'}, references=None, vector={}, collection='Ontology_database_agent_test1'), Object(uuid=_WeaviateUUIDInt('80ab70c5-9f0f-5e2b-9fa2-a3486b7ede23'), metadata=MetadataReturn(creation_time=None, last_update_time=None, distance=None, certainty=None, score=None, explain_score=None, is_consistent=None, rerank_score=None), properties={'definition': 'Regarding the abbreviation D1-NUDAP, NUDAP stands for \"neurochemically unique domains in the accumbens and putamen\". In Rhesus macaques, the RXFP1-positive interface island D1-medium spiny neuron (D1-NUDAP) has been noted to have upregulation of OPRM1 compared to DRD1-expressing medium spiny neurons located outside of the D1-exclusive island and in Islands of Calleja. Kappa-opioid receptor gene (OPRK1) has been noted to be absent from D1-NUDAP cells. Many striosome-specific markers have been noted to be upregulated in D1-NUDAP cells, including KCNIP1, KCNT1, KHDRBS3, and BACH2. PDYN, an acknowledged D1-striosome marker gene, has also been noted to be expressed in D1-NUDAPs. D1-NUDAPs also express some genes found to be selectively expressed in the matrix, including STXBP6, GDA, and SEMA3E. Gene enrichment analysis has revealed that D1-NUDAP neurons express genes that have been implicated in drug addiction and many other functions.', 'class_uri': 'http://purl.obolibrary.org/obo/CL_4030054', 'ontology': 'cl', 'label': 'RXFP1-positive interface island D1-medium spiny neuron', 'class_id': 'CL_4030054', 'all_synonyms_combined': None}, references=None, vector={}, collection='Ontology_database_agent_test1')]'\n",
      "2025-04-08 16:58:06,504 - utils.utils - INFO - [{'label': 'immune oligodendroglia', 'class_id': 'CL_4042031', 'class_uri': 'http://purl.obolibrary.org/obo/CL_4042031', 'definition': 'During inflammation, immuno oligodendroglia express MHC II to interact with immune cells in mouse models (Harrington et al., 2023; Madeira et al., 2022). In a mouse model of major depressive disorder and chronic stress, immuno oligodendroglia were associated with prefrontal cortex hypomyelination (Kokkosis et al., 2022).', 'all_synonyms_combined': None, 'ontology': 'cl'}, {'ontology': 'cl', 'all_synonyms_combined': None, 'class_id': 'CL_4042025', 'class_uri': 'http://purl.obolibrary.org/obo/CL_4042025', 'definition': \"A midbrain dopaminergic neuron that has its soma located in a substantia nigra. This dopaminergic neuron type is highly metabolically active and it is involved in the regulation of movement, cognition, motivation and reward. Neurodegeneration of this dopaminergic neuronal type causes loss in fine motor control in Parkinson's Disease.\", 'label': 'substantia nigra dopaminergic neuron'}, {'definition': 'Regarding the abbreviation D1-NUDAP, NUDAP stands for \"neurochemically unique domains in the accumbens and putamen\". In Rhesus macaques, the RXFP1-positive interface island D1-medium spiny neuron (D1-NUDAP) has been noted to have upregulation of OPRM1 compared to DRD1-expressing medium spiny neurons located outside of the D1-exclusive island and in Islands of Calleja. Kappa-opioid receptor gene (OPRK1) has been noted to be absent from D1-NUDAP cells. Many striosome-specific markers have been noted to be upregulated in D1-NUDAP cells, including KCNIP1, KCNT1, KHDRBS3, and BACH2. PDYN, an acknowledged D1-striosome marker gene, has also been noted to be expressed in D1-NUDAPs. D1-NUDAPs also express some genes found to be selectively expressed in the matrix, including STXBP6, GDA, and SEMA3E. Gene enrichment analysis has revealed that D1-NUDAP neurons express genes that have been implicated in drug addiction and many other functions.', 'class_uri': 'http://purl.obolibrary.org/obo/CL_4030054', 'ontology': 'cl', 'label': 'RXFP1-positive interface island D1-medium spiny neuron', 'class_id': 'CL_4030054', 'all_synonyms_combined': None}]\n",
      "2025-04-08 16:58:06,524 - httpx - INFO - HTTP Request: GET http://localhost:8080/v1/meta \"HTTP/1.1 200 OK\"\n",
      "2025-04-08 16:58:06,643 - httpx - INFO - HTTP Request: GET https://pypi.org/pypi/weaviate-client/json \"HTTP/1.1 200 OK\"\n",
      "2025-04-08 16:58:06,701 - utils.utils - INFO - ✅ Successfully connected to Weaviate\n",
      "2025-04-08 16:58:06,710 - httpx - INFO - HTTP Request: GET http://localhost:8080/v1/schema/Ontology_database_agent_test1 \"HTTP/1.1 200 OK\"\n",
      "2025-04-08 16:58:06,745 - utils.utils - INFO - Found 3 results for query: 'astrocytes CELL_TYPE: [Object(uuid=_WeaviateUUIDInt('8c294849-93cd-53ec-b6a3-08502b49bde6'), metadata=MetadataReturn(creation_time=None, last_update_time=None, distance=None, certainty=None, score=None, explain_score=None, is_consistent=None, rerank_score=None), properties={'definition': 'U4PR86 in PMID:22801495 inferred from mutant phenotype', 'class_id': 'GO_1904747', 'class_uri': 'http://purl.obolibrary.org/obo/GO_1904747', 'all_synonyms_combined': None, 'label': 'positive regulation of apoptotic process involved in development', 'ontology': 'go'}, references=None, vector={}, collection='Ontology_database_agent_test1'), Object(uuid=_WeaviateUUIDInt('12028d88-97fa-599c-8c7a-f57f7ec094aa'), metadata=MetadataReturn(creation_time=None, last_update_time=None, distance=None, certainty=None, score=None, explain_score=None, is_consistent=None, rerank_score=None), properties={'class_id': 'GO_0048708', 'definition': 'The process in which a relatively unspecialized cell acquires the specialized features of an astrocyte. An astrocyte is the most abundant type of glial cell. Astrocytes provide support for neurons and regulate the environment in which they function.', 'class_uri': 'http://purl.obolibrary.org/obo/GO_0048708', 'all_synonyms_combined': None, 'ontology': 'go', 'label': 'astrocyte differentiation'}, references=None, vector={}, collection='Ontology_database_agent_test1'), Object(uuid=_WeaviateUUIDInt('154defa4-e952-55af-b774-eac09d65a58d'), metadata=MetadataReturn(creation_time=None, last_update_time=None, distance=None, certainty=None, score=None, explain_score=None, is_consistent=None, rerank_score=None), properties={'class_id': 'GO_1904746', 'label': 'negative regulation of apoptotic process involved in development', 'definition': 'U4PR86 in PMID:22801495 inferred from mutant phenotype', 'class_uri': 'http://purl.obolibrary.org/obo/GO_1904746', 'ontology': 'go', 'all_synonyms_combined': None}, references=None, vector={}, collection='Ontology_database_agent_test1')]'\n",
      "2025-04-08 16:58:06,746 - utils.utils - INFO - [{'definition': 'U4PR86 in PMID:22801495 inferred from mutant phenotype', 'class_id': 'GO_1904747', 'class_uri': 'http://purl.obolibrary.org/obo/GO_1904747', 'all_synonyms_combined': None, 'label': 'positive regulation of apoptotic process involved in development', 'ontology': 'go'}, {'class_id': 'GO_0048708', 'definition': 'The process in which a relatively unspecialized cell acquires the specialized features of an astrocyte. An astrocyte is the most abundant type of glial cell. Astrocytes provide support for neurons and regulate the environment in which they function.', 'class_uri': 'http://purl.obolibrary.org/obo/GO_0048708', 'all_synonyms_combined': None, 'ontology': 'go', 'label': 'astrocyte differentiation'}, {'class_id': 'GO_1904746', 'label': 'negative regulation of apoptotic process involved in development', 'definition': 'U4PR86 in PMID:22801495 inferred from mutant phenotype', 'class_uri': 'http://purl.obolibrary.org/obo/GO_1904746', 'ontology': 'go', 'all_synonyms_combined': None}]\n",
      "2025-04-08 16:58:06,766 - httpx - INFO - HTTP Request: GET http://localhost:8080/v1/meta \"HTTP/1.1 200 OK\"\n",
      "2025-04-08 16:58:06,888 - httpx - INFO - HTTP Request: GET https://pypi.org/pypi/weaviate-client/json \"HTTP/1.1 200 OK\"\n",
      "2025-04-08 16:58:06,940 - utils.utils - INFO - ✅ Successfully connected to Weaviate\n",
      "2025-04-08 16:58:06,949 - httpx - INFO - HTTP Request: GET http://localhost:8080/v1/schema/Ontology_database_agent_test1 \"HTTP/1.1 200 OK\"\n",
      "2025-04-08 16:58:06,990 - utils.utils - INFO - Found 3 results for query: 'microglia CELL_TYPE: [Object(uuid=_WeaviateUUIDInt('fc41548e-a63e-591e-ac23-7b5bab41922d'), metadata=MetadataReturn(creation_time=None, last_update_time=None, distance=None, certainty=None, score=None, explain_score=None, is_consistent=None, rerank_score=None), properties={'ontology': 'cl', 'class_uri': 'http://purl.obolibrary.org/obo/CL_0002628', 'all_synonyms_combined': None, 'definition': 'Immature microglia are reportedly CD34-positive, CD163-negative, MHCI-negative, MHCII-negative.', 'label': 'immature microglial cell', 'class_id': 'CL_0002628'}, references=None, vector={}, collection='Ontology_database_agent_test1'), Object(uuid=_WeaviateUUIDInt('1a6856d6-fb7e-58cb-927e-126e461eb477'), metadata=MetadataReturn(creation_time=None, last_update_time=None, distance=None, certainty=None, score=None, explain_score=None, is_consistent=None, rerank_score=None), properties={'all_synonyms_combined': None, 'definition': 'The process aimed at the progression of a microglial cell over time, from initial commitment of the cell to a specific fate, to the fully functional differentiated cell.', 'label': 'microglia development', 'ontology': 'go', 'class_id': 'GO_0014005', 'class_uri': 'http://purl.obolibrary.org/obo/GO_0014005'}, references=None, vector={}, collection='Ontology_database_agent_test1'), Object(uuid=_WeaviateUUIDInt('da5180c5-0123-51b9-b5dc-af9fa621aadc'), metadata=MetadataReturn(creation_time=None, last_update_time=None, distance=None, certainty=None, score=None, explain_score=None, is_consistent=None, rerank_score=None), properties={'all_synonyms_combined': None, 'class_id': 'GO_0014004', 'class_uri': 'http://purl.obolibrary.org/obo/GO_0014004', 'ontology': 'go', 'label': 'microglia differentiation', 'definition': 'The process in which a relatively unspecialized cell acquires specialized features of a microglial cell. Microglia are glial cells that act as the immune cells of the central nervous system. They form part of the supporting structure of this system.'}, references=None, vector={}, collection='Ontology_database_agent_test1')]'\n",
      "2025-04-08 16:58:06,992 - utils.utils - INFO - [{'ontology': 'cl', 'class_uri': 'http://purl.obolibrary.org/obo/CL_0002628', 'all_synonyms_combined': None, 'definition': 'Immature microglia are reportedly CD34-positive, CD163-negative, MHCI-negative, MHCII-negative.', 'label': 'immature microglial cell', 'class_id': 'CL_0002628'}, {'all_synonyms_combined': None, 'definition': 'The process aimed at the progression of a microglial cell over time, from initial commitment of the cell to a specific fate, to the fully functional differentiated cell.', 'label': 'microglia development', 'ontology': 'go', 'class_id': 'GO_0014005', 'class_uri': 'http://purl.obolibrary.org/obo/GO_0014005'}, {'all_synonyms_combined': None, 'class_id': 'GO_0014004', 'class_uri': 'http://purl.obolibrary.org/obo/GO_0014004', 'ontology': 'go', 'label': 'microglia differentiation', 'definition': 'The process in which a relatively unspecialized cell acquires specialized features of a microglial cell. Microglia are glial cells that act as the immune cells of the central nervous system. They form part of the supporting structure of this system.'}]\n",
      "\u001b[93m \n",
      "[2025-04-08 16:58:07][WARNING]: Failed to init knowledge: Please provide an OpenAI API key. You can get one at https://platform.openai.com/account/api-keys\u001b[00m\n"
     ]
    },
    {
     "data": {
      "text/html": [
       "<pre style=\"white-space:pre;overflow-x:auto;line-height:normal;font-family:Menlo,'DejaVu Sans Mono',consolas,'Courier New',monospace\"><span style=\"color: #008080; text-decoration-color: #008080\">╭──────────────────────────────────────────── Crew Execution Started ─────────────────────────────────────────────╮</span>\n",
       "<span style=\"color: #008080; text-decoration-color: #008080\">│</span>                                                                                                                 <span style=\"color: #008080; text-decoration-color: #008080\">│</span>\n",
       "<span style=\"color: #008080; text-decoration-color: #008080\">│</span>  <span style=\"color: #008080; text-decoration-color: #008080; font-weight: bold\">Crew Execution Started</span>                                                                                         <span style=\"color: #008080; text-decoration-color: #008080\">│</span>\n",
       "<span style=\"color: #008080; text-decoration-color: #008080\">│</span>  <span style=\"color: #c0c0c0; text-decoration-color: #c0c0c0\">Name: </span><span style=\"color: #008080; text-decoration-color: #008080\">crew</span>                                                                                                     <span style=\"color: #008080; text-decoration-color: #008080\">│</span>\n",
       "<span style=\"color: #008080; text-decoration-color: #008080\">│</span>  <span style=\"color: #c0c0c0; text-decoration-color: #c0c0c0\">ID: </span><span style=\"color: #008080; text-decoration-color: #008080\">4beade9e-461d-4cce-809e-afa416009a62</span>                                                                       <span style=\"color: #008080; text-decoration-color: #008080\">│</span>\n",
       "<span style=\"color: #008080; text-decoration-color: #008080\">│</span>                                                                                                                 <span style=\"color: #008080; text-decoration-color: #008080\">│</span>\n",
       "<span style=\"color: #008080; text-decoration-color: #008080\">│</span>                                                                                                                 <span style=\"color: #008080; text-decoration-color: #008080\">│</span>\n",
       "<span style=\"color: #008080; text-decoration-color: #008080\">╰─────────────────────────────────────────────────────────────────────────────────────────────────────────────────╯</span>\n",
       "</pre>\n"
      ],
      "text/plain": [
       "\u001b[36m╭─\u001b[0m\u001b[36m───────────────────────────────────────────\u001b[0m\u001b[36m Crew Execution Started \u001b[0m\u001b[36m────────────────────────────────────────────\u001b[0m\u001b[36m─╮\u001b[0m\n",
       "\u001b[36m│\u001b[0m                                                                                                                 \u001b[36m│\u001b[0m\n",
       "\u001b[36m│\u001b[0m  \u001b[1;36mCrew Execution Started\u001b[0m                                                                                         \u001b[36m│\u001b[0m\n",
       "\u001b[36m│\u001b[0m  \u001b[37mName: \u001b[0m\u001b[36mcrew\u001b[0m                                                                                                     \u001b[36m│\u001b[0m\n",
       "\u001b[36m│\u001b[0m  \u001b[37mID: \u001b[0m\u001b[36m4beade9e-461d-4cce-809e-afa416009a62\u001b[0m                                                                       \u001b[36m│\u001b[0m\n",
       "\u001b[36m│\u001b[0m                                                                                                                 \u001b[36m│\u001b[0m\n",
       "\u001b[36m│\u001b[0m                                                                                                                 \u001b[36m│\u001b[0m\n",
       "\u001b[36m╰─────────────────────────────────────────────────────────────────────────────────────────────────────────────────╯\u001b[0m\n"
      ]
     },
     "metadata": {},
     "output_type": "display_data"
    },
    {
     "data": {
      "text/html": [
       "<pre style=\"white-space:pre;overflow-x:auto;line-height:normal;font-family:Menlo,'DejaVu Sans Mono',consolas,'Courier New',monospace\">\n",
       "</pre>\n"
      ],
      "text/plain": [
       "\n"
      ]
     },
     "metadata": {},
     "output_type": "display_data"
    },
    {
     "data": {
      "text/html": [
       "<pre style=\"white-space:pre;overflow-x:auto;line-height:normal;font-family:Menlo,'DejaVu Sans Mono',consolas,'Courier New',monospace\"><span style=\"color: #008080; text-decoration-color: #008080; font-weight: bold\">🚀 Crew: crew</span>\n",
       "└── <span style=\"color: #808000; text-decoration-color: #808000; font-weight: bold\">📋 Task: d41bf9bb-86fd-46ee-b696-51d51e4e78c2</span>\n",
       "    <span style=\"color: #c0c0c0; text-decoration-color: #c0c0c0\">   Status: </span><span style=\"color: #bfbf7f; text-decoration-color: #bfbf7f\">Executing Task...</span>\n",
       "</pre>\n"
      ],
      "text/plain": [
       "\u001b[1;36m🚀 Crew: \u001b[0m\u001b[1;36mcrew\u001b[0m\n",
       "└── \u001b[1;33m📋 Task: d41bf9bb-86fd-46ee-b696-51d51e4e78c2\u001b[0m\n",
       "    \u001b[37m   Status: \u001b[0m\u001b[2;33mExecuting Task...\u001b[0m\n"
      ]
     },
     "metadata": {},
     "output_type": "display_data"
    },
    {
     "data": {
      "text/html": [
       "<pre style=\"white-space:pre;overflow-x:auto;line-height:normal;font-family:Menlo,'DejaVu Sans Mono',consolas,'Courier New',monospace\">\n",
       "</pre>\n"
      ],
      "text/plain": [
       "\n"
      ]
     },
     "metadata": {},
     "output_type": "display_data"
    },
    {
     "name": "stdout",
     "output_type": "stream",
     "text": [
      "2025-04-08 16:58:07,198 - httpx - INFO - HTTP Request: POST http://localhost:11434/api/embeddings \"HTTP/1.1 200 OK\"\n",
      "2025-04-08 16:58:07,363 - httpx - INFO - HTTP Request: POST http://localhost:11434/api/embeddings \"HTTP/1.1 200 OK\"\n"
     ]
    },
    {
     "data": {
      "text/html": [
       "<pre style=\"white-space:pre;overflow-x:auto;line-height:normal;font-family:Menlo,'DejaVu Sans Mono',consolas,'Courier New',monospace\"><span style=\"color: #008080; text-decoration-color: #008080; font-weight: bold\">🚀 Crew: crew</span>\n",
       "└── <span style=\"color: #808000; text-decoration-color: #808000; font-weight: bold\">📋 Task: d41bf9bb-86fd-46ee-b696-51d51e4e78c2</span>\n",
       "    <span style=\"color: #c0c0c0; text-decoration-color: #c0c0c0\">   Status: </span><span style=\"color: #bfbf7f; text-decoration-color: #bfbf7f\">Executing Task...</span>\n",
       "    └── <span style=\"color: #008000; text-decoration-color: #008000; font-weight: bold\">🤖 Agent: </span><span style=\"color: #008000; text-decoration-color: #008000\">Neuroscience Named Entity Recognition (NER) Judge Agent</span>\n",
       "        <span style=\"color: #c0c0c0; text-decoration-color: #c0c0c0\">    Status: </span><span style=\"color: #008000; text-decoration-color: #008000; font-weight: bold\">In Progress</span>\n",
       "</pre>\n"
      ],
      "text/plain": [
       "\u001b[1;36m🚀 Crew: \u001b[0m\u001b[1;36mcrew\u001b[0m\n",
       "└── \u001b[1;33m📋 Task: d41bf9bb-86fd-46ee-b696-51d51e4e78c2\u001b[0m\n",
       "    \u001b[37m   Status: \u001b[0m\u001b[2;33mExecuting Task...\u001b[0m\n",
       "    └── \u001b[1;32m🤖 Agent: \u001b[0m\u001b[32mNeuroscience Named Entity Recognition (NER) Judge Agent\u001b[0m\n",
       "        \u001b[37m    Status: \u001b[0m\u001b[1;32mIn Progress\u001b[0m\n"
      ]
     },
     "metadata": {},
     "output_type": "display_data"
    },
    {
     "data": {
      "text/html": [
       "<pre style=\"white-space:pre;overflow-x:auto;line-height:normal;font-family:Menlo,'DejaVu Sans Mono',consolas,'Courier New',monospace\">\n",
       "</pre>\n"
      ],
      "text/plain": [
       "\n"
      ]
     },
     "metadata": {},
     "output_type": "display_data"
    },
    {
     "name": "stdout",
     "output_type": "stream",
     "text": [
      "\u001b[1m\u001b[95m# Agent:\u001b[00m \u001b[1m\u001b[92mNeuroscience Named Entity Recognition (NER) Judge Agent\u001b[00m\n",
      "\u001b[95m## Task:\u001b[00m \u001b[92mTake the output of alignment agent {'aligned_structured_information': {'1': [{'entity': 'APOE', 'label': 'GENE', 'ontology_id': 'HGNC:613', 'ontology_label': 'APOE', 'sentence': 'Additionally, mutations in the APOE gene have been linked to neurodegenerative disorders, impacting astrocytes and microglia function.', 'start': 26, 'end': 30, 'paper_location': 'unknown', 'paper_title': 'unknown', 'doi': 'unknown'}], '2': [{'entity': 'neurodegenerative disorders', 'label': 'DISORDER', 'ontology_id': 'MONDO:0021060', 'ontology_label': 'neurodegenerative disease', 'sentence': 'Additionally, mutations in the APOE gene have been linked to neurodegenerative disorders, impacting astrocytes and microglia function.', 'start': 49, 'end': 74, 'paper_location': 'unknown', 'paper_title': 'unknown', 'doi': 'unknown'}], '3': [{'entity': 'astrocytes', 'label': 'CELL_TYPE', 'ontology_id': 'CL:0000127', 'ontology_label': 'astrocyte', 'sentence': 'Additionally, mutations in the APOE gene have been linked to neurodegenerative disorders, impacting astrocytes and microglia function.', 'start': 85, 'end': 95, 'paper_location': 'unknown', 'paper_title': 'unknown', 'doi': 'unknown'}], '4': [{'entity': 'microglia', 'label': 'CELL_TYPE', 'ontology_id': 'CL:0000129', 'ontology_label': 'microglial cell', 'sentence': 'Additionally, mutations in the APOE gene have been linked to neurodegenerative disorders, impacting astrocytes and microglia function.', 'start': 100, 'end': 109, 'paper_location': 'unknown', 'paper_title': 'unknown', 'doi': 'unknown'}]}} as input and perform the following evaluation:\n",
      "1. Assess the quality and accuracy of the alignment with the ontology or schema in {'aligned_structured_information': {'1': [{'entity': 'APOE', 'label': 'GENE', 'ontology_id': 'HGNC:613', 'ontology_label': 'APOE', 'sentence': 'Additionally, mutations in the APOE gene have been linked to neurodegenerative disorders, impacting astrocytes and microglia function.', 'start': 26, 'end': 30, 'paper_location': 'unknown', 'paper_title': 'unknown', 'doi': 'unknown'}], '2': [{'entity': 'neurodegenerative disorders', 'label': 'DISORDER', 'ontology_id': 'MONDO:0021060', 'ontology_label': 'neurodegenerative disease', 'sentence': 'Additionally, mutations in the APOE gene have been linked to neurodegenerative disorders, impacting astrocytes and microglia function.', 'start': 49, 'end': 74, 'paper_location': 'unknown', 'paper_title': 'unknown', 'doi': 'unknown'}], '3': [{'entity': 'astrocytes', 'label': 'CELL_TYPE', 'ontology_id': 'CL:0000127', 'ontology_label': 'astrocyte', 'sentence': 'Additionally, mutations in the APOE gene have been linked to neurodegenerative disorders, impacting astrocytes and microglia function.', 'start': 85, 'end': 95, 'paper_location': 'unknown', 'paper_title': 'unknown', 'doi': 'unknown'}], '4': [{'entity': 'microglia', 'label': 'CELL_TYPE', 'ontology_id': 'CL:0000129', 'ontology_label': 'microglial cell', 'sentence': 'Additionally, mutations in the APOE gene have been linked to neurodegenerative disorders, impacting astrocytes and microglia function.', 'start': 100, 'end': 109, 'paper_location': 'unknown', 'paper_title': 'unknown', 'doi': 'unknown'}]}}.\n",
      "2. Assign a score between 0 and 1 as a judge_score.\n",
      "3. Update the {'aligned_structured_information': {'1': [{'entity': 'APOE', 'label': 'GENE', 'ontology_id': 'HGNC:613', 'ontology_label': 'APOE', 'sentence': 'Additionally, mutations in the APOE gene have been linked to neurodegenerative disorders, impacting astrocytes and microglia function.', 'start': 26, 'end': 30, 'paper_location': 'unknown', 'paper_title': 'unknown', 'doi': 'unknown'}], '2': [{'entity': 'neurodegenerative disorders', 'label': 'DISORDER', 'ontology_id': 'MONDO:0021060', 'ontology_label': 'neurodegenerative disease', 'sentence': 'Additionally, mutations in the APOE gene have been linked to neurodegenerative disorders, impacting astrocytes and microglia function.', 'start': 49, 'end': 74, 'paper_location': 'unknown', 'paper_title': 'unknown', 'doi': 'unknown'}], '3': [{'entity': 'astrocytes', 'label': 'CELL_TYPE', 'ontology_id': 'CL:0000127', 'ontology_label': 'astrocyte', 'sentence': 'Additionally, mutations in the APOE gene have been linked to neurodegenerative disorders, impacting astrocytes and microglia function.', 'start': 85, 'end': 95, 'paper_location': 'unknown', 'paper_title': 'unknown', 'doi': 'unknown'}], '4': [{'entity': 'microglia', 'label': 'CELL_TYPE', 'ontology_id': 'CL:0000129', 'ontology_label': 'microglial cell', 'sentence': 'Additionally, mutations in the APOE gene have been linked to neurodegenerative disorders, impacting astrocytes and microglia function.', 'start': 100, 'end': 109, 'paper_location': 'unknown', 'paper_title': 'unknown', 'doi': 'unknown'}]}} adding the judge_score.\u001b[00m\n"
     ]
    },
    {
     "data": {
      "text/html": [
       "<pre style=\"white-space:pre;overflow-x:auto;line-height:normal;font-family:Menlo,'DejaVu Sans Mono',consolas,'Courier New',monospace\"><span style=\"color: #008080; text-decoration-color: #008080; font-weight: bold\">🚀 Crew: crew</span>\n",
       "└── <span style=\"color: #808000; text-decoration-color: #808000; font-weight: bold\">📋 Task: d41bf9bb-86fd-46ee-b696-51d51e4e78c2</span>\n",
       "    <span style=\"color: #c0c0c0; text-decoration-color: #c0c0c0\">   Status: </span><span style=\"color: #bfbf7f; text-decoration-color: #bfbf7f\">Executing Task...</span>\n",
       "    └── <span style=\"color: #008000; text-decoration-color: #008000; font-weight: bold\">🤖 Agent: </span><span style=\"color: #008000; text-decoration-color: #008000\">Neuroscience Named Entity Recognition (NER) Judge Agent</span>\n",
       "        <span style=\"color: #c0c0c0; text-decoration-color: #c0c0c0\">    Status: </span><span style=\"color: #008000; text-decoration-color: #008000; font-weight: bold\">In Progress</span>\n",
       "        └── <span style=\"color: #000080; text-decoration-color: #000080; font-weight: bold\">🧠 </span><span style=\"color: #000080; text-decoration-color: #000080\">Thinking...</span>\n",
       "</pre>\n"
      ],
      "text/plain": [
       "\u001b[1;36m🚀 Crew: \u001b[0m\u001b[1;36mcrew\u001b[0m\n",
       "└── \u001b[1;33m📋 Task: d41bf9bb-86fd-46ee-b696-51d51e4e78c2\u001b[0m\n",
       "    \u001b[37m   Status: \u001b[0m\u001b[2;33mExecuting Task...\u001b[0m\n",
       "    └── \u001b[1;32m🤖 Agent: \u001b[0m\u001b[32mNeuroscience Named Entity Recognition (NER) Judge Agent\u001b[0m\n",
       "        \u001b[37m    Status: \u001b[0m\u001b[1;32mIn Progress\u001b[0m\n",
       "        └── \u001b[1;34m🧠 \u001b[0m\u001b[34mThinking...\u001b[0m\n"
      ]
     },
     "metadata": {},
     "output_type": "display_data"
    },
    {
     "data": {
      "text/html": [
       "<pre style=\"white-space:pre;overflow-x:auto;line-height:normal;font-family:Menlo,'DejaVu Sans Mono',consolas,'Courier New',monospace\">\n",
       "</pre>\n"
      ],
      "text/plain": [
       "\n"
      ]
     },
     "metadata": {},
     "output_type": "display_data"
    },
    {
     "name": "stderr",
     "output_type": "stream",
     "text": [
      "\u001b[92m16:58:07 - LiteLLM:INFO\u001b[0m: utils.py:2896 - \n",
      "LiteLLM completion() model= openai/gpt-4o-2024-11-20; provider = openrouter\n"
     ]
    },
    {
     "name": "stdout",
     "output_type": "stream",
     "text": [
      "2025-04-08 16:58:07,405 - LiteLLM - INFO - \n",
      "LiteLLM completion() model= openai/gpt-4o-2024-11-20; provider = openrouter\n",
      "2025-04-08 16:58:07,710 - httpx - INFO - HTTP Request: POST https://openrouter.ai/api/v1/chat/completions \"HTTP/1.1 200 OK\"\n"
     ]
    },
    {
     "name": "stderr",
     "output_type": "stream",
     "text": [
      "\u001b[92m16:58:25 - LiteLLM:INFO\u001b[0m: utils.py:1084 - Wrapper: Completed Call, calling success_handler\n"
     ]
    },
    {
     "name": "stdout",
     "output_type": "stream",
     "text": [
      "2025-04-08 16:58:25,425 - LiteLLM - INFO - Wrapper: Completed Call, calling success_handler\n"
     ]
    },
    {
     "data": {
      "text/html": [
       "<pre style=\"white-space:pre;overflow-x:auto;line-height:normal;font-family:Menlo,'DejaVu Sans Mono',consolas,'Courier New',monospace\"><span style=\"color: #008080; text-decoration-color: #008080; font-weight: bold\">🚀 Crew: crew</span>\n",
       "└── <span style=\"color: #808000; text-decoration-color: #808000; font-weight: bold\">📋 Task: d41bf9bb-86fd-46ee-b696-51d51e4e78c2</span>\n",
       "    <span style=\"color: #c0c0c0; text-decoration-color: #c0c0c0\">   Status: </span><span style=\"color: #bfbf7f; text-decoration-color: #bfbf7f\">Executing Task...</span>\n",
       "    └── <span style=\"color: #008000; text-decoration-color: #008000; font-weight: bold\">🤖 Agent: </span><span style=\"color: #008000; text-decoration-color: #008000\">Neuroscience Named Entity Recognition (NER) Judge Agent</span>\n",
       "        <span style=\"color: #c0c0c0; text-decoration-color: #c0c0c0\">    Status: </span><span style=\"color: #008000; text-decoration-color: #008000; font-weight: bold\">In Progress</span>\n",
       "</pre>\n"
      ],
      "text/plain": [
       "\u001b[1;36m🚀 Crew: \u001b[0m\u001b[1;36mcrew\u001b[0m\n",
       "└── \u001b[1;33m📋 Task: d41bf9bb-86fd-46ee-b696-51d51e4e78c2\u001b[0m\n",
       "    \u001b[37m   Status: \u001b[0m\u001b[2;33mExecuting Task...\u001b[0m\n",
       "    └── \u001b[1;32m🤖 Agent: \u001b[0m\u001b[32mNeuroscience Named Entity Recognition (NER) Judge Agent\u001b[0m\n",
       "        \u001b[37m    Status: \u001b[0m\u001b[1;32mIn Progress\u001b[0m\n"
      ]
     },
     "metadata": {},
     "output_type": "display_data"
    },
    {
     "data": {
      "text/html": [
       "<pre style=\"white-space:pre;overflow-x:auto;line-height:normal;font-family:Menlo,'DejaVu Sans Mono',consolas,'Courier New',monospace\">\n",
       "</pre>\n"
      ],
      "text/plain": [
       "\n"
      ]
     },
     "metadata": {},
     "output_type": "display_data"
    },
    {
     "name": "stdout",
     "output_type": "stream",
     "text": [
      "\n",
      "\n",
      "\u001b[1m\u001b[95m# Agent:\u001b[00m \u001b[1m\u001b[92mNeuroscience Named Entity Recognition (NER) Judge Agent\u001b[00m\n",
      "\u001b[95m## Final Answer:\u001b[00m \u001b[92m\n",
      "{\n",
      "  \"judged_structured_information\": {\n",
      "    \"1\": [\n",
      "      {\n",
      "        \"entity\": \"APOE\",\n",
      "        \"label\": \"GENE\",\n",
      "        \"ontology_id\": \"HGNC:613\",\n",
      "        \"ontology_label\": \"APOE\",\n",
      "        \"sentence\": \"Additionally, mutations in the APOE gene have been linked to neurodegenerative disorders, impacting astrocytes and microglia function.\",\n",
      "        \"start\": 26,\n",
      "        \"end\": 30,\n",
      "        \"judge_score\": 1.0,\n",
      "        \"paper_location\": \"unknown\",\n",
      "        \"paper_title\": \"unknown\",\n",
      "        \"doi\": \"unknown\"\n",
      "      }\n",
      "    ],\n",
      "    \"2\": [\n",
      "      {\n",
      "        \"entity\": \"neurodegenerative disorders\",\n",
      "        \"label\": \"DISORDER\",\n",
      "        \"ontology_id\": \"MONDO:0021060\",\n",
      "        \"ontology_label\": \"neurodegenerative disease\",\n",
      "        \"sentence\": \"Additionally, mutations in the APOE gene have been linked to neurodegenerative disorders, impacting astrocytes and microglia function.\",\n",
      "        \"start\": 49,\n",
      "        \"end\": 74,\n",
      "        \"judge_score\": 1.0,\n",
      "        \"paper_location\": \"unknown\",\n",
      "        \"paper_title\": \"unknown\",\n",
      "        \"doi\": \"unknown\"\n",
      "      }\n",
      "    ],\n",
      "    \"3\": [\n",
      "      {\n",
      "        \"entity\": \"astrocytes\",\n",
      "        \"label\": \"CELL_TYPE\",\n",
      "        \"ontology_id\": \"CL:0000127\",\n",
      "        \"ontology_label\": \"astrocyte\",\n",
      "        \"sentence\": \"Additionally, mutations in the APOE gene have been linked to neurodegenerative disorders, impacting astrocytes and microglia function.\",\n",
      "        \"start\": 85,\n",
      "        \"end\": 95,\n",
      "        \"judge_score\": 1.0,\n",
      "        \"paper_location\": \"unknown\",\n",
      "        \"paper_title\": \"unknown\",\n",
      "        \"doi\": \"unknown\"\n",
      "      }\n",
      "    ],\n",
      "    \"4\": [\n",
      "      {\n",
      "        \"entity\": \"microglia\",\n",
      "        \"label\": \"CELL_TYPE\",\n",
      "        \"ontology_id\": \"CL:0000129\",\n",
      "        \"ontology_label\": \"microglial cell\",\n",
      "        \"sentence\": \"Additionally, mutations in the APOE gene have been linked to neurodegenerative disorders, impacting astrocytes and microglia function.\",\n",
      "        \"start\": 100,\n",
      "        \"end\": 109,\n",
      "        \"judge_score\": 1.0,\n",
      "        \"paper_location\": \"unknown\",\n",
      "        \"paper_title\": \"unknown\",\n",
      "        \"doi\": \"unknown\"\n",
      "      }\n",
      "    ]\n",
      "  }\n",
      "}\u001b[00m\n",
      "\n",
      "\n",
      "2025-04-08 16:58:25,527 - httpx - INFO - HTTP Request: POST http://localhost:11434/api/embeddings \"HTTP/1.1 200 OK\"\n"
     ]
    },
    {
     "data": {
      "text/html": [
       "<pre style=\"white-space:pre;overflow-x:auto;line-height:normal;font-family:Menlo,'DejaVu Sans Mono',consolas,'Courier New',monospace\"><span style=\"color: #008080; text-decoration-color: #008080; font-weight: bold\">🚀 Crew: crew</span>\n",
       "└── <span style=\"color: #808000; text-decoration-color: #808000; font-weight: bold\">📋 Task: d41bf9bb-86fd-46ee-b696-51d51e4e78c2</span>\n",
       "    <span style=\"color: #c0c0c0; text-decoration-color: #c0c0c0\">   Status: </span><span style=\"color: #bfbf7f; text-decoration-color: #bfbf7f\">Executing Task...</span>\n",
       "    └── <span style=\"color: #008000; text-decoration-color: #008000; font-weight: bold\">🤖 Agent: </span><span style=\"color: #008000; text-decoration-color: #008000\">Neuroscience Named Entity Recognition (NER) Judge Agent</span>\n",
       "        <span style=\"color: #c0c0c0; text-decoration-color: #c0c0c0\">    Status: </span><span style=\"color: #008000; text-decoration-color: #008000; font-weight: bold\">In Progress</span>\n",
       "        └── <span style=\"color: #000080; text-decoration-color: #000080; font-weight: bold\">🧠 </span><span style=\"color: #000080; text-decoration-color: #000080\">Thinking...</span>\n",
       "</pre>\n"
      ],
      "text/plain": [
       "\u001b[1;36m🚀 Crew: \u001b[0m\u001b[1;36mcrew\u001b[0m\n",
       "└── \u001b[1;33m📋 Task: d41bf9bb-86fd-46ee-b696-51d51e4e78c2\u001b[0m\n",
       "    \u001b[37m   Status: \u001b[0m\u001b[2;33mExecuting Task...\u001b[0m\n",
       "    └── \u001b[1;32m🤖 Agent: \u001b[0m\u001b[32mNeuroscience Named Entity Recognition (NER) Judge Agent\u001b[0m\n",
       "        \u001b[37m    Status: \u001b[0m\u001b[1;32mIn Progress\u001b[0m\n",
       "        └── \u001b[1;34m🧠 \u001b[0m\u001b[34mThinking...\u001b[0m\n"
      ]
     },
     "metadata": {},
     "output_type": "display_data"
    },
    {
     "data": {
      "text/html": [
       "<pre style=\"white-space:pre;overflow-x:auto;line-height:normal;font-family:Menlo,'DejaVu Sans Mono',consolas,'Courier New',monospace\">\n",
       "</pre>\n"
      ],
      "text/plain": [
       "\n"
      ]
     },
     "metadata": {},
     "output_type": "display_data"
    },
    {
     "name": "stderr",
     "output_type": "stream",
     "text": [
      "\u001b[92m16:58:25 - LiteLLM:INFO\u001b[0m: utils.py:2896 - \n",
      "LiteLLM completion() model= openai/gpt-4o-2024-11-20; provider = openrouter\n"
     ]
    },
    {
     "name": "stdout",
     "output_type": "stream",
     "text": [
      "2025-04-08 16:58:25,557 - LiteLLM - INFO - \n",
      "LiteLLM completion() model= openai/gpt-4o-2024-11-20; provider = openrouter\n",
      "2025-04-08 16:58:25,847 - httpx - INFO - HTTP Request: POST https://openrouter.ai/api/v1/chat/completions \"HTTP/1.1 200 OK\"\n"
     ]
    },
    {
     "name": "stderr",
     "output_type": "stream",
     "text": [
      "\u001b[92m16:58:31 - LiteLLM:INFO\u001b[0m: utils.py:1084 - Wrapper: Completed Call, calling success_handler\n"
     ]
    },
    {
     "name": "stdout",
     "output_type": "stream",
     "text": [
      "2025-04-08 16:58:31,853 - LiteLLM - INFO - Wrapper: Completed Call, calling success_handler\n"
     ]
    },
    {
     "data": {
      "text/html": [
       "<pre style=\"white-space:pre;overflow-x:auto;line-height:normal;font-family:Menlo,'DejaVu Sans Mono',consolas,'Courier New',monospace\"><span style=\"color: #008080; text-decoration-color: #008080; font-weight: bold\">🚀 Crew: crew</span>\n",
       "└── <span style=\"color: #808000; text-decoration-color: #808000; font-weight: bold\">📋 Task: d41bf9bb-86fd-46ee-b696-51d51e4e78c2</span>\n",
       "    <span style=\"color: #c0c0c0; text-decoration-color: #c0c0c0\">   Status: </span><span style=\"color: #bfbf7f; text-decoration-color: #bfbf7f\">Executing Task...</span>\n",
       "    └── <span style=\"color: #008000; text-decoration-color: #008000; font-weight: bold\">🤖 Agent: </span><span style=\"color: #008000; text-decoration-color: #008000\">Neuroscience Named Entity Recognition (NER) Judge Agent</span>\n",
       "        <span style=\"color: #c0c0c0; text-decoration-color: #c0c0c0\">    Status: </span><span style=\"color: #008000; text-decoration-color: #008000; font-weight: bold\">In Progress</span>\n",
       "</pre>\n"
      ],
      "text/plain": [
       "\u001b[1;36m🚀 Crew: \u001b[0m\u001b[1;36mcrew\u001b[0m\n",
       "└── \u001b[1;33m📋 Task: d41bf9bb-86fd-46ee-b696-51d51e4e78c2\u001b[0m\n",
       "    \u001b[37m   Status: \u001b[0m\u001b[2;33mExecuting Task...\u001b[0m\n",
       "    └── \u001b[1;32m🤖 Agent: \u001b[0m\u001b[32mNeuroscience Named Entity Recognition (NER) Judge Agent\u001b[0m\n",
       "        \u001b[37m    Status: \u001b[0m\u001b[1;32mIn Progress\u001b[0m\n"
      ]
     },
     "metadata": {},
     "output_type": "display_data"
    },
    {
     "data": {
      "text/html": [
       "<pre style=\"white-space:pre;overflow-x:auto;line-height:normal;font-family:Menlo,'DejaVu Sans Mono',consolas,'Courier New',monospace\">\n",
       "</pre>\n"
      ],
      "text/plain": [
       "\n"
      ]
     },
     "metadata": {},
     "output_type": "display_data"
    },
    {
     "name": "stdout",
     "output_type": "stream",
     "text": [
      "2025-04-08 16:58:31,916 - httpx - INFO - HTTP Request: POST http://localhost:11434/api/embeddings \"HTTP/1.1 200 OK\"\n",
      "2025-04-08 16:58:31,951 - httpx - INFO - HTTP Request: POST http://localhost:11434/api/embeddings \"HTTP/1.1 200 OK\"\n",
      "2025-04-08 16:58:31,981 - httpx - INFO - HTTP Request: POST http://localhost:11434/api/embeddings \"HTTP/1.1 200 OK\"\n",
      "2025-04-08 16:58:32,012 - httpx - INFO - HTTP Request: POST http://localhost:11434/api/embeddings \"HTTP/1.1 200 OK\"\n"
     ]
    },
    {
     "data": {
      "text/html": [
       "<pre style=\"white-space:pre;overflow-x:auto;line-height:normal;font-family:Menlo,'DejaVu Sans Mono',consolas,'Courier New',monospace\"><span style=\"color: #008080; text-decoration-color: #008080; font-weight: bold\">🚀 Crew: crew</span>\n",
       "└── <span style=\"color: #808000; text-decoration-color: #808000; font-weight: bold\">📋 Task: d41bf9bb-86fd-46ee-b696-51d51e4e78c2</span>\n",
       "    <span style=\"color: #c0c0c0; text-decoration-color: #c0c0c0\">   Status: </span><span style=\"color: #bfbf7f; text-decoration-color: #bfbf7f\">Executing Task...</span>\n",
       "    └── <span style=\"color: #008000; text-decoration-color: #008000; font-weight: bold\">🤖 Agent: </span><span style=\"color: #008000; text-decoration-color: #008000\">Neuroscience Named Entity Recognition (NER) Judge Agent</span>\n",
       "        <span style=\"color: #c0c0c0; text-decoration-color: #c0c0c0\">    Status: </span><span style=\"color: #008000; text-decoration-color: #008000; font-weight: bold\">✅ Completed</span>\n",
       "</pre>\n"
      ],
      "text/plain": [
       "\u001b[1;36m🚀 Crew: \u001b[0m\u001b[1;36mcrew\u001b[0m\n",
       "└── \u001b[1;33m📋 Task: d41bf9bb-86fd-46ee-b696-51d51e4e78c2\u001b[0m\n",
       "    \u001b[37m   Status: \u001b[0m\u001b[2;33mExecuting Task...\u001b[0m\n",
       "    └── \u001b[1;32m🤖 Agent: \u001b[0m\u001b[32mNeuroscience Named Entity Recognition (NER) Judge Agent\u001b[0m\n",
       "        \u001b[37m    Status: \u001b[0m\u001b[1;32m✅ Completed\u001b[0m\n"
      ]
     },
     "metadata": {},
     "output_type": "display_data"
    },
    {
     "data": {
      "text/html": [
       "<pre style=\"white-space:pre;overflow-x:auto;line-height:normal;font-family:Menlo,'DejaVu Sans Mono',consolas,'Courier New',monospace\">\n",
       "</pre>\n"
      ],
      "text/plain": [
       "\n"
      ]
     },
     "metadata": {},
     "output_type": "display_data"
    },
    {
     "data": {
      "text/html": [
       "<pre style=\"white-space:pre;overflow-x:auto;line-height:normal;font-family:Menlo,'DejaVu Sans Mono',consolas,'Courier New',monospace\"><span style=\"color: #008080; text-decoration-color: #008080; font-weight: bold\">🚀 Crew: crew</span>\n",
       "└── <span style=\"color: #008000; text-decoration-color: #008000; font-weight: bold\">📋 Task: d41bf9bb-86fd-46ee-b696-51d51e4e78c2</span>\n",
       "    <span style=\"color: #c0c0c0; text-decoration-color: #c0c0c0\">   Assigned to: </span><span style=\"color: #008000; text-decoration-color: #008000\">Neuroscience Named Entity Recognition (NER) Judge Agent</span>\n",
       "    <span style=\"color: #c0c0c0; text-decoration-color: #c0c0c0\">   Status: </span><span style=\"color: #008000; text-decoration-color: #008000; font-weight: bold\">✅ Completed</span>\n",
       "    └── <span style=\"color: #008000; text-decoration-color: #008000; font-weight: bold\">🤖 Agent: </span><span style=\"color: #008000; text-decoration-color: #008000\">Neuroscience Named Entity Recognition (NER) Judge Agent</span>\n",
       "        <span style=\"color: #c0c0c0; text-decoration-color: #c0c0c0\">    Status: </span><span style=\"color: #008000; text-decoration-color: #008000; font-weight: bold\">✅ Completed</span>\n",
       "</pre>\n"
      ],
      "text/plain": [
       "\u001b[1;36m🚀 Crew: \u001b[0m\u001b[1;36mcrew\u001b[0m\n",
       "└── \u001b[1;32m📋 Task: d41bf9bb-86fd-46ee-b696-51d51e4e78c2\u001b[0m\n",
       "    \u001b[37m   Assigned to: \u001b[0m\u001b[32mNeuroscience Named Entity Recognition (NER) Judge Agent\u001b[0m\n",
       "    \u001b[37m   Status: \u001b[0m\u001b[1;32m✅ Completed\u001b[0m\n",
       "    └── \u001b[1;32m🤖 Agent: \u001b[0m\u001b[32mNeuroscience Named Entity Recognition (NER) Judge Agent\u001b[0m\n",
       "        \u001b[37m    Status: \u001b[0m\u001b[1;32m✅ Completed\u001b[0m\n"
      ]
     },
     "metadata": {},
     "output_type": "display_data"
    },
    {
     "data": {
      "text/html": [
       "<pre style=\"white-space:pre;overflow-x:auto;line-height:normal;font-family:Menlo,'DejaVu Sans Mono',consolas,'Courier New',monospace\"><span style=\"color: #008000; text-decoration-color: #008000\">╭──────────────────────────────────────────────── Task Completion ────────────────────────────────────────────────╮</span>\n",
       "<span style=\"color: #008000; text-decoration-color: #008000\">│</span>                                                                                                                 <span style=\"color: #008000; text-decoration-color: #008000\">│</span>\n",
       "<span style=\"color: #008000; text-decoration-color: #008000\">│</span>  <span style=\"color: #008000; text-decoration-color: #008000; font-weight: bold\">Task Completed</span>                                                                                                 <span style=\"color: #008000; text-decoration-color: #008000\">│</span>\n",
       "<span style=\"color: #008000; text-decoration-color: #008000\">│</span>  <span style=\"color: #c0c0c0; text-decoration-color: #c0c0c0\">Name: </span><span style=\"color: #008000; text-decoration-color: #008000\">d41bf9bb-86fd-46ee-b696-51d51e4e78c2</span>                                                                     <span style=\"color: #008000; text-decoration-color: #008000\">│</span>\n",
       "<span style=\"color: #008000; text-decoration-color: #008000\">│</span>  <span style=\"color: #c0c0c0; text-decoration-color: #c0c0c0\">Agent: </span><span style=\"color: #008000; text-decoration-color: #008000\">Neuroscience Named Entity Recognition (NER) Judge Agent</span>                                                 <span style=\"color: #008000; text-decoration-color: #008000\">│</span>\n",
       "<span style=\"color: #008000; text-decoration-color: #008000\">│</span>                                                                                                                 <span style=\"color: #008000; text-decoration-color: #008000\">│</span>\n",
       "<span style=\"color: #008000; text-decoration-color: #008000\">│</span>                                                                                                                 <span style=\"color: #008000; text-decoration-color: #008000\">│</span>\n",
       "<span style=\"color: #008000; text-decoration-color: #008000\">╰─────────────────────────────────────────────────────────────────────────────────────────────────────────────────╯</span>\n",
       "</pre>\n"
      ],
      "text/plain": [
       "\u001b[32m╭─\u001b[0m\u001b[32m───────────────────────────────────────────────\u001b[0m\u001b[32m Task Completion \u001b[0m\u001b[32m───────────────────────────────────────────────\u001b[0m\u001b[32m─╮\u001b[0m\n",
       "\u001b[32m│\u001b[0m                                                                                                                 \u001b[32m│\u001b[0m\n",
       "\u001b[32m│\u001b[0m  \u001b[1;32mTask Completed\u001b[0m                                                                                                 \u001b[32m│\u001b[0m\n",
       "\u001b[32m│\u001b[0m  \u001b[37mName: \u001b[0m\u001b[32md41bf9bb-86fd-46ee-b696-51d51e4e78c2\u001b[0m                                                                     \u001b[32m│\u001b[0m\n",
       "\u001b[32m│\u001b[0m  \u001b[37mAgent: \u001b[0m\u001b[32mNeuroscience Named Entity Recognition (NER) Judge Agent\u001b[0m                                                 \u001b[32m│\u001b[0m\n",
       "\u001b[32m│\u001b[0m                                                                                                                 \u001b[32m│\u001b[0m\n",
       "\u001b[32m│\u001b[0m                                                                                                                 \u001b[32m│\u001b[0m\n",
       "\u001b[32m╰─────────────────────────────────────────────────────────────────────────────────────────────────────────────────╯\u001b[0m\n"
      ]
     },
     "metadata": {},
     "output_type": "display_data"
    },
    {
     "data": {
      "text/html": [
       "<pre style=\"white-space:pre;overflow-x:auto;line-height:normal;font-family:Menlo,'DejaVu Sans Mono',consolas,'Courier New',monospace\">\n",
       "</pre>\n"
      ],
      "text/plain": [
       "\n"
      ]
     },
     "metadata": {},
     "output_type": "display_data"
    },
    {
     "data": {
      "text/html": [
       "<pre style=\"white-space:pre;overflow-x:auto;line-height:normal;font-family:Menlo,'DejaVu Sans Mono',consolas,'Courier New',monospace\"><span style=\"color: #008000; text-decoration-color: #008000\">╭──────────────────────────────────────────────── Crew Completion ────────────────────────────────────────────────╮</span>\n",
       "<span style=\"color: #008000; text-decoration-color: #008000\">│</span>                                                                                                                 <span style=\"color: #008000; text-decoration-color: #008000\">│</span>\n",
       "<span style=\"color: #008000; text-decoration-color: #008000\">│</span>  <span style=\"color: #008000; text-decoration-color: #008000; font-weight: bold\">Crew Execution Completed</span>                                                                                       <span style=\"color: #008000; text-decoration-color: #008000\">│</span>\n",
       "<span style=\"color: #008000; text-decoration-color: #008000\">│</span>  <span style=\"color: #c0c0c0; text-decoration-color: #c0c0c0\">Name: </span><span style=\"color: #008000; text-decoration-color: #008000\">crew</span>                                                                                                     <span style=\"color: #008000; text-decoration-color: #008000\">│</span>\n",
       "<span style=\"color: #008000; text-decoration-color: #008000\">│</span>  <span style=\"color: #c0c0c0; text-decoration-color: #c0c0c0\">ID: </span><span style=\"color: #008000; text-decoration-color: #008000\">4beade9e-461d-4cce-809e-afa416009a62</span>                                                                       <span style=\"color: #008000; text-decoration-color: #008000\">│</span>\n",
       "<span style=\"color: #008000; text-decoration-color: #008000\">│</span>                                                                                                                 <span style=\"color: #008000; text-decoration-color: #008000\">│</span>\n",
       "<span style=\"color: #008000; text-decoration-color: #008000\">│</span>                                                                                                                 <span style=\"color: #008000; text-decoration-color: #008000\">│</span>\n",
       "<span style=\"color: #008000; text-decoration-color: #008000\">╰─────────────────────────────────────────────────────────────────────────────────────────────────────────────────╯</span>\n",
       "</pre>\n"
      ],
      "text/plain": [
       "\u001b[32m╭─\u001b[0m\u001b[32m───────────────────────────────────────────────\u001b[0m\u001b[32m Crew Completion \u001b[0m\u001b[32m───────────────────────────────────────────────\u001b[0m\u001b[32m─╮\u001b[0m\n",
       "\u001b[32m│\u001b[0m                                                                                                                 \u001b[32m│\u001b[0m\n",
       "\u001b[32m│\u001b[0m  \u001b[1;32mCrew Execution Completed\u001b[0m                                                                                       \u001b[32m│\u001b[0m\n",
       "\u001b[32m│\u001b[0m  \u001b[37mName: \u001b[0m\u001b[32mcrew\u001b[0m                                                                                                     \u001b[32m│\u001b[0m\n",
       "\u001b[32m│\u001b[0m  \u001b[37mID: \u001b[0m\u001b[32m4beade9e-461d-4cce-809e-afa416009a62\u001b[0m                                                                       \u001b[32m│\u001b[0m\n",
       "\u001b[32m│\u001b[0m                                                                                                                 \u001b[32m│\u001b[0m\n",
       "\u001b[32m│\u001b[0m                                                                                                                 \u001b[32m│\u001b[0m\n",
       "\u001b[32m╰─────────────────────────────────────────────────────────────────────────────────────────────────────────────────╯\u001b[0m\n"
      ]
     },
     "metadata": {},
     "output_type": "display_data"
    },
    {
     "data": {
      "text/html": [
       "<pre style=\"white-space:pre;overflow-x:auto;line-height:normal;font-family:Menlo,'DejaVu Sans Mono',consolas,'Courier New',monospace\">\n",
       "</pre>\n"
      ],
      "text/plain": [
       "\n"
      ]
     },
     "metadata": {},
     "output_type": "display_data"
    },
    {
     "name": "stdout",
     "output_type": "stream",
     "text": [
      "2025-04-08 16:58:32,075 - structsense.app - INFO - Judgment complete with 0 judged terms\n"
     ]
    },
    {
     "data": {
      "text/html": [
       "<pre style=\"white-space:pre;overflow-x:auto;line-height:normal;font-family:Menlo,'DejaVu Sans Mono',consolas,'Courier New',monospace\"><span style=\"color: #000080; text-decoration-color: #000080; font-weight: bold\">🌊 Flow: </span><span style=\"color: #000080; text-decoration-color: #000080\">StructSenseFlow</span>\n",
       "<span style=\"color: #c0c0c0; text-decoration-color: #c0c0c0\">    ID: </span><span style=\"color: #000080; text-decoration-color: #000080\">ed3d98e0-5d20-4d25-817b-ed8203dc4a37</span>\n",
       "├── <span style=\"color: #c0c0c0; text-decoration-color: #c0c0c0\">Flow Method Step</span>\n",
       "├── <span style=\"color: #008000; text-decoration-color: #008000; font-weight: bold\">✅ Completed: process_inputs</span>\n",
       "├── <span style=\"color: #008000; text-decoration-color: #008000; font-weight: bold\">✅ Completed: extracted_structured_information</span>\n",
       "├── <span style=\"color: #008000; text-decoration-color: #008000; font-weight: bold\">✅ Completed: align_structured_information</span>\n",
       "└── <span style=\"color: #008000; text-decoration-color: #008000; font-weight: bold\">✅ Completed: judge_alignment</span>\n",
       "</pre>\n"
      ],
      "text/plain": [
       "\u001b[1;34m🌊 Flow: \u001b[0m\u001b[34mStructSenseFlow\u001b[0m\n",
       "\u001b[37m    ID: \u001b[0m\u001b[34med3d98e0-5d20-4d25-817b-ed8203dc4a37\u001b[0m\n",
       "├── \u001b[37mFlow Method Step\u001b[0m\n",
       "├── \u001b[1;32m✅ Completed:\u001b[0m\u001b[1;32m process_inputs\u001b[0m\n",
       "├── \u001b[1;32m✅ Completed:\u001b[0m\u001b[1;32m extracted_structured_information\u001b[0m\n",
       "├── \u001b[1;32m✅ Completed:\u001b[0m\u001b[1;32m align_structured_information\u001b[0m\n",
       "└── \u001b[1;32m✅ Completed:\u001b[0m\u001b[1;32m judge_alignment\u001b[0m\n"
      ]
     },
     "metadata": {},
     "output_type": "display_data"
    },
    {
     "data": {
      "text/html": [
       "<pre style=\"white-space:pre;overflow-x:auto;line-height:normal;font-family:Menlo,'DejaVu Sans Mono',consolas,'Courier New',monospace\">\n",
       "</pre>\n"
      ],
      "text/plain": [
       "\n"
      ]
     },
     "metadata": {},
     "output_type": "display_data"
    },
    {
     "data": {
      "text/html": [
       "<pre style=\"white-space:pre;overflow-x:auto;line-height:normal;font-family:Menlo,'DejaVu Sans Mono',consolas,'Courier New',monospace\"><span style=\"color: #008000; text-decoration-color: #008000; font-weight: bold\">✅ Flow Finished: </span><span style=\"color: #008000; text-decoration-color: #008000\">StructSenseFlow</span>\n",
       "├── <span style=\"color: #c0c0c0; text-decoration-color: #c0c0c0\">Flow Method Step</span>\n",
       "├── <span style=\"color: #008000; text-decoration-color: #008000; font-weight: bold\">✅ Completed: process_inputs</span>\n",
       "├── <span style=\"color: #008000; text-decoration-color: #008000; font-weight: bold\">✅ Completed: extracted_structured_information</span>\n",
       "├── <span style=\"color: #008000; text-decoration-color: #008000; font-weight: bold\">✅ Completed: align_structured_information</span>\n",
       "└── <span style=\"color: #008000; text-decoration-color: #008000; font-weight: bold\">✅ Completed: judge_alignment</span>\n",
       "</pre>\n"
      ],
      "text/plain": [
       "\u001b[1;32m✅ Flow Finished: \u001b[0m\u001b[32mStructSenseFlow\u001b[0m\n",
       "├── \u001b[37mFlow Method Step\u001b[0m\n",
       "├── \u001b[1;32m✅ Completed:\u001b[0m\u001b[1;32m process_inputs\u001b[0m\n",
       "├── \u001b[1;32m✅ Completed:\u001b[0m\u001b[1;32m extracted_structured_information\u001b[0m\n",
       "├── \u001b[1;32m✅ Completed:\u001b[0m\u001b[1;32m align_structured_information\u001b[0m\n",
       "└── \u001b[1;32m✅ Completed:\u001b[0m\u001b[1;32m judge_alignment\u001b[0m\n"
      ]
     },
     "metadata": {},
     "output_type": "display_data"
    },
    {
     "data": {
      "text/html": [
       "<pre style=\"white-space:pre;overflow-x:auto;line-height:normal;font-family:Menlo,'DejaVu Sans Mono',consolas,'Courier New',monospace\"><span style=\"color: #008000; text-decoration-color: #008000\">╭──────────────────────────────────────────────── Flow Completion ────────────────────────────────────────────────╮</span>\n",
       "<span style=\"color: #008000; text-decoration-color: #008000\">│</span>                                                                                                                 <span style=\"color: #008000; text-decoration-color: #008000\">│</span>\n",
       "<span style=\"color: #008000; text-decoration-color: #008000\">│</span>  <span style=\"color: #008000; text-decoration-color: #008000; font-weight: bold\">Flow Execution Completed</span>                                                                                       <span style=\"color: #008000; text-decoration-color: #008000\">│</span>\n",
       "<span style=\"color: #008000; text-decoration-color: #008000\">│</span>  <span style=\"color: #c0c0c0; text-decoration-color: #c0c0c0\">Name: </span><span style=\"color: #008000; text-decoration-color: #008000\">StructSenseFlow</span>                                                                                          <span style=\"color: #008000; text-decoration-color: #008000\">│</span>\n",
       "<span style=\"color: #008000; text-decoration-color: #008000\">│</span>  <span style=\"color: #c0c0c0; text-decoration-color: #c0c0c0\">ID: </span><span style=\"color: #008000; text-decoration-color: #008000\">ed3d98e0-5d20-4d25-817b-ed8203dc4a37</span>                                                                       <span style=\"color: #008000; text-decoration-color: #008000\">│</span>\n",
       "<span style=\"color: #008000; text-decoration-color: #008000\">│</span>                                                                                                                 <span style=\"color: #008000; text-decoration-color: #008000\">│</span>\n",
       "<span style=\"color: #008000; text-decoration-color: #008000\">│</span>                                                                                                                 <span style=\"color: #008000; text-decoration-color: #008000\">│</span>\n",
       "<span style=\"color: #008000; text-decoration-color: #008000\">╰─────────────────────────────────────────────────────────────────────────────────────────────────────────────────╯</span>\n",
       "</pre>\n"
      ],
      "text/plain": [
       "\u001b[32m╭─\u001b[0m\u001b[32m───────────────────────────────────────────────\u001b[0m\u001b[32m Flow Completion \u001b[0m\u001b[32m───────────────────────────────────────────────\u001b[0m\u001b[32m─╮\u001b[0m\n",
       "\u001b[32m│\u001b[0m                                                                                                                 \u001b[32m│\u001b[0m\n",
       "\u001b[32m│\u001b[0m  \u001b[1;32mFlow Execution Completed\u001b[0m                                                                                       \u001b[32m│\u001b[0m\n",
       "\u001b[32m│\u001b[0m  \u001b[37mName: \u001b[0m\u001b[32mStructSenseFlow\u001b[0m                                                                                          \u001b[32m│\u001b[0m\n",
       "\u001b[32m│\u001b[0m  \u001b[37mID: \u001b[0m\u001b[32med3d98e0-5d20-4d25-817b-ed8203dc4a37\u001b[0m                                                                       \u001b[32m│\u001b[0m\n",
       "\u001b[32m│\u001b[0m                                                                                                                 \u001b[32m│\u001b[0m\n",
       "\u001b[32m│\u001b[0m                                                                                                                 \u001b[32m│\u001b[0m\n",
       "\u001b[32m╰─────────────────────────────────────────────────────────────────────────────────────────────────────────────────╯\u001b[0m\n"
      ]
     },
     "metadata": {},
     "output_type": "display_data"
    },
    {
     "data": {
      "text/html": [
       "<pre style=\"white-space:pre;overflow-x:auto;line-height:normal;font-family:Menlo,'DejaVu Sans Mono',consolas,'Courier New',monospace\">\n",
       "</pre>\n"
      ],
      "text/plain": [
       "\n"
      ]
     },
     "metadata": {},
     "output_type": "display_data"
    },
    {
     "name": "stdout",
     "output_type": "stream",
     "text": [
      "2025-04-08 16:58:32,088 - structsense.app - INFO - Flow completed successfully\n"
     ]
    }
   ],
   "source": [
    "from structsense import kickoff\n",
    "\n",
    "result = kickoff(\n",
    "      agentconfig=agent_config,\n",
    "      taskconfig=task_config,\n",
    "      embedderconfig=embedderconfig, \n",
    "        input_source=sourcestr,\n",
    "    knowledgeconfig=search_key\n",
    ")"
   ]
  },
  {
   "cell_type": "code",
   "execution_count": 12,
   "id": "1ca05452-f806-4794-a879-f8926fa528d5",
   "metadata": {},
   "outputs": [
    {
     "name": "stdout",
     "output_type": "stream",
     "text": [
      "<class 'dict'>\n",
      "{'judged_structured_information': {'1': [{'entity': 'APOE', 'label': 'GENE', 'ontology_id': 'HGNC:613', 'ontology_label': 'APOE', 'sentence': 'Additionally, mutations in the APOE gene have been linked to neurodegenerative disorders, impacting astrocytes and microglia function.', 'start': 26, 'end': 30, 'judge_score': 1.0, 'paper_location': 'unknown', 'paper_title': 'unknown', 'doi': 'unknown'}], '2': [{'entity': 'neurodegenerative disorders', 'label': 'DISORDER', 'ontology_id': 'MONDO:0021060', 'ontology_label': 'neurodegenerative disease', 'sentence': 'Additionally, mutations in the APOE gene have been linked to neurodegenerative disorders, impacting astrocytes and microglia function.', 'start': 49, 'end': 74, 'judge_score': 1.0, 'paper_location': 'unknown', 'paper_title': 'unknown', 'doi': 'unknown'}], '3': [{'entity': 'astrocytes', 'label': 'CELL_TYPE', 'ontology_id': 'CL:0000127', 'ontology_label': 'astrocyte', 'sentence': 'Additionally, mutations in the APOE gene have been linked to neurodegenerative disorders, impacting astrocytes and microglia function.', 'start': 85, 'end': 95, 'judge_score': 1.0, 'paper_location': 'unknown', 'paper_title': 'unknown', 'doi': 'unknown'}], '4': [{'entity': 'microglia', 'label': 'CELL_TYPE', 'ontology_id': 'CL:0000129', 'ontology_label': 'microglial cell', 'sentence': 'Additionally, mutations in the APOE gene have been linked to neurodegenerative disorders, impacting astrocytes and microglia function.', 'start': 100, 'end': 109, 'judge_score': 1.0, 'paper_location': 'unknown', 'paper_title': 'unknown', 'doi': 'unknown'}]}}\n"
     ]
    }
   ],
   "source": [
    "print(type(result))\n",
    "\n",
    "print(result)"
   ]
  },
  {
   "cell_type": "code",
   "execution_count": 14,
   "id": "56a2f9f2-1a26-40b4-9963-e63c4bab5420",
   "metadata": {},
   "outputs": [
    {
     "name": "stdout",
     "output_type": "stream",
     "text": [
      "{\n",
      "  \"judged_structured_information\": {\n",
      "    \"1\": [\n",
      "      {\n",
      "        \"entity\": \"APOE\",\n",
      "        \"label\": \"GENE\",\n",
      "        \"ontology_id\": \"HGNC:613\",\n",
      "        \"ontology_label\": \"APOE\",\n",
      "        \"sentence\": \"Additionally, mutations in the APOE gene have been linked to neurodegenerative disorders, impacting astrocytes and microglia function.\",\n",
      "        \"start\": 26,\n",
      "        \"end\": 30,\n",
      "        \"judge_score\": 1.0,\n",
      "        \"paper_location\": \"unknown\",\n",
      "        \"paper_title\": \"unknown\",\n",
      "        \"doi\": \"unknown\"\n",
      "      }\n",
      "    ],\n",
      "    \"2\": [\n",
      "      {\n",
      "        \"entity\": \"neurodegenerative disorders\",\n",
      "        \"label\": \"DISORDER\",\n",
      "        \"ontology_id\": \"MONDO:0021060\",\n",
      "        \"ontology_label\": \"neurodegenerative disease\",\n",
      "        \"sentence\": \"Additionally, mutations in the APOE gene have been linked to neurodegenerative disorders, impacting astrocytes and microglia function.\",\n",
      "        \"start\": 49,\n",
      "        \"end\": 74,\n",
      "        \"judge_score\": 1.0,\n",
      "        \"paper_location\": \"unknown\",\n",
      "        \"paper_title\": \"unknown\",\n",
      "        \"doi\": \"unknown\"\n",
      "      }\n",
      "    ],\n",
      "    \"3\": [\n",
      "      {\n",
      "        \"entity\": \"astrocytes\",\n",
      "        \"label\": \"CELL_TYPE\",\n",
      "        \"ontology_id\": \"CL:0000127\",\n",
      "        \"ontology_label\": \"astrocyte\",\n",
      "        \"sentence\": \"Additionally, mutations in the APOE gene have been linked to neurodegenerative disorders, impacting astrocytes and microglia function.\",\n",
      "        \"start\": 85,\n",
      "        \"end\": 95,\n",
      "        \"judge_score\": 1.0,\n",
      "        \"paper_location\": \"unknown\",\n",
      "        \"paper_title\": \"unknown\",\n",
      "        \"doi\": \"unknown\"\n",
      "      }\n",
      "    ],\n",
      "    \"4\": [\n",
      "      {\n",
      "        \"entity\": \"microglia\",\n",
      "        \"label\": \"CELL_TYPE\",\n",
      "        \"ontology_id\": \"CL:0000129\",\n",
      "        \"ontology_label\": \"microglial cell\",\n",
      "        \"sentence\": \"Additionally, mutations in the APOE gene have been linked to neurodegenerative disorders, impacting astrocytes and microglia function.\",\n",
      "        \"start\": 100,\n",
      "        \"end\": 109,\n",
      "        \"judge_score\": 1.0,\n",
      "        \"paper_location\": \"unknown\",\n",
      "        \"paper_title\": \"unknown\",\n",
      "        \"doi\": \"unknown\"\n",
      "      }\n",
      "    ]\n",
      "  }\n",
      "}\n"
     ]
    }
   ],
   "source": [
    "import json\n",
    "print(json.dumps(result, indent=2))"
   ]
  }
 ],
 "metadata": {
  "kernelspec": {
   "display_name": "Python 3 (ipykernel)",
   "language": "python",
   "name": "python3"
  },
  "language_info": {
   "codemirror_mode": {
    "name": "ipython",
    "version": 3
   },
   "file_extension": ".py",
   "mimetype": "text/x-python",
   "name": "python",
   "nbconvert_exporter": "python",
   "pygments_lexer": "ipython3",
   "version": "3.11.7"
  }
 },
 "nbformat": 4,
 "nbformat_minor": 5
}
